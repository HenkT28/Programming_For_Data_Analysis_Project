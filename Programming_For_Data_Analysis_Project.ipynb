{
 "cells": [
  {
   "cell_type": "markdown",
   "metadata": {},
   "source": [
    "## References\n",
    "\n",
    "[1] Software Freedom Conservancy. Git.\n",
    "\n",
    "https://git-scm.com/.\n",
    "\n",
    "[2] Inc. GitHub. Github.\n",
    "\n",
    "https://github.com/.\n",
    "\n",
    "[3] GMIT. Quality assurance framework.\n",
    "\n",
    "https://www.gmit.ie/general/quality-assurance-framework.\n",
    "\n",
    "[4] NumPy developers. Numpy.\n",
    "\n",
    "http://www.numpy.org/.\n",
    "\n",
    "[5] Project Jupyter. Project jupyter home.\n",
    "\n",
    "http://jupyter.org/.\n",
    "\n",
    "[6] Anaconda\n",
    "\n",
    "https://docs.anaconda.com/anaconda/\n",
    "\n",
    "[7] Python\n",
    "\n",
    "https://www.python.org/downloads/\n",
    "\n",
    "[8] Cmder software\n",
    "\n",
    "https://cmder.net/\n",
    "\n",
    "[9] https://pandas.pydata.org/\n",
    "\n",
    "[10] https://matplotlib.org/\n",
    "\n",
    "[11] Seaborn\n",
    "\n",
    "https://anaconda.org/anaconda/seaborn\n",
    "\n",
    "[12] https://www.scipy.org/\n",
    "\n",
    "[13] https://code.visualstudio.com/docs"
   ]
  }
 ],
 "metadata": {
  "kernelspec": {
   "display_name": "Python 3",
   "language": "python",
   "name": "python3"
  },
  "language_info": {
   "codemirror_mode": {
    "name": "ipython",
    "version": 3
   },
   "file_extension": ".py",
   "mimetype": "text/x-python",
   "name": "python",
   "nbconvert_exporter": "python",
   "pygments_lexer": "ipython3",
   "version": "3.7.4"
  }
 },
 "nbformat": 4,
 "nbformat_minor": 2
}
