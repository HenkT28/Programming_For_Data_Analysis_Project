{
 "cells": [
  {
   "cell_type": "markdown",
   "metadata": {},
   "source": [
    "# This Jupyter Notebook contains the instructions for Programming for Data Analysis Project 2019\n",
    "\n",
    "### GMIT H.Dip Data Analytics - Academic Year 2019 - 2020\n",
    "\n",
    "Student: Henk Tjalsma\n",
    "\n",
    "GMIT email address:\n",
    "\n",
    "G00376321@gmit.ie"
   ]
  },
  {
   "cell_type": "markdown",
   "metadata": {},
   "source": [
    "## Problem statement\n",
    "\n",
    "For this project I created a data set by simulating a real-world phenomenon of my choosing. I could pick any phenomenon I wished – you can pick one that is of interest to you in your personal or professional life. Then, rather than collect data related to the phenomenon, you should model and synthesise such data using Python.\n",
    "\n",
    "It was suggested to use the numpy.random package for this purpose.\n",
    "\n",
    "Specifically, in this project you should:\n",
    "\n",
    "1. Choose a real-world phenomenon that can be measured and for which you could collect at least one-hundred data points across at least four different variables.\n",
    "\n",
    "2. Investigate the types of variables involved, their likely distributions, and their relationships with each other.\n",
    "\n",
    "3. Synthesise/simulate a data set as closely matching their properties as possible.\n",
    "\n",
    "4. Detail your research and implement the simulation in a Jupyter notebook – the data set itself can simply be displayed in an output cell within the notebook.\n",
    "\n",
    "Note that this project is about simulation – you must synthesise a data set. Some students may already have some real-world data sets in their own files. It is okay to base your synthesised data set on these should you wish (please reference it if you do), but the main task in this project is to create a synthesised data set."
   ]
  },
  {
   "cell_type": "markdown",
   "metadata": {},
   "source": [
    "### What is a synthetic dataset?\n",
    "\n",
    "As the name suggests, quite obviously, a synthetic dataset is a repository of data that is generated programmatically. So, it is not collected by any real-life survey or experiment. Its main purpose, therefore, is to be flexible and rich enough to help an ML practitioner conduct fascinating experiments with various classification, regression, and clustering algorithms. [21]\n",
    "\n",
    "Desired properties are:\n",
    "\n",
    "* It can be numerical, binary, or categorical (ordinal or non-ordinal).\n",
    "\n",
    "* The number of features and length of the dataset should be arbitrary.\n",
    "\n",
    "* It should preferably be random and the user should be able to choose a wide variety of statistical distribution to base this data upon i.e. the underlying random process can be precisely controlled and tuned.\n",
    "\n",
    "* If it is used for classification algorithms, then the degree of class separation should be controllable to make the learning problem easy or hard.\n",
    "\n",
    "* Random noise can be interjected in a controllable manner\n",
    "\n",
    "* For a regression problem, a complex, non-linear generative process can be used for sourcing the data."
   ]
  },
  {
   "cell_type": "markdown",
   "metadata": {},
   "source": [
    "### Real-World Phenomenon \n",
    "\n",
    "The phenomenon I have picked is the long hours teenagers (13 - 19 years) are spending on their mobile nowadays, and the stress, anxiety, isolation, sleep deprivation, unhappiness, just to name a few, it can cause.\n",
    "\n",
    "I can see it with our own teenage daughter, 15 years old, who is spending a lot of time on her mobile when at home. This means we are required to restrict the wifi use. I do know from other parents we talked to they are more lenient on it, as the topic was causing a lot of arguments. To be honest, many parents have given up on setting any wifi restriction at all, for older teenagers, even so that some are allowed to have the mobile in the bedroom all night. \n",
    "\n",
    "Although it's a natural process to some extent, we noticed our daughter tends to isolate to her bedroom a lot more, meaning the interaction with the family is very limited.  Also she seems to spend less time with her peers socialising. \n",
    "\n",
    "Furthermore our daugher was big into sports as a young teenager, but since a few years has given up on that completely. This means she doesn't get the pyhysical and mental release she needs. On top she stays up longer or awake in the evening, as her mind isn't switched off, and so she doesn't get enough sleep, and sleep deprivation kicks in.\n",
    "\n",
    "![mobile](mobile.jpg)\n",
    "\n",
    "An article in the Irish Times confirms my conclusions, below some quotes:\n",
    "\n",
    "<https://www.irishtimes.com/business/technology/phone-and-internet-use-making-teenagers-unhappier-than-previous-generations-1.3833840>\n",
    "\n",
    "* \"Teenagers who spend long hours browsing through social media and using their smartphones are significantly less happy and more likely to become depressed than previous generations of young people, a UN study has found.\"\n",
    "\n",
    "* \"Research carried out among teenagers born after 1995 in the US has found that happiness among American teenagers has declined significantly since 2012 while the time young people spend on screen activities has steadily increased.\"\n",
    "\n",
    "* \"The Sad State of Happiness in the United States and the Role of Digital Media report, released this week as part of the UN World Happiness study, argues that young people who spend more time with friends and family, exercising and sleeping are happier than peers who spend hours every day using the internet and smartphones.\"\n",
    "\n",
    "* \"It warns that those born after 1995 as part of the iGen generation are “markedly lower in psychological well-being” than millennials (born between 1980-1994) were at the same age.\"\n",
    "\n",
    "##### Rise in digital media\n",
    "* \"Author of the report Dr Jean Twenge, professor of psychology at San Diego State University, notes that while happiness levels among young people increased between 1991 and 2011, both adults and adolescents said they were significantly less happy in 2016-17 compared to how they felt in the early 2000s. Dr Twenge draws a strong correlation between these feelings of unhappiness and the rapid increase in the number of people using smartphones in recent years. This rise in digital media use has resulted in teenagers spending less time with their peers socialising and going to parties, notes Dr Twenge, adding that the way adolescents spend time together has “fundamentally shifted”. She writes that depression, suicidal thoughts and self-harm have increased sharply among teens since 2010, particularly among young women and girls in the US and teens in the UK. In 2017, the average 17/18 year old spent more than six hours a day using the internet, on social media and texting. By 2018, 95 per cent of US teenagers had access to a smartphone while 45 per cent said they were “almost constantly” online. Girls who spend five or more hours a day on social media were found to be three times more likely to be depressed than non-social media users while heavy internet users were twice as likely to be unhappy.\""
   ]
  },
  {
   "cell_type": "markdown",
   "metadata": {},
   "source": [
    "#### Most Interesting Variables related to this Real-World Phenomenon\n",
    "\n",
    "    1. The most interesting variable in this project is the hours teenagers spent on the mobile \n",
    "    (Hours).\n",
    "\n",
    "    2.  Also the age of the teenager is important as the number of hours on the mobile I assume \n",
    "    will go up when they get older (Age). \n",
    "\n",
    "    3. Another variable of interest, the sex of the teenager (Sex). I assume girls spent more time on \n",
    "    it than boys. \n",
    "\n",
    "Even though the focus of this piece has been on mobile phones, and number of hours teens spent on it, having access to other mobile devices that connect them to other people and other networks, might be worth checking as well. The most prevalent of these devices are mobile gaming devices like XBox, Sony PlayStation Portable (PSP), tablets, etc. Mobile gaming devices are owned predominantly by younger teens (those ages 12-14). [16]\n",
    "\n",
    "    4. Access to other mobile devices (Other_Devices), or not.\n",
    "\n",
    "    5. Also an interesting variable is Household Income (Income), so the difference in phone\n",
    "    ownership by socio-economic status.\n",
    "\n",
    "    6. Another variable I would like to research is Race/Ethnicity, and if there are any \n",
    "    discrepancies between groups.  \n",
    "\n",
    "\n",
    "##### Numpy Distributions to Create Synthesised Data Set\n",
    "\n",
    "<https://docs.scipy.org/doc/numpy-1.14.0/reference/routines.random.html>\n",
    "\n",
    "* The hours per week (Hours) variable will be a non-negative real number with one, or two decimal places. \n",
    "\n",
    "Based on below Uniform Definition I think Normal Distribution fits better (Real-Valued Distributions):\n",
    "\n",
    "If you need to generate random floats that lie within a specific [x, y] interval, you can use random.uniform(), which plucks from the continuous uniform distribution.\n",
    "\n",
    "A uniform distribution (often called 'rectangular') is one in which all values between two boundaries occur roughly equally. \n",
    "\n",
    "If the hours per week matter as it will be in this project, there’s usually some non-uniformity, unless the hours have been constructed to be uniform: as for controlled studies.\n",
    "\n",
    "So I'm looking at my own daughter, who is on her mobile every weekday 2 hours at least, and in the weekends sometimes 4 hours per day, so 18 hours in total per week. So I will check if 15 year old teenagers do spent that amount of time on the mobile, on average per week. As standard deviation I will take 3 hours and will use a normal distribution for this.\n",
    "\n",
    "* The Age variable is a continuous numerical variable, an integer.\n",
    "\n",
    "Based on Functions for Integers [25] randint makes sense. I will generate a random set of integers, and do so for 1000 data points, and for the ages 13 till 19. \n",
    "\n",
    "You can generate a random integer between two endpoints in Python with the random.randint() function. This spans the full [x, y] interval and may include both endpoints. [22]\n",
    "\n",
    "* The Sex (sex) variable will be B/G (Boy/Girl) and I'll use the binomial distribution.\n",
    "\n",
    "* Access to other mobile devices (Other_Devices), it can have the values Yes/No. Again binomial distribution might do. \n",
    "\n",
    "Alternatively I can create categorical variable, with a number of choices. You can use np.random.choice() and specify a vector of probabilities corresponding to the chosen-from arrray. [20]\n",
    "\n",
    "random.choice(seq)\n",
    "\n",
    "    Return a random element from the non-empty sequence seq. If seq is empty, raises IndexError.\n",
    "\n",
    "* The other 2 variables, Household Income (Income) and Race/Ethnicity, are categorical variables with a number of possible values. Normal or Uniform distribution maybe, or np.random.choice() again."
   ]
  },
  {
   "cell_type": "code",
   "execution_count": 1,
   "metadata": {},
   "outputs": [],
   "source": [
    "# Import python packages\n",
    "## Numpy is used for creating fake data\n",
    "import numpy as np\n",
    "import pandas as pd\n",
    "import matplotlib.pyplot as plt\n",
    "import matplotlib as mpl \n",
    "import seaborn as sns\n",
    "\n",
    "## Agg backend is used to create plot as a .png file\n",
    "mpl.use('agg')\n",
    "\n",
    "# Magic command to use matplotlib nicely in the notebook\n",
    "%matplotlib inline"
   ]
  },
  {
   "cell_type": "markdown",
   "metadata": {},
   "source": [
    "So through numpy I created an array of 1000 teenagers between ages 13 and including 19 using the randint distribution. "
   ]
  },
  {
   "cell_type": "code",
   "execution_count": 2,
   "metadata": {},
   "outputs": [],
   "source": [
    "# Generate random set of (integers) of teenagers, different ages between 13 to 19\n",
    "# numpy.random.randint(low, high=None, size=None, dtype='l')\n",
    "\n",
    "# Returns random integers from the “discrete uniform” distribution of specified dtype in the “half-open” interval [low, high). \n",
    "\n",
    "teenagers_age = np.random.randint(13, 20, 1000)"
   ]
  },
  {
   "cell_type": "code",
   "execution_count": 3,
   "metadata": {},
   "outputs": [
    {
     "data": {
      "text/plain": [
       "array([14, 19, 17, 14, 14, 18, 14, 19, 14, 14, 18, 19, 14, 17, 18, 16, 16,\n",
       "       18, 16, 16, 16, 14, 16, 14, 13, 18, 15, 15, 13, 17, 17, 17, 14, 16,\n",
       "       16, 14, 13, 18, 19, 17, 18, 16, 19, 13, 14, 19, 18, 14, 13, 14, 15,\n",
       "       16, 16, 19, 16, 18, 19, 17, 14, 18, 15, 13, 14, 15, 18, 13, 14, 13,\n",
       "       16, 14, 18, 16, 17, 15, 19, 16, 18, 14, 13, 19, 14, 15, 14, 16, 14,\n",
       "       19, 19, 13, 17, 13, 16, 19, 16, 13, 18, 19, 19, 13, 17, 16, 16, 14,\n",
       "       17, 16, 19, 18, 15, 17, 19, 19, 16, 14, 19, 14, 15, 15, 15, 19, 13,\n",
       "       14, 13, 13, 15, 19, 16, 14, 15, 16, 19, 13, 17, 19, 13, 19, 17, 15,\n",
       "       17, 18, 18, 16, 16, 14, 19, 19, 18, 14, 16, 17, 17, 13, 13, 13, 18,\n",
       "       13, 17, 17, 19, 13, 16, 19, 17, 19, 15, 15, 13, 16, 13, 14, 17, 14,\n",
       "       18, 18, 16, 15, 19, 17, 13, 13, 16, 15, 15, 15, 15, 14, 16, 19, 14,\n",
       "       13, 13, 16, 15, 13, 14, 16, 13, 16, 14, 15, 17, 16, 15, 19, 13, 15,\n",
       "       14, 13, 18, 14, 16, 14, 14, 13, 16, 19, 17, 13, 18, 13, 14, 19, 18,\n",
       "       13, 14, 18, 14, 14, 13, 13, 18, 14, 19, 13, 17, 19, 14, 16, 13, 13,\n",
       "       18, 17, 19, 14, 16, 16, 16, 13, 17, 13, 14, 19, 18, 18, 16, 15, 13,\n",
       "       14, 15, 15, 15, 16, 15, 16, 18, 15, 14, 17, 16, 18, 18, 16, 15, 15,\n",
       "       13, 13, 18, 13, 19, 18, 18, 16, 16, 18, 18, 19, 18, 14, 17, 19, 13,\n",
       "       17, 17, 16, 14, 15, 16, 18, 15, 17, 15, 17, 13, 19, 17, 14, 18, 19,\n",
       "       18, 13, 16, 16, 13, 18, 19, 13, 14, 18, 19, 16, 17, 14, 17, 19, 15,\n",
       "       17, 17, 19, 14, 15, 19, 13, 16, 16, 16, 13, 19, 19, 18, 16, 15, 18,\n",
       "       15, 19, 17, 17, 19, 18, 13, 15, 14, 17, 14, 17, 14, 13, 16, 17, 19,\n",
       "       17, 13, 16, 16, 18, 18, 19, 15, 19, 15, 17, 14, 18, 13, 17, 15, 19,\n",
       "       16, 17, 15, 16, 19, 13, 18, 19, 16, 16, 14, 18, 17, 18, 18, 15, 13,\n",
       "       15, 16, 14, 18, 18, 18, 17, 19, 16, 13, 19, 16, 13, 16, 14, 19, 18,\n",
       "       14, 19, 17, 16, 19, 16, 13, 17, 16, 19, 19, 16, 17, 18, 15, 15, 13,\n",
       "       13, 15, 13, 17, 17, 15, 15, 13, 17, 19, 13, 15, 19, 18, 14, 16, 18,\n",
       "       19, 14, 15, 18, 16, 16, 13, 14, 15, 15, 14, 13, 15, 13, 14, 18, 19,\n",
       "       18, 18, 19, 14, 18, 15, 13, 17, 15, 16, 16, 13, 16, 18, 13, 16, 16,\n",
       "       15, 18, 15, 18, 17, 19, 17, 15, 13, 14, 13, 15, 18, 19, 16, 19, 14,\n",
       "       19, 13, 17, 19, 16, 13, 16, 18, 13, 18, 17, 15, 15, 19, 16, 14, 13,\n",
       "       14, 19, 17, 14, 19, 15, 17, 18, 17, 14, 15, 14, 15, 19, 15, 18, 17,\n",
       "       16, 15, 19, 16, 19, 18, 14, 19, 18, 13, 18, 16, 15, 17, 16, 15, 18,\n",
       "       17, 18, 13, 13, 17, 15, 16, 17, 17, 13, 14, 15, 15, 14, 16, 17, 14,\n",
       "       15, 19, 19, 17, 16, 17, 15, 19, 16, 15, 19, 16, 17, 16, 13, 19, 16,\n",
       "       13, 15, 15, 14, 13, 19, 17, 16, 15, 15, 19, 15, 15, 19, 16, 19, 16,\n",
       "       13, 16, 13, 19, 16, 17, 18, 19, 16, 16, 13, 19, 18, 13, 19, 13, 15,\n",
       "       17, 17, 13, 14, 15, 18, 19, 19, 19, 16, 13, 14, 17, 15, 15, 19, 13,\n",
       "       13, 15, 17, 14, 17, 17, 19, 17, 17, 18, 13, 15, 15, 18, 16, 15, 13,\n",
       "       15, 14, 13, 19, 19, 17, 15, 18, 17, 13, 15, 16, 15, 15, 17, 17, 16,\n",
       "       16, 15, 18, 13, 17, 13, 18, 17, 19, 18, 19, 16, 15, 13, 17, 19, 13,\n",
       "       19, 19, 13, 19, 17, 14, 15, 14, 16, 14, 17, 18, 16, 18, 18, 16, 13,\n",
       "       13, 15, 13, 17, 17, 15, 16, 18, 17, 13, 18, 16, 18, 14, 14, 13, 13,\n",
       "       17, 19, 13, 14, 16, 15, 19, 14, 13, 14, 14, 13, 19, 19, 13, 15, 18,\n",
       "       15, 13, 15, 15, 14, 17, 17, 14, 17, 16, 17, 17, 14, 15, 14, 17, 19,\n",
       "       17, 19, 17, 19, 16, 15, 18, 19, 14, 17, 14, 14, 15, 14, 18, 17, 17,\n",
       "       19, 16, 18, 16, 13, 16, 13, 14, 19, 17, 18, 13, 17, 18, 18, 15, 18,\n",
       "       17, 16, 16, 18, 13, 19, 15, 18, 17, 16, 16, 15, 17, 18, 19, 18, 17,\n",
       "       16, 19, 18, 19, 18, 13, 13, 17, 15, 15, 13, 13, 18, 13, 14, 13, 16,\n",
       "       14, 15, 15, 19, 13, 19, 14, 18, 16, 17, 15, 19, 19, 14, 17, 17, 16,\n",
       "       16, 14, 15, 17, 14, 14, 19, 18, 14, 18, 19, 18, 14, 18, 13, 14, 19,\n",
       "       17, 18, 19, 15, 16, 19, 17, 14, 15, 17, 15, 14, 14, 18, 16, 14, 13,\n",
       "       17, 13, 15, 17, 18, 13, 15, 13, 16, 16, 14, 15, 16, 17, 13, 15, 13,\n",
       "       17, 15, 13, 19, 13, 15, 18, 13, 16, 13, 16, 18, 14, 13, 18, 19, 14,\n",
       "       16, 19, 15, 16, 18, 13, 17, 13, 19, 19, 18, 14, 16, 19, 15, 17, 16,\n",
       "       14, 14, 13, 16, 18, 15, 19, 15, 17, 15, 15, 19, 16, 14, 14, 14, 17,\n",
       "       13, 13, 16, 18, 14, 15, 19, 16, 18, 17, 16, 13, 14, 17, 19, 15, 19,\n",
       "       19, 17, 16, 13, 17, 15, 16, 14, 19, 15, 17, 19, 17, 15, 18, 14, 19,\n",
       "       15, 16, 16, 15, 14, 17, 19, 17, 15, 16, 15, 14, 16, 18, 14, 16, 15,\n",
       "       14, 16, 17, 18, 13, 15, 18, 13, 15, 18, 19, 18, 14, 13])"
      ]
     },
     "execution_count": 3,
     "metadata": {},
     "output_type": "execute_result"
    }
   ],
   "source": [
    "teenagers_age"
   ]
  },
  {
   "cell_type": "code",
   "execution_count": 4,
   "metadata": {},
   "outputs": [
    {
     "name": "stdout",
     "output_type": "stream",
     "text": [
      "\n",
      "Mean of Teenagers Age, axis = None :  15.976\n"
     ]
    }
   ],
   "source": [
    "# mean of the flattened array  \n",
    "print(\"\\nMean of Teenagers Age, axis = None : \", np.mean(teenagers_age))  "
   ]
  },
  {
   "cell_type": "markdown",
   "metadata": {},
   "source": [
    "The numpy.mean() in Python, computes the arithmetic mean (average) of the given data (array elements) along the specified axis. [26] "
   ]
  },
  {
   "cell_type": "code",
   "execution_count": 5,
   "metadata": {},
   "outputs": [
    {
     "data": {
      "text/plain": [
       "15.976"
      ]
     },
     "execution_count": 5,
     "metadata": {},
     "output_type": "execute_result"
    }
   ],
   "source": [
    "# Average age of the sample of teenagers\n",
    "np.mean(teenagers_age)"
   ]
  },
  {
   "cell_type": "markdown",
   "metadata": {},
   "source": [
    "##### Boxplot and Violin plots - visual representation of five point summary statistics of this array\n",
    "\n",
    "A Box Plot is a visual representation of five point summary statistics of a given data set. A five number summary includes:\n",
    "\n",
    "    Minimum\n",
    "    First Quartile\n",
    "    Median (Second Quartile)\n",
    "    Third Quartile\n",
    "    Maximum\n",
    "\n",
    "Also, a point worth noticing is that a boxplot is created for Categorical — Continuous Variables which means that if the x -axis is categorical and y axis is continuous then a boxplot or a violin plot should be created.\n",
    "\n",
    "The violin plots are similar to the boxplots. The same can be seen in the image below.\n",
    "\n",
    "![difference_boxplot_violinplot](difference_boxplot_violinplot.png)"
   ]
  },
  {
   "cell_type": "code",
   "execution_count": 34,
   "metadata": {},
   "outputs": [
    {
     "data": {
      "image/png": "[encoded data removed]",
      "text/plain": [
       "<Figure size 432x288 with 1 Axes>"
      ]
     },
     "metadata": {
      "needs_background": "light"
     },
     "output_type": "display_data"
    },
    {
     "data": {
      "text/plain": [
       "<Figure size 432x288 with 0 Axes>"
      ]
     },
     "metadata": {},
     "output_type": "display_data"
    }
   ],
   "source": [
    "# Create the boxplot\n",
    "# Add patch_artist=True option to boxplot() to get fill color\n",
    "# Labels will be used to label x-ticks\n",
    "labels = ['Age']\n",
    "plt.boxplot(teenagers_age, vert=True, notch=True, showmeans=True, patch_artist=True, labels=labels)\n",
    "plt.show()\n",
    "\n",
    "plt.savefig(\"boxplot.png\")"
   ]
  },
  {
   "cell_type": "code",
   "execution_count": 58,
   "metadata": {},
   "outputs": [
    {
     "data": {
      "text/plain": [
       "array([13.3 , 17.92, 21.08, 16.34, 15.08, 14.29, 21.3 , 19.19, 20.45,\n",
       "       23.53, 20.82, 19.27, 13.32, 17.55, 15.51, 17.04, 14.35, 15.  ,\n",
       "       22.91, 17.21, 16.03, 18.51, 18.79, 15.88, 16.93, 15.64, 15.65,\n",
       "       18.9 , 16.93, 10.72, 14.22, 16.48, 21.38, 20.85, 23.04, 12.93,\n",
       "       19.74, 14.65, 17.8 , 10.4 , 14.97, 17.39, 18.98, 13.69, 16.41,\n",
       "       12.19, 12.64, 17.98, 18.06, 16.53, 21.37, 18.55, 14.63, 20.62,\n",
       "       21.77, 23.89, 16.58, 15.31, 18.32, 19.23, 18.91, 16.26, 18.12,\n",
       "       19.38, 22.48, 17.1 , 19.97, 19.72, 14.8 , 19.27, 16.43, 22.04,\n",
       "       18.29, 15.7 , 15.43, 19.19, 21.96, 20.88, 12.97, 19.12, 20.39,\n",
       "       20.86, 18.79, 15.37, 17.49, 13.96, 13.66, 22.53, 16.41, 13.8 ,\n",
       "       16.3 , 26.23, 19.23, 20.15, 15.03, 22.06, 18.6 , 14.7 , 18.14,\n",
       "       18.3 , 12.36, 14.47, 19.46, 17.17, 21.57, 14.89, 18.51, 16.26,\n",
       "       19.59, 16.5 , 14.02, 15.24, 20.04, 17.15, 21.49, 20.37, 17.04,\n",
       "       19.58, 18.41, 19.36, 12.79, 18.27, 19.46, 13.94, 15.9 , 19.56,\n",
       "       20.17, 18.3 , 22.59, 16.48, 11.97, 18.84, 17.7 , 17.05, 16.82,\n",
       "       17.14, 19.66, 18.51, 17.71, 21.17, 22.44, 20.16, 16.08, 17.9 ,\n",
       "       16.33, 21.36, 21.17, 17.54, 18.54, 14.29, 16.81, 14.2 , 20.75,\n",
       "       18.92, 15.49, 15.55, 16.82, 26.58, 17.4 , 16.24, 12.44, 19.69,\n",
       "       18.97, 18.97, 18.18, 15.32, 18.37, 14.35, 19.22, 18.04, 18.11,\n",
       "       22.09, 19.75, 18.87, 17.02, 16.68, 20.17, 17.78, 16.01, 18.35,\n",
       "       12.71, 14.01, 15.94, 15.81, 15.89, 19.02, 24.74, 16.5 , 20.67,\n",
       "       16.03, 14.33, 20.22, 16.21, 19.06, 13.94, 19.62, 17.04, 23.64,\n",
       "       19.87, 22.47, 15.68, 18.59, 17.73, 18.53, 16.85, 14.4 , 15.04,\n",
       "       20.83, 19.28, 22.09, 19.92, 18.73, 16.93, 20.74, 16.15, 16.04,\n",
       "       24.32, 15.12, 16.33, 23.36, 20.23, 18.16, 19.18, 18.59, 19.05,\n",
       "       19.74, 16.09, 18.98, 22.77, 21.98, 22.31, 23.17, 15.62, 18.24,\n",
       "       18.6 , 18.93, 23.34, 17.28, 22.68, 22.63, 15.3 , 16.4 , 19.61,\n",
       "       17.96, 23.15, 17.55, 14.89, 13.77, 18.19, 13.71, 17.5 , 19.57,\n",
       "       17.82, 19.35, 18.56, 14.94, 14.56, 18.89, 15.42, 19.03, 21.93,\n",
       "       16.25, 21.88, 17.77, 17.77, 19.38, 19.11, 13.53, 19.98, 23.45,\n",
       "       17.9 , 10.81, 18.35, 14.57, 20.6 , 11.85, 16.26, 14.68, 18.89,\n",
       "       25.13, 20.69, 21.63, 21.1 , 22.74, 18.8 , 20.96, 19.26, 15.15,\n",
       "       16.14, 21.94, 14.31, 19.1 , 18.84, 21.43, 21.21, 17.32, 19.16,\n",
       "       14.61, 19.6 , 21.19, 20.98, 20.66, 21.66, 16.51, 18.91, 16.7 ,\n",
       "       18.49, 18.02, 14.44, 18.48, 15.99, 13.99, 17.78, 17.44, 17.73,\n",
       "       17.93, 20.03, 16.24, 20.7 , 10.8 , 21.75, 16.53, 21.88, 17.62,\n",
       "       19.98, 17.11, 20.  , 21.04, 21.62,  9.68, 17.77, 16.19, 15.92,\n",
       "       13.15, 22.94, 15.73, 14.25, 17.7 , 20.38, 15.56, 11.92, 18.59,\n",
       "       16.87, 20.14, 16.91, 19.7 , 20.03, 18.18, 18.05, 18.76, 19.69,\n",
       "       17.24, 15.16, 16.41, 14.13, 21.17, 13.61, 22.79, 17.25, 15.87,\n",
       "       15.65, 15.04, 17.5 , 13.63, 15.23, 21.48, 13.92, 21.15, 13.06,\n",
       "       17.82, 17.23, 14.65, 26.66, 16.64, 17.16, 23.78, 16.84, 21.58,\n",
       "       16.65, 17.66, 15.19, 20.14, 21.92, 16.55, 17.94, 16.58, 20.82,\n",
       "       12.6 , 16.47, 16.96, 20.57, 15.2 , 21.06, 18.52, 21.06, 18.62,\n",
       "       19.6 , 18.3 , 18.68, 16.55, 17.98, 20.51, 20.14, 21.47, 18.25,\n",
       "       16.96, 18.06, 21.27, 17.51, 16.81, 15.47, 13.97, 18.44, 21.18,\n",
       "       15.7 , 16.02, 19.12, 22.62, 20.18, 18.55, 20.24, 17.97, 14.87,\n",
       "       17.16, 19.71, 22.64, 16.04, 14.2 , 18.06, 18.42, 20.54, 17.45,\n",
       "       17.12, 18.45, 15.06, 16.59, 13.19, 13.83, 17.63, 16.17, 22.51,\n",
       "       20.87, 19.36, 17.43, 17.52, 14.69, 15.85, 16.58, 17.63, 21.17,\n",
       "       17.28, 22.52, 20.75, 16.18, 19.31, 18.27, 18.93, 23.98, 15.89,\n",
       "       15.66, 17.71, 14.06, 17.25, 21.2 , 17.25, 19.89, 11.36, 16.41,\n",
       "       17.01, 17.08, 11.61, 17.37, 17.73, 17.4 , 15.87, 18.7 , 19.09,\n",
       "       21.79, 15.87, 15.78, 19.02, 15.37, 25.72, 18.49, 21.2 , 18.05,\n",
       "       20.  , 17.95, 11.68, 22.2 , 20.01, 24.48, 10.76, 20.  , 20.72,\n",
       "       16.51, 14.34, 21.98, 17.72, 15.95, 13.78, 18.31, 18.04, 16.05,\n",
       "       26.65, 14.35, 17.7 , 21.13, 16.44, 21.48, 13.36, 21.37, 14.96,\n",
       "       22.28, 23.12, 24.35, 13.28, 23.5 , 20.92, 14.85, 17.33, 17.06,\n",
       "       20.45, 19.33, 16.81, 19.07, 18.25, 22.34, 17.46, 14.44, 19.26,\n",
       "       20.4 , 18.44, 19.94, 13.68, 19.93, 16.1 , 15.53, 18.92, 14.49,\n",
       "        8.03, 23.55, 18.05, 18.39, 19.9 , 18.56, 15.18, 20.98, 17.83,\n",
       "       17.08, 15.3 , 15.89, 22.57, 14.93, 20.81, 22.8 , 20.06, 16.17,\n",
       "       20.68, 16.26, 19.19, 13.58, 13.65, 22.01, 16.86, 15.67, 19.13,\n",
       "       21.24, 15.25, 20.78, 16.45, 17.43, 17.13, 15.76, 17.22, 21.21,\n",
       "       19.26, 13.59, 19.44, 10.83, 15.35, 19.78, 21.17, 16.96, 18.17,\n",
       "       17.99, 19.83, 18.34, 19.32,  9.73, 16.17, 18.32, 18.87, 19.98,\n",
       "       21.28, 20.68, 20.64, 16.67, 17.67, 19.3 , 20.57, 17.03, 21.54,\n",
       "       10.72, 17.33, 25.55, 14.44, 21.37, 17.65, 19.93, 13.3 , 19.06,\n",
       "       19.65, 17.65, 15.65, 19.64, 18.62, 17.97, 14.6 , 18.84, 18.16,\n",
       "       18.65, 19.72, 21.37, 15.79, 20.52, 20.39, 19.27, 21.62, 17.11,\n",
       "       16.53, 21.76, 19.16, 15.15, 17.62, 21.04, 21.08,  9.85, 15.52,\n",
       "       14.99, 21.37, 13.48, 10.79, 19.88, 21.97, 21.31, 19.67, 20.66,\n",
       "       14.32, 22.9 , 16.81, 13.73, 13.19, 18.26, 15.81, 16.62, 17.14,\n",
       "       15.97, 21.56, 18.84, 20.95, 22.23, 15.12, 22.81, 18.36, 18.19,\n",
       "       19.44, 15.62, 20.06, 22.42, 18.46, 15.27, 20.11, 20.51, 20.17,\n",
       "       19.07, 16.34, 18.73, 14.98, 19.27, 20.17, 19.49, 20.5 , 14.05,\n",
       "       15.51, 15.28, 17.73, 20.84, 17.32, 19.97, 19.21, 21.94, 22.31,\n",
       "       17.5 , 18.55, 17.41, 18.7 , 12.84, 16.2 , 20.18, 14.89, 12.88,\n",
       "       23.42, 21.79, 14.22, 15.54, 10.29, 25.22, 15.79, 22.15, 18.65,\n",
       "       18.03, 19.64, 17.34, 19.43, 15.61, 15.77, 18.39, 20.32, 16.69,\n",
       "       19.25, 18.62, 14.14, 18.43, 23.08, 19.85, 20.08, 14.11, 16.34,\n",
       "       21.79, 17.43, 22.18, 16.31, 13.53, 23.6 , 19.79, 17.8 , 13.37,\n",
       "       18.58, 21.82, 17.28, 19.85, 18.64, 22.41, 23.19, 16.25, 15.4 ,\n",
       "       15.62, 23.63, 18.2 , 17.85, 22.47, 13.74, 19.75, 14.  , 18.86,\n",
       "       19.45, 14.6 , 17.26, 18.98, 18.33, 14.08, 12.66, 20.89, 21.44,\n",
       "       15.96, 18.65, 16.3 , 16.49, 16.15, 21.96, 13.02, 17.82, 20.56,\n",
       "       22.02, 18.07, 18.54, 22.91, 14.7 , 21.75, 14.62, 16.07, 15.89,\n",
       "       15.75, 21.64, 14.9 , 20.84, 18.09, 19.52, 14.61, 13.4 , 19.37,\n",
       "       18.49, 19.1 , 16.53, 23.78, 24.27, 18.49, 18.34, 18.52, 16.35,\n",
       "       16.72, 16.86, 22.73, 15.62, 18.64, 23.39, 14.91, 23.51, 16.34,\n",
       "       14.09, 21.43, 17.25, 25.44, 15.12, 17.97, 16.7 , 14.52, 17.93,\n",
       "       15.43, 21.7 , 21.89, 18.46, 16.77, 17.74, 14.54, 19.86, 21.1 ,\n",
       "       18.99, 19.68, 10.61, 16.1 , 18.81, 24.15, 19.29, 13.95, 16.47,\n",
       "       13.63, 16.03, 20.76, 18.98, 20.61, 20.9 , 18.5 , 19.52, 18.54,\n",
       "       15.73, 12.78, 10.86, 17.85, 23.32, 16.5 , 20.11, 23.16, 19.72,\n",
       "       18.16, 20.5 , 16.98, 17.59, 22.84, 15.1 , 13.22, 16.57, 15.83,\n",
       "       27.23, 14.68, 15.93, 15.27, 11.23, 14.46, 17.62, 18.97, 27.19,\n",
       "       17.68, 23.9 , 21.24, 16.75, 18.43, 15.71, 17.9 , 15.83, 16.36,\n",
       "       19.14, 20.89, 19.38, 19.05, 23.07, 22.45, 17.55, 10.83, 19.2 ,\n",
       "       12.96, 14.18, 22.7 , 18.47, 19.2 , 16.93, 15.61, 12.97, 20.57,\n",
       "       13.42, 17.83, 21.74, 17.72, 18.44, 21.57, 18.28, 18.64, 22.16,\n",
       "       14.77, 14.76, 18.13, 19.66, 20.02, 19.09, 14.58, 17.68, 17.6 ,\n",
       "       15.79, 18.86, 20.68, 17.51, 22.57, 15.53, 18.04, 19.26, 17.24,\n",
       "       20.58, 17.22, 19.83, 13.95, 15.03, 16.1 , 12.86, 16.81, 13.91,\n",
       "       18.62, 14.3 , 14.4 , 13.84, 18.09, 14.38, 19.2 , 19.56, 17.04,\n",
       "       14.94, 19.67, 24.8 , 12.42, 21.23, 12.46, 18.15, 21.51, 19.  ,\n",
       "       19.34, 23.56, 19.72, 17.  , 17.55, 18.39, 23.54, 19.35, 14.05,\n",
       "       12.74, 19.84, 15.07, 22.62, 16.37, 19.39, 24.52, 18.26, 18.5 ,\n",
       "       18.26, 11.13, 21.17, 23.79, 17.11, 22.12, 20.75, 17.68, 15.89,\n",
       "       18.81, 20.17, 17.69, 17.14, 19.27, 11.91, 13.25, 17.11, 16.2 ,\n",
       "       23.97, 16.4 , 20.93, 19.2 , 15.24, 16.96, 16.89, 20.49, 14.92,\n",
       "       14.94])"
      ]
     },
     "execution_count": 58,
     "metadata": {},
     "output_type": "execute_result"
    }
   ],
   "source": [
    "# Generating numbers of hours per week on the mobile with mean of 18 using the normal distribution\n",
    "# Standard deviation of 3 hours\n",
    "hours_mobile = np.random.normal(18, 3, 1000).round(2)\n",
    "hours_mobile"
   ]
  },
  {
   "cell_type": "code",
   "execution_count": 64,
   "metadata": {},
   "outputs": [
    {
     "data": {
      "image/png": "[encoded data removed]",
      "text/plain": [
       "<Figure size 864x720 with 1 Axes>"
      ]
     },
     "metadata": {},
     "output_type": "display_data"
    }
   ],
   "source": [
    "# Histogram - average hours on mobile phone for teenagers\n",
    "plt.figure(figsize=(12,10), edgecolor='black', facecolor='white', clear='True')\n",
    "plt.hist(hours_mobile, bins=50)\n",
    "plt.xlabel('Average Hours')\n",
    "plt.title('Average Hours on Mobile for Teenagers')\n",
    "plt.show()"
   ]
  },
  {
   "cell_type": "code",
   "execution_count": 74,
   "metadata": {},
   "outputs": [
    {
     "data": {
      "image/png": "[encoded data removed]",
      "text/plain": [
       "<Figure size 1008x720 with 1 Axes>"
      ]
     },
     "metadata": {
      "needs_background": "light"
     },
     "output_type": "display_data"
    }
   ],
   "source": [
    "# Plot the distribution of numpy data - hours_mobile\n",
    "plt.figure(figsize=(14,10))\n",
    "plt.hist(hours_mobile, bins=50, align='left', color='b', edgecolor='red', linewidth=1)\n",
    "\n",
    "# Add axis labels\n",
    "plt.xlabel('Average Hours')\n",
    "plt.title(\"Average Hours on Mobile for Teenagers\")\n",
    " \n",
    "plt.show()"
   ]
  },
  {
   "cell_type": "markdown",
   "metadata": {},
   "source": [
    "## References\n",
    "\n",
    "[1] Software Freedom Conservancy. Git.\n",
    "\n",
    "https://git-scm.com/.\n",
    "\n",
    "[2] Inc. GitHub. Github.\n",
    "\n",
    "https://github.com/.\n",
    "\n",
    "[3] GMIT. Quality assurance framework.\n",
    "\n",
    "https://www.gmit.ie/general/quality-assurance-framework.\n",
    "\n",
    "[4] NumPy developers. Numpy.\n",
    "\n",
    "http://www.numpy.org/.\n",
    "\n",
    "[5] Project Jupyter. Project jupyter home.\n",
    "\n",
    "http://jupyter.org/.\n",
    "\n",
    "[6] Anaconda\n",
    "\n",
    "https://docs.anaconda.com/anaconda/\n",
    "\n",
    "[7] Python\n",
    "\n",
    "https://www.python.org/downloads/\n",
    "\n",
    "[8] Cmder software\n",
    "\n",
    "https://cmder.net/\n",
    "\n",
    "[9] https://pandas.pydata.org/\n",
    "\n",
    "[10] https://matplotlib.org/\n",
    "\n",
    "[11] Seaborn\n",
    "\n",
    "https://anaconda.org/anaconda/seaborn\n",
    "\n",
    "[12] https://www.scipy.org/\n",
    "\n",
    "[13] https://code.visualstudio.com/docs\n",
    "\n",
    "[14] Is there a way to edit a commit message on GitHub?\n",
    "\n",
    "https://superuser.com/questions/751699/is-there-a-way-to-edit-a-commit-message-on-github\n",
    "\n",
    "[15] Phone and internet use making teenagers unhappier than previous generations\n",
    "\n",
    "https://www.irishtimes.com/business/technology/phone-and-internet-use-making-teenagers-unhappier-than-previous-generations-1.3833840\n",
    "\n",
    "[16] Teens and Mobile Phones Over the Past Five Years: Pew Internet Looks Back\n",
    "\n",
    "https://www.pewresearch.org/internet/2009/08/19/teens-and-mobile-phones-over-the-past-five-years-pew-internet-looks-back/\n",
    "\n",
    "[17] https://docs.scipy.org/doc/numpy-1.14.0/reference/routines.random.html\n",
    "\n",
    "[18] Practical Tutorial on Data Manipulation with Numpy and Pandas in Python\n",
    "\n",
    "https://www.hackerearth.com/practice/machine-learning/data-manipulation-visualisation-r-python/tutorial-data-manipulation-numpy-pandas-python/tutorial/\n",
    "\n",
    "[19] https://www.dataquest.io/blog/numpy-tutorial-python/\n",
    "\n",
    "[20] How to generate random categorical data in python according to a probability distribution?\n",
    "\n",
    "https://stackoverflow.com/questions/57435469/how-to-generate-random-categorical-data-in-python-according-to-a-probability-dis\n",
    "\n",
    "[21] Synthetic data generation — a must-have skill for new data scientists\n",
    "\n",
    "https://towardsdatascience.com/synthetic-data-generation-a-must-have-skill-for-new-data-scientists-915896c0c1ae\n",
    "\n",
    "[22] https://realpython.com/python-random/#the-random-module\n",
    "\n",
    "[23] https://www.sharpsightlabs.com/blog/numpy-random-choice/#numpy-random-choice-examples\n",
    "\n",
    "[24] https://www.techbeamers.com/using-python-random/\n",
    "\n",
    "[25] https://docs.python.org/3/library/random.html\n",
    "\n",
    "[26] https://www.geeksforgeeks.org/numpy-mean-in-python/\n",
    "\n",
    "[27] https://stackoverflow.com/questions/44119653/creating-a-boxplot-with-matplotlib\n",
    "\n",
    "[28] https://matplotlib.org/3.1.1/gallery/statistics/boxplot.html\n",
    "\n",
    "[29] https://towardsdatascience.com/understanding-boxplots-5e2df7bcbd51\n",
    "\n",
    "[30] http://blog.bharatbhole.com/creating-boxplots-with-matplotlib/\n",
    "\n",
    "[31] https://realpython.com/python-histograms/#visualizing-histograms-with-matplotlib-and-pandas\n",
    "\n",
    "[32] https://datatofish.com/plot-histogram-python/\n",
    "\n",
    "[33] https://www.pythonprogramming.in/plot-histogram-with-specific-color-edge-color-and-line-width.html"
   ]
  },
  {
   "cell_type": "code",
   "execution_count": null,
   "metadata": {},
   "outputs": [],
   "source": []
  }
 ],
 "metadata": {
  "kernelspec": {
   "display_name": "Python 3",
   "language": "python",
   "name": "python3"
  },
  "language_info": {
   "codemirror_mode": {
    "name": "ipython",
    "version": 3
   },
   "file_extension": ".py",
   "mimetype": "text/x-python",
   "name": "python",
   "nbconvert_exporter": "python",
   "pygments_lexer": "ipython3",
   "version": "3.7.4"
  }
 },
 "nbformat": 4,
 "nbformat_minor": 2
}
