{
 "cells": [
  {
   "cell_type": "markdown",
   "metadata": {},
   "source": [
    "# This Jupyter Notebook contains the instructions for Programming for Data Analysis Project 2019\n",
    "\n",
    "### GMIT H.Dip Data Analytics - Academic Year 2019 - 2020\n",
    "\n",
    "Student: Henk Tjalsma\n",
    "\n",
    "GMIT email address:\n",
    "\n",
    "G00376321@gmit.ie"
   ]
  },
  {
   "cell_type": "markdown",
   "metadata": {},
   "source": [
    "## Problem statement\n",
    "\n",
    "For this project I created a data set by simulating a real-world phenomenon of my choosing. I could pick any phenomenon I wished – you can pick one that is of interest to you in your personal or professional life. Then, rather than collect data related to the phenomenon, you should model and synthesise such data using Python.\n",
    "\n",
    "It was suggested to use the numpy.random package for this purpose.\n",
    "\n",
    "Specifically, in this project you should:\n",
    "\n",
    "1. Choose a real-world phenomenon that can be measured and for which you could collect at least one-hundred data points across at least four different variables.\n",
    "\n",
    "2. Investigate the types of variables involved, their likely distributions, and their relationships with each other.\n",
    "\n",
    "3. Synthesise/simulate a data set as closely matching their properties as possible.\n",
    "\n",
    "4. Detail your research and implement the simulation in a Jupyter notebook – the data set itself can simply be displayed in an output cell within the notebook.\n",
    "\n",
    "Note that this project is about simulation – you must synthesise a data set. Some students may already have some real-world data sets in their own files. It is okay to base your synthesised data set on these should you wish (please reference it if you do), but the main task in this project is to create a synthesised data set."
   ]
  },
  {
   "cell_type": "markdown",
   "metadata": {},
   "source": [
    "### What is a synthetic dataset?\n",
    "\n",
    "As the name suggests, quite obviously, a synthetic dataset is a repository of data that is generated programmatically. So, it is not collected by any real-life survey or experiment. Its main purpose, therefore, is to be flexible and rich enough to help an ML practitioner conduct fascinating experiments with various classification, regression, and clustering algorithms. [21]\n",
    "\n",
    "Desired properties are:\n",
    "\n",
    "* It can be numerical, binary, or categorical (ordinal or non-ordinal).\n",
    "\n",
    "* The number of features and length of the dataset should be arbitrary.\n",
    "\n",
    "* It should preferably be random and the user should be able to choose a wide variety of statistical distribution to base this data upon i.e. the underlying random process can be precisely controlled and tuned.\n",
    "\n",
    "* If it is used for classification algorithms, then the degree of class separation should be controllable to make the learning problem easy or hard.\n",
    "\n",
    "* Random noise can be interjected in a controllable manner\n",
    "\n",
    "* For a regression problem, a complex, non-linear generative process can be used for sourcing the data."
   ]
  },
  {
   "cell_type": "markdown",
   "metadata": {},
   "source": [
    "### Real-World Phenomenon \n",
    "\n",
    "The phenomenon I have picked is the long hours teenagers (13 - 19 years) are spending on their mobile nowadays, and the stress, anxiety, isolation, sleep deprivation, unhappiness, just to name a few, it can cause.\n",
    "\n",
    "I can see it with our own teenage daughter, 15 years old, who is spending a lot of time on her mobile when at home. This means we are required to restrict the wifi use. I do know from other parents we talked to they are more lenient on it, as the topic was causing a lot of arguments. To be honest, many parents have given up on setting any wifi restriction at all, for older teenagers, even so that some are allowed to have the mobile in the bedroom all night. \n",
    "\n",
    "Although it's a natural process to some extent, we noticed our daughter tends to isolate to her bedroom a lot more, meaning the interaction with the family is very limited.  Also she seems to spend less time with her peers socialising. \n",
    "\n",
    "Furthermore our daugher was big into sports as a young teenager, but since a few years has given up on that completely. This means she doesn't get the pyhysical and mental release she needs. On top she stays up longer or awake in the evening, as her mind isn't switched off, and so she doesn't get enough sleep, and sleep deprivation kicks in.\n",
    "\n",
    "![mobile](mobile.jpg)\n",
    "\n",
    "An article in the Irish Times confirms my conclusions, below some quotes:\n",
    "\n",
    "<https://www.irishtimes.com/business/technology/phone-and-internet-use-making-teenagers-unhappier-than-previous-generations-1.3833840>\n",
    "\n",
    "* \"Teenagers who spend long hours browsing through social media and using their smartphones are significantly less happy and more likely to become depressed than previous generations of young people, a UN study has found.\"\n",
    "\n",
    "* \"Research carried out among teenagers born after 1995 in the US has found that happiness among American teenagers has declined significantly since 2012 while the time young people spend on screen activities has steadily increased.\"\n",
    "\n",
    "* \"The Sad State of Happiness in the United States and the Role of Digital Media report, released this week as part of the UN World Happiness study, argues that young people who spend more time with friends and family, exercising and sleeping are happier than peers who spend hours every day using the internet and smartphones.\"\n",
    "\n",
    "* \"It warns that those born after 1995 as part of the iGen generation are “markedly lower in psychological well-being” than millennials (born between 1980-1994) were at the same age.\"\n",
    "\n",
    "##### Rise in digital media\n",
    "* \"Author of the report Dr Jean Twenge, professor of psychology at San Diego State University, notes that while happiness levels among young people increased between 1991 and 2011, both adults and adolescents said they were significantly less happy in 2016-17 compared to how they felt in the early 2000s. Dr Twenge draws a strong correlation between these feelings of unhappiness and the rapid increase in the number of people using smartphones in recent years. This rise in digital media use has resulted in teenagers spending less time with their peers socialising and going to parties, notes Dr Twenge, adding that the way adolescents spend time together has “fundamentally shifted”. She writes that depression, suicidal thoughts and self-harm have increased sharply among teens since 2010, particularly among young women and girls in the US and teens in the UK. In 2017, the average 17/18 year old spent more than six hours a day using the internet, on social media and texting. By 2018, 95 per cent of US teenagers had access to a smartphone while 45 per cent said they were “almost constantly” online. Girls who spend five or more hours a day on social media were found to be three times more likely to be depressed than non-social media users while heavy internet users were twice as likely to be unhappy.\""
   ]
  },
  {
   "cell_type": "markdown",
   "metadata": {},
   "source": [
    "#### Most interesting Variables related to this Real-World Phenomenon\n",
    "\n",
    "    1. The most interesting variable in this project is the hours teenagers spent on the mobile \n",
    "    (Hours).\n",
    "\n",
    "    2.  Also the age of the teenager is important as the number of hours on the mobile I assume \n",
    "    will go up when they get older (Age). \n",
    "\n",
    "    3. Another variable of interest, the sex of the teenager (Sex). I assume girls spent more time on \n",
    "    it than boys. \n",
    "\n",
    "Even though the focus of this piece has been on mobile phones, and number of hours teens spent on it, having access to other mobile devices that connect them to other people and other networks, might be worth checking as well. The most prevalent of these devices are mobile gaming devices like XBox, Sony PlayStation Portable (PSP), tablets, etc. Mobile gaming devices are owned predominantly by younger teens (those ages 12-14). [16]\n",
    "\n",
    "    4. Access to other mobile devices (Other_Devices), or not.\n",
    "\n",
    "    5. Also an interesting variable is Household Income (Income), so the difference in phone\n",
    "    ownership by socio-economic status.\n",
    "\n",
    "    6. Another variable I would like to research is Race/Ethnicity, and if there are any \n",
    "    discrepancies between groups.  \n",
    "\n",
    "\n",
    "##### Numpy Distributions to Create Synthesised Data Set\n",
    "\n",
    "<https://docs.scipy.org/doc/numpy-1.14.0/reference/routines.random.html>\n",
    "\n",
    "* The hours per week (Hours) variable will be a non-negative real number with one, or two decimal places. \n",
    "\n",
    "Based on below Uniform Definition I think Normal Distribution fits better (Real-Valued Distributions):\n",
    "\n",
    "If you need to generate random floats that lie within a specific [x, y] interval, you can use random.uniform(), which plucks from the continuous uniform distribution.\n",
    "\n",
    "A uniform distribution (often called 'rectangular') is one in which all values between two boundaries occur roughly equally. \n",
    "\n",
    "If the hours per week matter as it will be in this project, there’s usually some non-uniformity, unless the hours have been constructed to be uniform: as for controlled studies.\n",
    "\n",
    "So I'm looking at my own daughter, who is on her mobile every weekday 2 hours at least, and in the weekends sometimes 4 hours per day, so 18 hours in total per week. So I will check if 15 year old teenagers do spent that amount of time on the mobile, on average per week. As standard deviation I will take 3 hours and will use a normal distribution for this.\n",
    "\n",
    "* The Age variable is a continuous numerical variable, an integer.\n",
    "\n",
    "Based on Functions for Integers [25] randint makes sense. I will generate a random set of integers, and do so for 1000 data points, and for the ages 13 till 19. \n",
    "\n",
    "You can generate a random integer between two endpoints in Python with the random.randint() function. This spans the full [x, y] interval and may include both endpoints. [22]\n",
    "\n",
    "* The Sex (sex) variable will be B/G (Boy/Girl) and I'll use the binomial distribution.\n",
    "\n",
    "* Access to other mobile devices (Other_Devices), it can have the values Yes/No. Again binomial distribution might do. \n",
    "\n",
    "Alternatively I can create categorical variable, with a number of choices. You can use np.random.choice() and specify a vector of probabilities corresponding to the chosen-from arrray. [20]\n",
    "\n",
    "random.choice(seq)\n",
    "\n",
    "    Return a random element from the non-empty sequence seq. If seq is empty, raises IndexError.\n",
    "\n",
    "* The other 2 variables, Household Income (Income) and Race/Ethnicity, are categorical variables with a number of possible values. Normal or Uniform distribution maybe, or np.random.choice() again."
   ]
  },
  {
   "cell_type": "code",
   "execution_count": 1,
   "metadata": {},
   "outputs": [],
   "source": [
    "# Import python packages\n",
    "## Numpy is used for creating fake data\n",
    "import numpy as np\n",
    "import pandas as pd\n",
    "import matplotlib.pyplot as plt\n",
    "import matplotlib as mpl \n",
    "import seaborn as sns\n",
    "\n",
    "## Agg backend is used to create plot as a .png file\n",
    "mpl.use('agg')\n",
    "\n",
    "# Magic command to use matplotlib nicely in the notebook\n",
    "%matplotlib inline"
   ]
  },
  {
   "cell_type": "markdown",
   "metadata": {},
   "source": [
    "### What does numpy.random.seed(0) do?\n",
    "\n",
    "I kept getting different results each time, so setting seed(0). With the seed reset (every time), the same set of numbers will appear every time. [34]\n",
    "\n",
    "If the random seed is not reset, different numbers appear with every invocation. \n",
    "\n",
    "(pseudo-)random numbers work by starting with a number (the seed), multiplying it by a large number, then taking modulo of that product. The resulting number is then used as the seed to generate the next \"random\" number. When you set the seed (every time), it does the same thing every time, giving you the same numbers.\n",
    "\n",
    "If you want seemingly random numbers, do not set the seed. If you have code that uses random numbers that you want to debug, however, it can be very helpful to set the seed before each run so that the code does the same thing every time you run it.\n",
    "\n",
    "To get the most random numbers for each run, call numpy.random.seed(). This will cause numpy to set the seed to a random number obtained from /dev/urandom or its Windows analog or, if neither of those is available, it will use the clock."
   ]
  },
  {
   "cell_type": "code",
   "execution_count": 2,
   "metadata": {},
   "outputs": [],
   "source": [
    "np.random.seed(0)"
   ]
  },
  {
   "cell_type": "markdown",
   "metadata": {},
   "source": [
    "So through numpy I created an array of 1000 teenagers between ages 13 and including 19 using the randint distribution. "
   ]
  },
  {
   "cell_type": "code",
   "execution_count": 3,
   "metadata": {},
   "outputs": [],
   "source": [
    "# Generate random set of (integers) of teenagers, different ages between 13 to 19\n",
    "# numpy.random.randint(low, high=None, size=None, dtype='l')\n",
    "\n",
    "# Returns random integers from the “discrete uniform” distribution of specified dtype in the “half-open” interval [low, high). \n",
    "\n",
    "teenagers_age = np.random.randint(13, 20, 1000)"
   ]
  },
  {
   "cell_type": "code",
   "execution_count": 4,
   "metadata": {},
   "outputs": [
    {
     "data": {
      "text/plain": [
       "array([17, 18, 13, 16, 16, 16, 14, 16, 18, 15, 17, 19, 13, 13, 17, 15, 14,\n",
       "       19, 19, 13, 14, 18, 14, 18, 13, 14, 17, 16, 13, 16, 18, 19, 13, 15,\n",
       "       16, 13, 14, 16, 18, 16, 16, 19, 13, 14, 14, 14, 13, 15, 17, 16, 19,\n",
       "       16, 15, 17, 15, 13, 13, 17, 18, 18, 19, 13, 17, 14, 17, 14, 15, 15,\n",
       "       13, 14, 14, 14, 14, 16, 19, 16, 19, 15, 16, 13, 19, 16, 18, 17, 14,\n",
       "       15, 17, 16, 17, 19, 17, 17, 16, 17, 17, 17, 13, 19, 17, 16, 15, 18,\n",
       "       18, 18, 13, 14, 18, 14, 16, 13, 18, 19, 13, 14, 15, 17, 15, 13, 18,\n",
       "       16, 15, 15, 18, 13, 18, 14, 13, 15, 15, 16, 15, 16, 15, 14, 15, 19,\n",
       "       16, 19, 16, 16, 15, 19, 16, 17, 14, 15, 16, 19, 14, 15, 14, 17, 15,\n",
       "       19, 16, 13, 16, 15, 16, 13, 13, 19, 13, 19, 16, 19, 15, 16, 13, 17,\n",
       "       13, 18, 19, 13, 18, 15, 16, 19, 15, 16, 18, 13, 13, 13, 16, 13, 15,\n",
       "       15, 13, 17, 16, 17, 18, 19, 13, 17, 16, 18, 16, 17, 19, 18, 14, 18,\n",
       "       16, 13, 13, 13, 18, 18, 19, 14, 13, 17, 14, 19, 18, 18, 16, 14, 13,\n",
       "       13, 17, 16, 16, 14, 19, 18, 18, 13, 13, 14, 15, 13, 19, 16, 19, 18,\n",
       "       14, 14, 19, 17, 13, 18, 13, 16, 15, 16, 15, 17, 19, 16, 19, 19, 18,\n",
       "       18, 16, 13, 16, 13, 17, 15, 19, 16, 18, 18, 17, 13, 15, 16, 16, 14,\n",
       "       18, 16, 19, 17, 18, 18, 16, 16, 14, 14, 14, 16, 19, 15, 15, 17, 16,\n",
       "       14, 15, 16, 18, 18, 18, 14, 17, 15, 15, 13, 14, 18, 13, 17, 13, 16,\n",
       "       15, 18, 19, 18, 19, 13, 19, 13, 18, 14, 14, 13, 16, 13, 16, 13, 17,\n",
       "       17, 13, 14, 16, 17, 16, 15, 19, 18, 14, 14, 15, 14, 18, 17, 18, 15,\n",
       "       18, 18, 17, 17, 18, 18, 15, 16, 18, 16, 19, 19, 14, 19, 15, 17, 16,\n",
       "       16, 14, 14, 18, 19, 18, 14, 14, 15, 13, 16, 14, 17, 16, 14, 14, 15,\n",
       "       13, 19, 13, 15, 17, 19, 13, 17, 16, 16, 13, 13, 16, 18, 16, 19, 13,\n",
       "       16, 13, 18, 15, 14, 13, 17, 13, 16, 17, 17, 14, 13, 15, 19, 19, 17,\n",
       "       17, 15, 17, 19, 16, 15, 16, 13, 18, 18, 18, 13, 13, 18, 16, 17, 17,\n",
       "       18, 15, 15, 17, 19, 14, 16, 16, 16, 14, 15, 18, 15, 16, 19, 18, 15,\n",
       "       16, 17, 17, 15, 18, 14, 19, 15, 18, 13, 19, 16, 13, 15, 17, 16, 15,\n",
       "       14, 15, 14, 17, 18, 14, 19, 19, 13, 18, 13, 13, 13, 19, 13, 14, 13,\n",
       "       16, 19, 14, 17, 14, 15, 17, 13, 13, 15, 18, 13, 17, 17, 17, 14, 19,\n",
       "       19, 14, 17, 14, 18, 14, 16, 18, 14, 16, 18, 16, 19, 19, 14, 14, 14,\n",
       "       19, 13, 16, 13, 17, 14, 17, 18, 13, 16, 19, 15, 14, 17, 17, 17, 13,\n",
       "       13, 15, 18, 13, 19, 16, 16, 17, 19, 14, 17, 16, 16, 16, 17, 15, 14,\n",
       "       15, 15, 14, 16, 16, 17, 17, 15, 14, 14, 13, 13, 15, 17, 16, 18, 19,\n",
       "       16, 15, 14, 13, 17, 14, 17, 17, 15, 13, 13, 18, 16, 14, 18, 18, 14,\n",
       "       18, 19, 13, 19, 17, 16, 18, 16, 17, 16, 19, 17, 16, 13, 18, 16, 16,\n",
       "       19, 14, 16, 18, 18, 17, 13, 16, 19, 13, 13, 16, 19, 14, 15, 16, 15,\n",
       "       16, 13, 16, 15, 19, 13, 16, 19, 14, 17, 16, 14, 15, 18, 14, 17, 14,\n",
       "       18, 16, 14, 16, 15, 17, 18, 14, 17, 14, 19, 17, 14, 15, 18, 19, 18,\n",
       "       15, 16, 14, 15, 15, 19, 19, 17, 15, 15, 16, 19, 19, 13, 18, 17, 15,\n",
       "       13, 13, 15, 16, 18, 19, 19, 18, 18, 19, 14, 19, 18, 16, 15, 17, 14,\n",
       "       14, 15, 15, 17, 19, 18, 16, 19, 17, 18, 15, 17, 19, 18, 15, 14, 17,\n",
       "       13, 14, 13, 15, 13, 16, 18, 15, 13, 15, 16, 13, 13, 14, 13, 18, 13,\n",
       "       15, 16, 17, 19, 18, 16, 16, 13, 19, 17, 19, 17, 16, 19, 15, 17, 17,\n",
       "       19, 18, 16, 18, 18, 14, 17, 19, 18, 18, 16, 14, 16, 18, 16, 15, 13,\n",
       "       19, 14, 18, 18, 18, 19, 13, 14, 19, 18, 14, 18, 19, 17, 15, 15, 16,\n",
       "       19, 19, 19, 13, 18, 18, 16, 15, 16, 15, 15, 14, 16, 14, 16, 18, 19,\n",
       "       15, 18, 15, 17, 14, 18, 19, 13, 16, 18, 13, 17, 15, 14, 13, 14, 15,\n",
       "       14, 19, 14, 18, 16, 19, 13, 17, 14, 14, 18, 17, 19, 19, 19, 13, 15,\n",
       "       16, 17, 14, 19, 15, 16, 17, 14, 19, 13, 17, 19, 14, 15, 17, 16, 13,\n",
       "       17, 18, 17, 18, 13, 18, 15, 16, 14, 15, 14, 19, 18, 16, 15, 17, 15,\n",
       "       14, 17, 13, 15, 15, 17, 15, 17, 13, 15, 19, 14, 15, 17, 17, 14, 14,\n",
       "       17, 18, 17, 15, 17, 14, 15, 17, 13, 14, 18, 13, 15, 14, 15, 16, 14,\n",
       "       15, 13, 15, 17, 19, 17, 13, 15, 14, 13, 15, 16, 17, 13, 15, 16, 17,\n",
       "       16, 18, 19, 13, 15, 16, 19, 16, 16, 14, 19, 16, 15, 15, 15, 19, 17,\n",
       "       16, 19, 13, 17, 18, 14, 15, 14, 17, 19, 14, 17, 18, 19, 14, 15, 19,\n",
       "       18, 19, 19, 19, 16, 15, 18, 19, 15, 15, 16, 15, 17, 18, 14, 16, 13,\n",
       "       18, 17, 18, 16, 14, 16, 19, 17, 17, 18, 13, 15, 14, 18, 19, 17, 17,\n",
       "       14, 18, 19, 17, 13, 13, 15, 19, 18, 18, 18, 16, 14, 13, 13, 13, 13,\n",
       "       19, 15, 17, 18, 13, 18, 15, 19, 16, 18, 17, 16, 17, 18])"
      ]
     },
     "execution_count": 4,
     "metadata": {},
     "output_type": "execute_result"
    }
   ],
   "source": [
    "teenagers_age"
   ]
  },
  {
   "cell_type": "code",
   "execution_count": 5,
   "metadata": {},
   "outputs": [
    {
     "name": "stdout",
     "output_type": "stream",
     "text": [
      "\n",
      "Mean of Teenagers Age, axis = None :  15.978\n"
     ]
    }
   ],
   "source": [
    "# Mean of the flattened array  \n",
    "print(\"\\nMean of Teenagers Age, axis = None : \", np.mean(teenagers_age))  "
   ]
  },
  {
   "cell_type": "markdown",
   "metadata": {},
   "source": [
    "The numpy.mean() in Python, computes the arithmetic mean (average) of the given data (array elements) along the specified axis. [26] "
   ]
  },
  {
   "cell_type": "code",
   "execution_count": 6,
   "metadata": {},
   "outputs": [
    {
     "data": {
      "text/plain": [
       "15.978"
      ]
     },
     "execution_count": 6,
     "metadata": {},
     "output_type": "execute_result"
    }
   ],
   "source": [
    "# Average age of the sample of teenagers\n",
    "np.mean(teenagers_age)"
   ]
  },
  {
   "cell_type": "markdown",
   "metadata": {},
   "source": [
    "##### Boxplot and Violin plots - visual representation of five point summary statistics of this array\n",
    "\n",
    "A Box Plot is a visual representation of five point summary statistics of a given data set. A five number summary includes:\n",
    "\n",
    "    Minimum\n",
    "    First Quartile\n",
    "    Median (Second Quartile)\n",
    "    Third Quartile\n",
    "    Maximum\n",
    "\n",
    "Also, a point worth noticing is that a boxplot is created for Categorical — Continuous Variables which means that if the x -axis is categorical and y axis is continuous then a boxplot or a violin plot should be created.\n",
    "\n",
    "The violin plots are similar to the boxplots. The same can be seen in the image below.\n",
    "\n",
    "![difference_boxplot_violinplot](difference_boxplot_violinplot.png)"
   ]
  },
  {
   "cell_type": "code",
   "execution_count": 7,
   "metadata": {},
   "outputs": [
    {
     "data": {
      "image/png": "[encoded data removed]",
      "text/plain": [
       "<Figure size 432x288 with 1 Axes>"
      ]
     },
     "metadata": {
      "needs_background": "light"
     },
     "output_type": "display_data"
    }
   ],
   "source": [
    "# Create the boxplot\n",
    "# Add patch_artist=True option to boxplot() to get fill color\n",
    "# Labels will be used to label x-ticks\n",
    "labels = ['Age']\n",
    "plt.boxplot(teenagers_age, vert=True, notch=True, showmeans=True, patch_artist=True, labels=labels)\n",
    "plt.show()"
   ]
  },
  {
   "cell_type": "code",
   "execution_count": 8,
   "metadata": {},
   "outputs": [
    {
     "data": {
      "text/plain": [
       "array([20.61, 18.83, 15.09, 18.94, 20.46, 18.02, 20.4 , 18.23, 16.81,\n",
       "       14.52, 17.74, 18.58, 20.63, 17.65, 19.37, 15.11, 15.65, 17.67,\n",
       "       14.84, 20.46, 19.39, 18.84, 19.02, 24.06, 16.59, 11.4 , 18.6 ,\n",
       "       17.85, 16.45, 15.06, 16.68, 18.54, 16.49, 25.24, 15.12, 15.62,\n",
       "       11.13, 18.75, 11.95, 16.38, 17.17, 15.87, 23.22, 20.98, 21.96,\n",
       "       15.35, 21.39, 19.49, 20.31, 21.09, 15.27, 16.73, 20.59, 10.03,\n",
       "       22.54, 19.66, 17.86, 18.66, 14.91, 16.95, 21.3 , 21.89, 26.09,\n",
       "       17.78, 16.02, 16.46, 14.95, 17.77, 19.15, 17.9 , 21.29, 17.3 ,\n",
       "       16.96, 16.26, 13.1 , 13.3 , 14.46, 21.9 , 20.69, 22.12, 14.  ,\n",
       "       12.09, 16.02, 18.53, 19.5 , 21.14, 18.85, 23.23, 17.33, 15.26,\n",
       "       12.96, 15.33, 18.73, 15.33, 20.81, 22.24, 10.89, 20.59, 11.28,\n",
       "       19.2 , 21.67, 18.19, 14.16, 16.24, 17.22, 17.45, 17.39, 17.67,\n",
       "       18.64, 14.37, 17.27, 22.55, 16.85, 16.67, 21.23, 10.32, 21.54,\n",
       "       16.1 , 18.49, 18.29, 20.83, 17.2 , 15.97, 21.89, 10.91, 18.06,\n",
       "       13.96, 15.72, 24.03, 17.87, 18.59, 12.66, 15.81, 18.59, 19.06,\n",
       "       19.85, 18.03, 19.58, 19.36, 12.51, 18.11, 20.3 , 19.77, 16.91,\n",
       "       15.58, 14.65, 17.61, 21.4 , 12.14, 16.02, 14.58, 20.35, 16.34,\n",
       "       16.59, 17.35, 19.34, 16.82,  8.86, 19.63, 19.32, 17.34, 14.75,\n",
       "       19.06, 19.14, 16.59, 17.35, 15.21, 17.46, 13.35, 19.25, 15.17,\n",
       "       18.71, 13.78, 16.23, 17.67, 13.02, 18.35, 16.86, 12.77, 14.09,\n",
       "       19.82, 20.69, 17.6 , 19.21, 18.67, 18.99, 21.86, 13.48, 20.03,\n",
       "       16.85, 17.33, 17.09, 16.87, 14.32, 18.55, 23.01, 17.83, 18.  ,\n",
       "       15.94, 17.65, 19.4 , 16.89, 16.64, 19.21, 15.25, 18.76, 20.46,\n",
       "       22.08, 17.73, 22.1 , 21.1 , 15.01, 14.35, 17.09, 21.09, 17.78,\n",
       "       16.2 , 22.66, 18.86, 11.04, 18.95, 19.56, 18.68, 19.35, 17.8 ,\n",
       "       14.04, 16.89, 15.16, 15.2 , 14.21, 19.36, 18.29, 16.66, 16.05,\n",
       "       17.93, 21.24, 11.99, 19.13, 16.36, 12.35, 12.16, 15.26, 18.66,\n",
       "       19.18, 15.18, 21.05, 22.27, 19.19, 16.23, 21.37, 20.27, 20.6 ,\n",
       "       16.03,  9.5 , 24.35, 13.17, 17.89, 25.14, 18.99, 20.85, 13.49,\n",
       "       12.67, 16.4 , 21.27, 16.96, 15.62, 18.59, 21.25, 13.67, 14.37,\n",
       "       15.63, 21.28, 18.7 , 24.4 , 20.81, 17.89, 21.8 , 18.63, 15.89,\n",
       "       20.04, 15.91, 17.13, 21.98, 17.7 , 15.59, 16.61, 21.07, 16.34,\n",
       "       16.84, 16.47, 18.55, 16.84, 13.19, 15.34, 15.2 , 21.73, 20.44,\n",
       "       19.76, 16.48, 15.55, 16.48, 14.84, 25.49, 11.26, 19.69, 14.15,\n",
       "       17.69, 15.04, 14.47, 14.58, 23.26, 17.6 , 15.7 , 19.67, 18.03,\n",
       "       20.16, 12.53, 18.91, 20.32, 13.02, 19.34, 23.09, 17.96, 20.46,\n",
       "       20.01, 15.88, 18.12, 13.3 , 16.65, 18.8 , 20.17, 18.07, 20.16,\n",
       "       14.69, 17.69, 18.06, 23.55, 17.36, 16.5 , 18.06, 15.24, 18.58,\n",
       "       16.9 , 12.63, 17.82, 17.05, 13.1 , 17.8 , 22.47, 19.56, 19.84,\n",
       "       13.98, 19.43, 18.45, 19.59, 19.27, 13.92, 17.88, 15.73, 17.85,\n",
       "       15.31, 21.94, 15.42, 15.3 , 18.22, 14.77, 16.73, 15.51, 22.23,\n",
       "       20.36, 17.83, 16.83, 20.82, 19.22, 19.49, 17.92, 12.94, 17.66,\n",
       "       16.4 , 19.94, 21.04, 16.03, 19.41, 23.21, 16.  , 23.05, 15.44,\n",
       "       18.07, 17.97, 18.03, 15.49, 16.23, 16.  , 18.98, 18.99, 24.68,\n",
       "       22.11, 16.47, 18.97, 20.99, 18.09, 17.79, 18.15, 20.6 , 15.46,\n",
       "       17.02, 19.41, 18.93, 18.72, 16.89, 20.92, 24.4 , 19.22, 17.42,\n",
       "       20.27, 16.38, 15.75, 18.1 , 10.25, 14.54, 16.96, 13.94, 14.9 ,\n",
       "       16.69, 13.07, 16.78, 16.39, 18.08, 21.46, 18.52, 18.06, 18.3 ,\n",
       "       18.68, 14.95, 17.66, 18.93, 13.89, 20.6 , 21.24, 16.11, 17.28,\n",
       "       15.37, 20.1 , 14.82, 17.33, 15.42, 18.15, 12.62, 21.98, 15.11,\n",
       "       18.18, 17.36, 15.71, 15.34, 20.81, 16.42, 18.81, 15.6 , 16.06,\n",
       "       19.42, 20.79, 17.47, 13.73, 23.99, 15.43, 13.38, 25.78, 16.79,\n",
       "       13.61, 15.95, 19.1 , 18.57, 15.44, 23.47, 16.44, 14.45, 20.88,\n",
       "       21.99, 15.55, 13.8 , 21.09, 11.86, 14.32, 20.9 , 17.83, 17.21,\n",
       "       19.06, 17.54, 14.1 , 21.83, 21.98, 18.62, 18.14, 25.02, 17.17,\n",
       "       17.22, 19.09, 22.41, 22.78, 17.22, 18.92, 13.87, 17.06, 15.48,\n",
       "       14.98, 23.04, 15.62, 16.41, 19.1 , 21.89, 19.44, 26.28, 17.78,\n",
       "       18.78, 18.83, 22.31, 19.52, 17.65, 15.16, 18.73, 22.2 , 16.77,\n",
       "       19.59, 18.74, 20.59, 15.59, 25.04, 14.16, 16.9 , 20.81, 18.89,\n",
       "       20.49, 16.51, 17.78, 18.04, 22.71, 20.07, 20.39, 16.03, 20.91,\n",
       "       18.68, 22.17, 24.04, 17.08, 16.78, 15.41, 17.57, 16.85, 19.08,\n",
       "       17.57, 16.92, 21.19, 15.19, 19.3 , 16.78, 20.17, 22.16, 17.09,\n",
       "       19.32, 18.54, 15.6 , 18.72, 18.87, 19.24, 17.4 , 18.28, 14.56,\n",
       "       16.93, 19.67, 20.68, 16.73, 18.31, 18.68, 18.6 , 19.62, 12.55,\n",
       "       17.85, 18.72, 15.  , 23.02, 18.48, 22.69, 15.63, 15.28, 18.67,\n",
       "       12.96, 18.64, 18.29, 21.05, 20.1 , 16.75, 14.71, 23.14, 15.62,\n",
       "       14.86, 14.75, 21.35, 16.44, 15.74, 18.41, 17.38, 15.97, 20.26,\n",
       "       21.2 , 20.96, 20.3 , 19.21, 12.67, 23.01, 18.91, 19.82, 21.34,\n",
       "       22.3 , 19.26, 19.31, 16.2 , 18.1 , 15.44, 15.84, 15.32, 17.53,\n",
       "       21.15, 27.51, 18.57, 13.95, 21.79, 17.1 , 16.02, 18.63, 14.28,\n",
       "       18.67, 17.73, 18.3 , 19.14, 18.2 , 18.05, 18.85, 19.25, 14.91,\n",
       "       13.71, 17.82, 13.7 , 18.26, 20.82, 19.82, 14.86, 15.42, 18.98,\n",
       "       16.8 , 17.05, 19.79, 15.04, 16.8 , 15.6 , 14.87, 15.43, 20.03,\n",
       "       18.16, 15.36, 17.31, 13.08, 15.8 , 24.45, 17.73, 20.19, 17.8 ,\n",
       "       19.04, 19.99, 14.69, 17.91, 22.74, 15.61, 16.3 , 17.08, 18.81,\n",
       "       19.57, 21.8 , 19.5 , 17.81, 21.78, 20.11, 13.51, 25.58, 23.31,\n",
       "       17.5 , 19.13, 21.97, 17.48, 20.19, 21.31, 14.96, 16.19, 20.76,\n",
       "       19.38, 20.77, 17.6 , 17.13, 12.  , 14.56, 18.14, 20.47, 19.59,\n",
       "       17.62, 17.18, 18.65, 18.23, 22.21, 18.44, 13.56, 14.18, 22.56,\n",
       "       14.49, 20.29, 17.19, 17.49, 17.6 , 21.66, 17.42, 17.9 , 13.41,\n",
       "       18.62, 19.59, 18.72, 22.19, 18.17, 18.9 , 22.95, 13.35, 16.63,\n",
       "       22.28, 20.81, 20.04, 20.5 , 18.98, 22.89, 19.13, 18.72, 18.48,\n",
       "       18.58, 14.53, 20.31, 17.61, 23.47, 17.77, 19.26, 18.74, 16.12,\n",
       "       20.98, 23.72, 17.96, 17.1 , 16.93, 12.32, 17.47, 18.75, 21.16,\n",
       "       20.88, 16.75, 17.17, 21.37, 17.48, 16.47, 22.18, 21.11, 18.06,\n",
       "       16.22, 11.96, 19.77, 15.31, 12.11, 22.75, 19.94, 14.58, 14.36,\n",
       "       20.61, 15.37, 21.89, 19.85, 19.61, 19.21, 18.57, 20.64, 16.64,\n",
       "       18.26, 20.26, 19.69, 14.42, 16.5 , 18.76, 16.78, 23.32, 16.82,\n",
       "       17.51, 20.31, 18.99, 17.56, 15.73, 18.9 , 21.12, 19.44, 15.67,\n",
       "       23.21, 13.66, 13.25, 20.88, 18.68, 16.35, 14.7 , 24.96, 18.35,\n",
       "       19.6 , 18.95, 19.3 , 19.62, 20.2 , 16.87, 17.13, 12.78, 15.66,\n",
       "       18.81, 21.14, 19.8 , 16.98, 14.21,  9.67, 21.46, 16.23, 16.65,\n",
       "       18.39, 13.78, 16.95, 24.07, 19.52, 19.08, 13.25, 24.73, 13.73,\n",
       "       23.77, 11.65, 22.22, 22.85, 15.53, 19.27, 19.64, 15.56, 13.65,\n",
       "       14.05, 19.62, 17.74, 16.31, 20.9 , 19.52, 15.73, 14.4 , 19.57,\n",
       "       16.39, 18.3 , 22.73, 19.51, 15.41, 18.48, 15.14, 22.83, 16.32,\n",
       "       18.62, 18.92, 18.48, 12.12, 13.66, 16.64, 18.96, 17.59, 15.13,\n",
       "       13.95, 16.8 , 16.59, 19.54, 17.02, 19.81, 16.22, 17.23, 16.96,\n",
       "       15.65, 19.88, 15.56, 16.44, 17.78, 14.11, 17.03, 15.87, 16.84,\n",
       "       17.82, 15.6 , 17.34, 21.93, 17.92, 21.44, 19.04, 20.32, 15.68,\n",
       "       18.31, 18.4 , 16.16, 15.53, 13.53, 22.49, 15.08, 22.04, 16.6 ,\n",
       "       15.41, 19.87, 16.11, 19.71, 17.  , 19.44, 15.1 , 20.49, 19.46,\n",
       "       15.24, 25.93, 19.62, 24.87, 22.8 , 17.43, 16.76, 16.79, 12.51,\n",
       "       15.91, 18.74, 22.58, 15.68, 20.65, 14.24, 16.24, 16.63, 19.12,\n",
       "       19.37, 20.89, 20.31, 18.73, 19.17, 22.77, 16.47, 20.32, 12.58,\n",
       "       19.23, 16.55, 18.01, 21.12, 18.49, 20.66, 22.42, 19.17, 21.51,\n",
       "       17.02, 17.98, 16.43, 21.13, 19.24, 16.48, 18.46, 21.12, 17.88,\n",
       "       15.15, 18.4 , 12.06, 20.31, 16.74, 16.59, 20.63, 13.9 , 23.84,\n",
       "       16.56, 16.43, 21.06, 20.13, 25.35, 17.37, 17.64, 13.56, 17.  ,\n",
       "       15.84, 16.65, 12.77, 22.98, 13.75,  9.59, 14.43, 16.19, 14.55,\n",
       "       21.29, 17.59, 18.08, 19.83, 18.86, 20.94, 14.67, 16.36, 20.  ,\n",
       "       10.4 ])"
      ]
     },
     "execution_count": 8,
     "metadata": {},
     "output_type": "execute_result"
    }
   ],
   "source": [
    "# Generating numbers of hours per week on the mobile with mean of 18 using the normal distribution\n",
    "# Standard deviation of 3 hours\n",
    "hours_mobile = np.random.normal(18, 3, 1000).round(2)\n",
    "hours_mobile"
   ]
  },
  {
   "cell_type": "code",
   "execution_count": 9,
   "metadata": {},
   "outputs": [
    {
     "data": {
      "image/png": "[encoded data removed]",
      "text/plain": [
       "<Figure size 864x720 with 1 Axes>"
      ]
     },
     "metadata": {},
     "output_type": "display_data"
    }
   ],
   "source": [
    "# Histogram - average hours on mobile phone for teenagers\n",
    "plt.figure(figsize=(12,10), edgecolor='black', facecolor='white', clear='True')\n",
    "plt.hist(hours_mobile, bins=50)\n",
    "plt.xlabel('Average Hours')\n",
    "plt.title('Average Hours on Mobile for Teenagers')\n",
    "plt.show()"
   ]
  },
  {
   "cell_type": "code",
   "execution_count": 10,
   "metadata": {},
   "outputs": [
    {
     "data": {
      "image/png": "[encoded data removed]",
      "text/plain": [
       "<Figure size 1008x720 with 1 Axes>"
      ]
     },
     "metadata": {
      "needs_background": "light"
     },
     "output_type": "display_data"
    }
   ],
   "source": [
    "# Plot the distribution of numpy data - hours_mobile\n",
    "plt.figure(figsize=(14,10))\n",
    "plt.hist(hours_mobile, bins=50, align='left', color='b', edgecolor='red', linewidth=1)\n",
    "\n",
    "# Add axis labels\n",
    "plt.xlabel('Average Hours')\n",
    "plt.title(\"Average Hours on Mobile for Teenagers\")\n",
    " \n",
    "plt.show()"
   ]
  },
  {
   "cell_type": "markdown",
   "metadata": {},
   "source": [
    "## References\n",
    "\n",
    "[1] Software Freedom Conservancy. Git.\n",
    "\n",
    "https://git-scm.com/.\n",
    "\n",
    "[2] Inc. GitHub. Github.\n",
    "\n",
    "https://github.com/.\n",
    "\n",
    "[3] GMIT. Quality assurance framework.\n",
    "\n",
    "https://www.gmit.ie/general/quality-assurance-framework.\n",
    "\n",
    "[4] NumPy developers. Numpy.\n",
    "\n",
    "http://www.numpy.org/.\n",
    "\n",
    "[5] Project Jupyter. Project jupyter home.\n",
    "\n",
    "http://jupyter.org/.\n",
    "\n",
    "[6] Anaconda\n",
    "\n",
    "https://docs.anaconda.com/anaconda/\n",
    "\n",
    "[7] Python\n",
    "\n",
    "https://www.python.org/downloads/\n",
    "\n",
    "[8] Cmder software\n",
    "\n",
    "https://cmder.net/\n",
    "\n",
    "[9] https://pandas.pydata.org/\n",
    "\n",
    "[10] https://matplotlib.org/\n",
    "\n",
    "[11] Seaborn\n",
    "\n",
    "https://anaconda.org/anaconda/seaborn\n",
    "\n",
    "[12] https://www.scipy.org/\n",
    "\n",
    "[13] https://code.visualstudio.com/docs\n",
    "\n",
    "[14] Is there a way to edit a commit message on GitHub?\n",
    "\n",
    "https://superuser.com/questions/751699/is-there-a-way-to-edit-a-commit-message-on-github\n",
    "\n",
    "[15] Phone and internet use making teenagers unhappier than previous generations\n",
    "\n",
    "https://www.irishtimes.com/business/technology/phone-and-internet-use-making-teenagers-unhappier-than-previous-generations-1.3833840\n",
    "\n",
    "[16] Teens and Mobile Phones Over the Past Five Years: Pew Internet Looks Back\n",
    "\n",
    "https://www.pewresearch.org/internet/2009/08/19/teens-and-mobile-phones-over-the-past-five-years-pew-internet-looks-back/\n",
    "\n",
    "[17] https://docs.scipy.org/doc/numpy-1.14.0/reference/routines.random.html\n",
    "\n",
    "[18] Practical Tutorial on Data Manipulation with Numpy and Pandas in Python\n",
    "\n",
    "https://www.hackerearth.com/practice/machine-learning/data-manipulation-visualisation-r-python/tutorial-data-manipulation-numpy-pandas-python/tutorial/\n",
    "\n",
    "[19] https://www.dataquest.io/blog/numpy-tutorial-python/\n",
    "\n",
    "[20] How to generate random categorical data in python according to a probability distribution?\n",
    "\n",
    "https://stackoverflow.com/questions/57435469/how-to-generate-random-categorical-data-in-python-according-to-a-probability-dis\n",
    "\n",
    "[21] Synthetic data generation — a must-have skill for new data scientists\n",
    "\n",
    "https://towardsdatascience.com/synthetic-data-generation-a-must-have-skill-for-new-data-scientists-915896c0c1ae\n",
    "\n",
    "[22] https://realpython.com/python-random/#the-random-module\n",
    "\n",
    "[23] https://www.sharpsightlabs.com/blog/numpy-random-choice/#numpy-random-choice-examples\n",
    "\n",
    "[24] https://www.techbeamers.com/using-python-random/\n",
    "\n",
    "[25] https://docs.python.org/3/library/random.html\n",
    "\n",
    "[26] https://www.geeksforgeeks.org/numpy-mean-in-python/\n",
    "\n",
    "[27] https://stackoverflow.com/questions/44119653/creating-a-boxplot-with-matplotlib\n",
    "\n",
    "[28] https://matplotlib.org/3.1.1/gallery/statistics/boxplot.html\n",
    "\n",
    "[29] https://towardsdatascience.com/understanding-boxplots-5e2df7bcbd51\n",
    "\n",
    "[30] http://blog.bharatbhole.com/creating-boxplots-with-matplotlib/\n",
    "\n",
    "[31] https://realpython.com/python-histograms/#visualizing-histograms-with-matplotlib-and-pandas\n",
    "\n",
    "[32] https://datatofish.com/plot-histogram-python/\n",
    "\n",
    "[33] https://www.pythonprogramming.in/plot-histogram-with-specific-color-edge-color-and-line-width.html\n",
    "\n",
    "[34] What does numpy.random.seed(0) do?\n",
    "\n",
    "https://stackoverflow.com/questions/21494489/what-does-numpy-random-seed0-do"
   ]
  },
  {
   "cell_type": "code",
   "execution_count": null,
   "metadata": {},
   "outputs": [],
   "source": []
  }
 ],
 "metadata": {
  "kernelspec": {
   "display_name": "Python 3",
   "language": "python",
   "name": "python3"
  },
  "language_info": {
   "codemirror_mode": {
    "name": "ipython",
    "version": 3
   },
   "file_extension": ".py",
   "mimetype": "text/x-python",
   "name": "python",
   "nbconvert_exporter": "python",
   "pygments_lexer": "ipython3",
   "version": "3.7.4"
  }
 },
 "nbformat": 4,
 "nbformat_minor": 2
}
