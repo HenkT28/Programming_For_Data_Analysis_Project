{
 "cells": [
  {
   "cell_type": "markdown",
   "metadata": {},
   "source": [
    "# This Jupyter Notebook contains the instructions for Programming for Data Analysis Project 2019\n",
    "\n",
    "### GMIT H.Dip Data Analytics - Academic Year 2019 - 2020\n",
    "\n",
    "#### See README for more background info.\n",
    "\n",
    "Student: Henk Tjalsma\n",
    "\n",
    "GMIT email address:\n",
    "\n",
    "G00376321@gmit.ie"
   ]
  },
  {
   "cell_type": "markdown",
   "metadata": {},
   "source": [
    "## Problem statement\n",
    "\n",
    "For this project I created a data set by simulating a real-world phenomenon of my choosing. I could pick any phenomenon I wished – you can pick one that is of interest to you in your personal or professional life. Then, rather than collect data related to the phenomenon, you should model and synthesise such data using Python.\n",
    "\n",
    "It was suggested to use the numpy.random package for this purpose.\n",
    "\n",
    "Specifically, in this project you should:\n",
    "\n",
    "1. Choose a real-world phenomenon that can be measured and for which you could collect at least one-hundred data points across at least four different variables.\n",
    "\n",
    "2. Investigate the types of variables involved, their likely distributions, and their relationships with each other.\n",
    "\n",
    "3. Synthesise/simulate a data set as closely matching their properties as possible.\n",
    "\n",
    "4. Detail your research and implement the simulation in a Jupyter notebook – the data set itself can simply be displayed in an output cell within the notebook.\n",
    "\n",
    "Note that this project is about simulation – you must synthesise a data set. Some students may already have some real-world data sets in their own files. It is okay to base your synthesised data set on these should you wish (please reference it if you do), but the main task in this project is to create a synthesised data set."
   ]
  },
  {
   "cell_type": "markdown",
   "metadata": {},
   "source": [
    "### What is a synthetic dataset?\n",
    "\n",
    "As the name suggests, quite obviously, a synthetic dataset is a repository of data that is generated programmatically. So, it is not collected by any real-life survey or experiment. Its main purpose, therefore, is to be flexible and rich enough to help an ML practitioner conduct fascinating experiments with various classification, regression, and clustering algorithms. [21]\n",
    "\n",
    "Desired properties are:\n",
    "\n",
    "* It can be numerical, binary, or categorical (ordinal or non-ordinal).\n",
    "\n",
    "* The number of features and length of the dataset should be arbitrary.\n",
    "\n",
    "* It should preferably be random and the user should be able to choose a wide variety of statistical distribution to base this data upon i.e. the underlying random process can be precisely controlled and tuned.\n",
    "\n",
    "* If it is used for classification algorithms, then the degree of class separation should be controllable to make the learning problem easy or hard.\n",
    "\n",
    "* Random noise can be interjected in a controllable manner\n",
    "\n",
    "* For a regression problem, a complex, non-linear generative process can be used for sourcing the data."
   ]
  },
  {
   "cell_type": "markdown",
   "metadata": {},
   "source": [
    "### Real-World Phenomenon \n",
    "\n",
    "The phenomenon I have picked is the long hours teenagers (13 - 19 year olds) are spending on their mobile nowadays, and the stress, anxiety, isolation, sleep deprivation, unhappiness, just to name a few, it can cause. \n",
    "\n",
    "Is there an acceptable number of hours? What is normal? Should legislation be put in place by the national government for kids under a certain age, to have a mobile at all?\n",
    "\n",
    "I can see it with our own teenage daughter, 15 years old, who is spending a lot of time on her mobile when at home. This means we are required to restrict the wifi use. I do know from other parents we talked to they are more lenient on it, as the topic was causing a lot of arguments. To be honest, many parents have given up on setting any wifi restriction at all, for older teenagers, even so that some are allowed to have the mobile in the bedroom all night. \n",
    "\n",
    "Although it's a natural process to some extent, we noticed our daughter tends to isolate to her bedroom a lot more, meaning the interaction with the family is very limited.  Also she seems to spend less time with her peers socialising. \n",
    "\n",
    "Furthermore our daugher was big into sports as a young teenager, but since a few years has given up on that completely. This means she doesn't get the pyhysical and mental release she needs, and is more agitated in general. On top she stays up longer or awake in the evening, as her mind isn't switched off, and so she doesn't get enough sleep, and sleep deprivation kicks in.\n",
    "\n",
    "![mobile](mobile.jpg)\n",
    "\n",
    "An article in the Irish Times confirms my conclusions, below some quotes:\n",
    "\n",
    "[Phone and internet use making teenagers unhappier than previous generations](https://www.irishtimes.com/business/technology/phone-and-internet-use-making-teenagers-unhappier-than-previous-generations-1.3833840)\n",
    "\n",
    "* \"Teenagers who spend long hours browsing through social media and using their smartphones are significantly less happy and more likely to become depressed than previous generations of young people, a UN study has found.\"\n",
    "\n",
    "* \"Research carried out among teenagers born after 1995 in the US has found that happiness among American teenagers has declined significantly since 2012 while the time young people spend on screen activities has steadily increased.\"\n",
    "\n",
    "* \"The Sad State of Happiness in the United States and the Role of Digital Media report, released this week as part of the UN World Happiness study, argues that young people who spend more time with friends and family, exercising and sleeping are happier than peers who spend hours every day using the internet and smartphones.\"\n",
    "\n",
    "* \"It warns that those born after 1995 as part of the iGen generation are “markedly lower in psychological well-being” than millennials (born between 1980-1994) were at the same age.\"\n",
    "\n",
    "#### Rise in digital media\n",
    "\n",
    "Author of the report Dr Jean Twenge, professor of psychology at San Diego State University, notes that while happiness levels among young people increased between 1991 and 2011, both adults and adolescents said they were significantly less happy in 2016-17 compared to how they felt in the early 2000s. Dr Twenge draws a strong correlation between these feelings of unhappiness and the rapid increase in the number of people using smartphones in recent years. This rise in digital media use has resulted in teenagers spending less time with their peers socialising and going to parties, notes Dr Twenge, adding that the way adolescents spend time together has “fundamentally shifted”. She writes that depression, suicidal thoughts and self-harm have increased sharply among teens since 2010, particularly among young women and girls in the US and teens in the UK. \n",
    "\n",
    "In 2017, the average 17/18 year old spent more than six hours a day using the internet, on social media and texting. By 2018, 95 per cent of US teenagers had access to a smartphone while 45 per cent said they were “almost constantly” online. Girls who spend five or more hours a day on social media were found to be three times more likely to be depressed than non-social media users while heavy internet users were twice as likely to be unhappy."
   ]
  },
  {
   "cell_type": "markdown",
   "metadata": {},
   "source": [
    "#### Variables involved, their likely distributions, and their relationships with each other, for this Real-World Phenomenon\n",
    "\n",
    "    1. Hours\n",
    "    \n",
    "The most interesting variable in this project is the hours teenagers spent on the mobile phone.\n",
    "\n",
    "    2.  Age\n",
    "    \n",
    "Also the age of the teenager is important as the number of hours on the mobile I assume will go up when they get older. They will have more unrestricted access.\n",
    "\n",
    "    3. Gender\n",
    "    \n",
    "Another variable of interest, the gender of the teenager. I assume girls spent more time on it than boys. \n",
    "\n",
    "    4. Apps\n",
    "    \n",
    "Apps on mobile devices. What apps are used the most, and are so addictive to teenagers? Is there social pressure on them to be on the mobile so much, and to use these apps?\n",
    "\n",
    "    5. Income\n",
    "    \n",
    "Also an interesting variable is Household Income, so the difference in phone ownership by socio-economic status. \n",
    "    \n",
    "    6. Family \n",
    "    \n",
    "Family is another parameter I would like to include. \n",
    "\n",
    "    7. Race_Ethnicity\n",
    "    \n",
    "Another variable I would like to research is Race and Ethnicity, and if there are any discrepancies between groups.  "
   ]
  },
  {
   "cell_type": "markdown",
   "metadata": {},
   "source": [
    "### Numpy Distributions to Create Synthesised Data Set\n",
    "\n",
    "<https://docs.scipy.org/doc/numpy-1.14.0/reference/routines.random.html>\n",
    "\n",
    "* The hours per week (Hours) variable will be a non-negative real number with two decimal places. \n",
    "\n",
    "Based on below Uniform Distribution definition I think Normal Distribution fits better (Real-Valued Distributions):\n",
    "\n",
    "    If you need to generate random floats that lie within a specific [x, y] interval, you can use\n",
    "    random.uniform(), which plucks from the continuous uniform distribution.\n",
    "\n",
    "    A uniform distribution (often called 'rectangular') is one in which all values between two boundaries \n",
    "    occur roughly equally. \n",
    "\n",
    "If the hours per week matter as it will be in this project, there’s usually some non-uniformity, unless the hours have been constructed to be uniform: as for controlled studies.\n",
    "\n",
    "So I'm looking at my own daughter, who is on her mobile every weekday 2 hours at least, and in the weekends sometimes 4 hours per day, so 18 hours in total per week. Is this a normal number of hours? And for girls? It seems like it based on some reports I came across on the internet (see below). From 12 years on, it averages already 18 hours weekly.\n",
    "\n",
    "##### Children’s online behaviours in Irish Primary and Secondary schools:\n",
    "\n",
    "[Children’s Online behaviours in Irish primary and secondary schools - RESEARCH REPORT](https://zeeko.ie/wp-content/uploads/2018/06/ZEEKO-TREND-REPORT-.pdf) [44]\n",
    "\n",
    "##### Children and Parents: Media Use and Attitudes Report (Ofcom - UK):\n",
    "\n",
    "[Media Use and Attitudes Report](https://www.ofcom.org.uk/__data/assets/pdf_file/0020/108182/children-parents-media-use-attitudes-2017.pdf) [45]\n",
    "\n",
    "So I will leave it to 18 hours on average per week. As standard deviation I will take 4 hours and will use a normal distribution for this.\n",
    "\n",
    "* The Age variable is a continuous numerical variable, an integer.\n",
    "\n",
    "Based on Functions for Integers [25] randint makes sense. I will generate a random set of integers, and do so for 1000 data points, and for the ages 13 till 19. \n",
    "\n",
    "    You can generate a random integer between two endpoints in Python with the random.randint() function. \n",
    "    This spans the full [x, y] interval and may include both endpoints. [22]\n",
    "\n",
    "* The gender (Gender) variable \n",
    "\n",
    "It will be Boy/Girl and I'll use the binomial distribution (for 1000 datapoints).\n",
    "\n",
    "A binomial distribution can be thought of as simply the probability of a SUCCESS or FAILURE outcome in an experiment or survey that is repeated multiple times. The binomial is a type of distribution that has two possible outcomes (the prefix “bi” means two, or twice).\n",
    "\n",
    "* Favorite Apps on mobile devices (Apps). \n",
    "\n",
    "We can create categorical variable, with a number of choices. You can use np.random.choice() and specify a vector of probabilities corresponding to the chosen-from arrray. [20]\n",
    "\n",
    "In both  primary  and secondary  schools,  YouTube,  Snapchat  and  Instagram  are the  most  cited. [44]\n",
    "\n",
    "A  higher  percentage  of secondary  school  students  expressed  a  preference  for  Snapchat (69%), followed by  Instagram (46%),  and  YouTube (41%).  Facebook,  Netflix,  and  Spotify  are  also  of  interest to secondary  students,  while  primary  school  pupils preferred gaming  apps  like  Minecraft (16%) and FIFA (12%). \n",
    "\n",
    "There are no notable differences between boys and girls.    \n",
    "\n",
    "[5 Apps and Social Networks Teens Love](https://www.webwise.ie/parents/5-apps-and-websites-teens-love/)\n",
    "\n",
    "* Household Income (Income) is a categorical variable with a number of possible values. \n",
    "\n",
    "I used np.random.choice() again which allows me to specify a vector of probabilities based on CSO statistics.\n",
    "\n",
    "* Family \n",
    "\n",
    "##### One parent families less likely to be at work.\n",
    "\n",
    "Only 47.8 per cent of single parents were at work, compared with 70.2 per cent for heads of two-parent families. 13.1 per cent of one parent families were unemployed. For couples, this figure stood at 6.9 per cent.\n",
    "\n",
    "Using np.random.choice() again which allows me to specify a vector of probabilities based on CSO statistics.\n",
    "\n",
    "Do families where both parents work have an impact on the teenagers, and the hours on the mobile? What about single (working) parents, is that very much the same?\n",
    "\n",
    "* Race_Ethnicity\n",
    "\n",
    "Will there be differences in mobile use, based on culture, and ethnicity?\n",
    "\n",
    "I'm using np.random.choice() again which allows me to specify a vector of probabilities based on CSO statistics."
   ]
  },
  {
   "cell_type": "code",
   "execution_count": 1,
   "metadata": {},
   "outputs": [],
   "source": [
    "# Import python packages\n",
    "## Numpy is used for creating fake data\n",
    "import numpy as np\n",
    "from numpy import random\n",
    "\n",
    "import pandas as pd\n",
    "import matplotlib.pyplot as plt\n",
    "import matplotlib as mpl \n",
    "import seaborn as sns\n",
    "\n",
    "## Agg backend is used to create plot as a .png file\n",
    "mpl.use('agg')\n",
    "\n",
    "# Magic command to use matplotlib nicely in the notebook\n",
    "%matplotlib inline"
   ]
  },
  {
   "cell_type": "markdown",
   "metadata": {},
   "source": [
    "### What does numpy.random.seed(28) do?\n",
    "\n",
    "I kept getting different results each time, so setting seed(28). With the seed reset (every time), the same set of numbers will appear every time. [34]\n",
    "\n",
    "If the random seed is not reset, different numbers appear with every invocation. \n",
    "\n",
    "(pseudo-)random numbers work by starting with a number (the seed), multiplying it by a large number, then taking modulo of that product. The resulting number is then used as the seed to generate the next \"random\" number. When you set the seed (every time), it does the same thing every time, giving you the same numbers.\n",
    "\n",
    "If you want seemingly random numbers, do not set the seed. If you have code that uses random numbers that you want to debug, however, it can be very helpful to set the seed before each run so that the code does the same thing every time you run it.\n",
    "\n",
    "To get the most random numbers for each run, call numpy.random.seed(). This will cause numpy to set the seed to a random number obtained from /dev/urandom or its Windows analog or, if neither of those is available, it will use the clock."
   ]
  },
  {
   "cell_type": "code",
   "execution_count": 2,
   "metadata": {
    "scrolled": true
   },
   "outputs": [],
   "source": [
    "np.random.seed(28)"
   ]
  },
  {
   "cell_type": "markdown",
   "metadata": {},
   "source": [
    "#### Age\n",
    "\n",
    "So through numpy I created an array of 1000 teenagers between ages 13 and including 19 using the randint distribution. \n",
    "\n",
    "Age is a big factor in mobile usage."
   ]
  },
  {
   "cell_type": "code",
   "execution_count": 3,
   "metadata": {
    "scrolled": true
   },
   "outputs": [],
   "source": [
    "np.random.seed(28)\n",
    "\n",
    "# Generate random set of (integers) of teenagers, different ages between 13 to 19\n",
    "# numpy.random.randint(low, high=None, size=None, dtype='l')\n",
    "\n",
    "# Returns random integers from the “discrete uniform” distribution of specified dtype in the “half-open” interval [low, high). \n",
    "\n",
    "teenagers_age = np.random.randint(13, 20, 1000)"
   ]
  },
  {
   "cell_type": "code",
   "execution_count": 4,
   "metadata": {
    "scrolled": true
   },
   "outputs": [
    {
     "data": {
      "text/plain": [
       "array([14, 14, 18, 19, 17, 13, 16, 17, 13, 16, 17, 17, 18, 13, 13, 19, 15,\n",
       "       16, 17, 13, 14, 19, 19, 18, 17, 15, 16, 13, 17, 13, 18, 19, 17, 13,\n",
       "       17, 18, 15, 17, 17, 17, 17, 14, 18, 13, 16, 17, 14, 17, 13, 14, 17,\n",
       "       15, 14, 14, 15, 14, 15, 14, 15, 15, 15, 14, 17, 19, 18, 15, 13, 17,\n",
       "       19, 16, 15, 18, 16, 14, 17, 15, 15, 16, 13, 17, 16, 16, 16, 14, 16,\n",
       "       17, 14, 17, 18, 17, 14, 16, 15, 14, 18, 17, 17, 13, 17, 16, 19, 17,\n",
       "       17, 17, 19, 16, 15, 14, 15, 17, 17, 15, 13, 16, 13, 18, 18, 15, 14,\n",
       "       13, 18, 19, 16, 14, 19, 14, 14, 15, 14, 16, 13, 13, 19, 13, 13, 18,\n",
       "       19, 19, 18, 18, 14, 15, 16, 17, 15, 16, 17, 15, 17, 18, 16, 14, 13,\n",
       "       18, 17, 17, 13, 16, 17, 15, 18, 18, 16, 14, 14, 15, 13, 19, 15, 18,\n",
       "       13, 14, 19, 16, 15, 18, 17, 18, 15, 16, 13, 16, 14, 19, 14, 17, 19,\n",
       "       14, 13, 13, 17, 19, 17, 19, 16, 19, 18, 16, 15, 15, 18, 16, 15, 17,\n",
       "       19, 17, 18, 17, 16, 13, 19, 14, 17, 16, 17, 14, 17, 15, 16, 15, 13,\n",
       "       19, 19, 15, 17, 19, 18, 17, 18, 17, 17, 18, 18, 18, 17, 17, 15, 16,\n",
       "       17, 13, 14, 19, 13, 19, 13, 18, 18, 17, 16, 17, 14, 19, 17, 18, 18,\n",
       "       16, 17, 17, 13, 17, 19, 13, 18, 15, 19, 14, 18, 19, 19, 19, 15, 15,\n",
       "       15, 14, 13, 19, 17, 16, 14, 18, 13, 16, 18, 16, 18, 16, 16, 13, 16,\n",
       "       19, 14, 19, 13, 18, 16, 14, 18, 15, 15, 14, 16, 16, 18, 17, 16, 13,\n",
       "       13, 18, 15, 13, 16, 17, 17, 13, 17, 18, 19, 15, 19, 13, 16, 13, 15,\n",
       "       18, 14, 14, 18, 17, 13, 13, 13, 17, 15, 17, 15, 16, 13, 19, 16, 15,\n",
       "       16, 16, 16, 13, 13, 19, 19, 18, 13, 19, 14, 13, 18, 19, 19, 13, 17,\n",
       "       15, 18, 17, 15, 18, 15, 17, 16, 17, 17, 17, 13, 16, 15, 14, 13, 17,\n",
       "       18, 18, 16, 19, 14, 18, 17, 19, 15, 15, 15, 14, 18, 13, 15, 13, 15,\n",
       "       15, 13, 19, 13, 14, 13, 17, 15, 17, 19, 18, 16, 16, 19, 17, 14, 18,\n",
       "       15, 13, 15, 14, 17, 15, 19, 13, 16, 14, 14, 16, 14, 16, 16, 18, 15,\n",
       "       18, 17, 15, 14, 13, 14, 16, 17, 14, 17, 13, 19, 14, 19, 19, 13, 19,\n",
       "       16, 18, 18, 16, 16, 19, 19, 15, 17, 16, 19, 15, 15, 18, 16, 17, 17,\n",
       "       15, 14, 14, 16, 15, 17, 19, 15, 17, 19, 15, 13, 17, 17, 16, 19, 13,\n",
       "       19, 16, 14, 13, 17, 18, 14, 17, 17, 17, 18, 19, 13, 13, 15, 13, 19,\n",
       "       13, 16, 15, 13, 14, 17, 17, 16, 16, 16, 13, 17, 18, 14, 18, 19, 14,\n",
       "       18, 15, 18, 19, 15, 16, 16, 14, 14, 18, 17, 17, 16, 13, 18, 14, 17,\n",
       "       13, 17, 19, 14, 17, 17, 16, 17, 14, 13, 15, 17, 17, 13, 13, 16, 15,\n",
       "       13, 16, 13, 16, 19, 17, 15, 17, 14, 14, 16, 13, 13, 15, 15, 19, 19,\n",
       "       17, 18, 15, 13, 18, 15, 13, 18, 14, 15, 16, 18, 17, 16, 18, 15, 17,\n",
       "       18, 14, 16, 18, 13, 18, 16, 17, 18, 13, 16, 18, 15, 16, 16, 13, 16,\n",
       "       14, 16, 13, 15, 18, 14, 19, 14, 14, 16, 17, 16, 19, 14, 18, 15, 17,\n",
       "       18, 16, 16, 16, 15, 19, 13, 19, 14, 14, 14, 16, 16, 15, 19, 18, 18,\n",
       "       18, 14, 19, 15, 13, 16, 13, 16, 18, 14, 16, 18, 15, 17, 13, 19, 17,\n",
       "       16, 18, 19, 16, 13, 16, 18, 14, 16, 19, 18, 14, 16, 13, 13, 13, 18,\n",
       "       14, 15, 17, 13, 15, 13, 16, 18, 19, 13, 16, 19, 17, 13, 13, 14, 19,\n",
       "       17, 15, 18, 16, 18, 18, 17, 19, 19, 15, 13, 15, 18, 18, 18, 16, 19,\n",
       "       14, 14, 15, 16, 18, 14, 16, 18, 14, 16, 18, 16, 19, 18, 17, 15, 13,\n",
       "       17, 14, 18, 13, 17, 16, 17, 15, 19, 13, 17, 14, 13, 18, 14, 14, 17,\n",
       "       16, 16, 18, 14, 14, 17, 15, 15, 17, 15, 16, 16, 16, 14, 18, 14, 17,\n",
       "       17, 15, 19, 19, 15, 15, 15, 14, 17, 19, 15, 17, 16, 14, 17, 14, 19,\n",
       "       15, 18, 13, 15, 19, 19, 18, 16, 18, 14, 19, 14, 13, 17, 13, 14, 14,\n",
       "       18, 15, 19, 13, 18, 18, 14, 15, 19, 16, 16, 19, 13, 19, 14, 19, 17,\n",
       "       16, 16, 17, 13, 14, 14, 19, 18, 13, 15, 13, 17, 17, 16, 17, 14, 13,\n",
       "       13, 13, 16, 13, 16, 14, 16, 17, 18, 16, 14, 17, 18, 14, 17, 14, 14,\n",
       "       14, 14, 17, 17, 14, 15, 15, 13, 18, 13, 18, 15, 17, 14, 16, 19, 18,\n",
       "       17, 18, 16, 19, 19, 16, 14, 18, 19, 15, 13, 17, 16, 16, 14, 19, 14,\n",
       "       16, 18, 19, 17, 13, 18, 13, 15, 17, 17, 19, 18, 18, 15, 17, 15, 17,\n",
       "       15, 14, 18, 16, 19, 15, 14, 15, 14, 18, 18, 14, 13, 15, 19, 14, 18,\n",
       "       19, 13, 16, 17, 15, 14, 17, 19, 19, 16, 19, 13, 13, 16, 13, 15, 18,\n",
       "       13, 15, 16, 15, 18, 17, 14, 19, 19, 14, 18, 16, 19, 18, 13, 19, 18,\n",
       "       19, 13, 19, 14, 18, 15, 14, 18, 19, 17, 17, 18, 18, 14, 15, 13, 14,\n",
       "       13, 16, 15, 17, 19, 16, 15, 16, 18, 18, 13, 15, 17, 15, 18, 17, 19,\n",
       "       17, 16, 13, 17, 19, 15, 16, 15, 15, 16, 14, 15, 16, 14, 13, 18, 15,\n",
       "       14, 17, 17, 19, 17, 19, 17, 13, 15, 14, 14, 19, 19, 13])"
      ]
     },
     "execution_count": 4,
     "metadata": {},
     "output_type": "execute_result"
    }
   ],
   "source": [
    "teenagers_age"
   ]
  },
  {
   "cell_type": "markdown",
   "metadata": {},
   "source": [
    "### How to Calculate the 5-Number Summary for Your Data in Python\n",
    "\n",
    "Data summarization provides a convenient way to describe all of the values in a data sample with just a few statistical values. [35]\n",
    "\n",
    "The mean and standard deviation are used to summarize data with a Gaussian distribution, but may not be meaningful, or could even be misleading, if your data sample has a non-Gaussian distribution. \n",
    "\n",
    "The Normal distribution is known as the Gaussian distribution, more formally, named after Carl Friedrich Gauss.\n",
    "It is known as the “normal” distribution, because it is the distribution that a lot of data falls into. The most commonly seen and therefore well-known distribution of continuous values is the bell curve. [38]\n",
    "\n",
    "The normal distribution is the most important probability distribution in statistics because it fits many natural phenomena. For example, heights, blood pressure, measurement error, and IQ scores follow the normal distribution. \n",
    "\n",
    "It is a symmetric distribution where most of the observations cluster around the central peak and the probabilities for values further away from the mean taper off equally in both directions. \n",
    "\n",
    "    However for calculating the different ages of teenagers in this array, we used randint function, not \n",
    "    Normal distribution. \n",
    "\n",
    "In the case of data that does not have a Gaussian distribution, you can summarize the data sample using the five-number summary.\n",
    "\n",
    "#### Five-Number Summary\n",
    "\n",
    "The five-number summary, or 5-number summary for short, is a non-parametric data summarization technique.\n",
    "\n",
    "It is sometimes called the Tukey 5-number summary because it was recommended by John Tukey. It can be used to describe the distribution of data samples for data with any distribution.\n",
    "\n",
    "The five-number summary involves the calculation of 5 summary statistical quantities: namely:\n",
    "\n",
    "    Median: The middle value in the sample, also called the 50th percentile or the 2nd quartile.\n",
    "    1st Quartile: The 25th percentile.\n",
    "    3rd Quartile: The 75th percentile.\n",
    "    Minimum: The smallest observation in the sample.\n",
    "    Maximum: The largest observation in the sample.\n",
    "    \n",
    "A quartile is an observed value at a point that aids in splitting the ordered data sample into four equally sized parts. The median, or 2nd Quartile, splits the ordered data sample into two parts, and the 1st and 3rd quartiles split each of those halves into quarters.\n",
    "\n",
    "A percentile is an observed value at a point that aids in splitting the ordered data sample into 100 equally sized portions. Quartiles are often also expressed as percentiles.\n",
    "\n",
    "Both the quartile and percentile values are examples of rank statistics that can be calculated on a data sample with any distribution. They are used to quickly summarize how much of the data in the distribution is behind or in front of a given observed value. For example, half of the observations are behind and in front of the median of a distribution.\n",
    "\n",
    "Note that quartiles are also calculated in the box and whisker plot, a non-parametric method to graphically summarize the distribution of a data sample. \n",
    "\n",
    "I will first calculate the 5 summary statistical quantities, then produce boxplot.\n",
    "\n",
    "#### How to Calculate the Five-Number Summary\n",
    "\n",
    "Calculating the five-number summary involves finding the observations for each quartile as well as the minimum and maximum observed values from the data sample.\n",
    "\n",
    "If there is no specific value in the ordered data sample for the quartile, such as if there are an even number of observations and we are trying to find the median, then we can calculate the mean of the two closest values, such as the two middle values.\n",
    "\n",
    "We can calculate arbitrary percentile values in Python using the percentile() NumPy function. We can use this function to calculate the 1st, 2nd (median), and 3rd quartile values. The function takes both an array of observations and a floating point value to specify the percentile to calculate in the range of 0 to 100. It can also takes a list of percentile values to calculate multiple percentiles."
   ]
  },
  {
   "cell_type": "code",
   "execution_count": 5,
   "metadata": {
    "scrolled": true
   },
   "outputs": [],
   "source": [
    "# Calculate multiple percentiles\n",
    "quartiles = np.percentile(teenagers_age, [25, 50, 75])"
   ]
  },
  {
   "cell_type": "markdown",
   "metadata": {},
   "source": [
    "By default, the function will calculate a linear interpolation (average) between observations if needed, such as in the case of calculating the median on a sample with an even number of values."
   ]
  },
  {
   "cell_type": "markdown",
   "metadata": {},
   "source": [
    "The NumPy functions min() and max() can be used to return the smallest and largest values in the data sample, i.e. teenagers_age."
   ]
  },
  {
   "cell_type": "code",
   "execution_count": 6,
   "metadata": {
    "scrolled": true
   },
   "outputs": [],
   "source": [
    "teenagers_age_min, teenagers_age_max = teenagers_age.min(), teenagers_age.max()"
   ]
  },
  {
   "cell_type": "markdown",
   "metadata": {},
   "source": [
    "We can put all of this together.\n",
    "\n",
    "The example below generates a data sample drawn from a uniform distribution between 0 and 1 and summarizes it using the five-number summary."
   ]
  },
  {
   "cell_type": "code",
   "execution_count": 7,
   "metadata": {
    "scrolled": true
   },
   "outputs": [
    {
     "name": "stdout",
     "output_type": "stream",
     "text": [
      "Min: 13\n",
      "Q1: 14\n",
      "Median: 16\n",
      "Q3: 18\n",
      "Max: 19\n"
     ]
    }
   ],
   "source": [
    "# calculate quartiles\n",
    "quartiles = np.percentile(teenagers_age, [25, 50, 75])\n",
    "# calculate min/max\n",
    "teenagers_age_min, teenagers_age_max = teenagers_age.min(), teenagers_age.max()\n",
    "# print 5-number summary - as integers\n",
    "print('Min: %.0f' % teenagers_age_min)\n",
    "print('Q1: %.0f' % quartiles[0])\n",
    "print('Median: %.0f' % quartiles[1])\n",
    "print('Q3: %.0f' % quartiles[2])\n",
    "print('Max: %.0f' % teenagers_age_max)"
   ]
  },
  {
   "cell_type": "markdown",
   "metadata": {},
   "source": [
    "Running the example generates the data sample and calculates the five-number summary to describe the sample distribution."
   ]
  },
  {
   "cell_type": "markdown",
   "metadata": {},
   "source": [
    "We can see that the spread of observations is close to our expectations showing 14 for the 25th percentile 16 for the 50th percentile, and 18 for the 75th percentile, close to the idealized values of 0.25, 0.50, and 0.75 respectively."
   ]
  },
  {
   "cell_type": "code",
   "execution_count": 8,
   "metadata": {
    "scrolled": true
   },
   "outputs": [
    {
     "name": "stdout",
     "output_type": "stream",
     "text": [
      "\n",
      "Mean of Teenagers Age :  15.999\n"
     ]
    }
   ],
   "source": [
    "# Mean of the flattened array  \n",
    "print(\"\\nMean of Teenagers Age : \", np.mean(teenagers_age))  "
   ]
  },
  {
   "cell_type": "markdown",
   "metadata": {},
   "source": [
    "The numpy.mean() in Python, computes the arithmetic mean (average) of the given data (array elements) along the specified axis. [26] "
   ]
  },
  {
   "cell_type": "markdown",
   "metadata": {},
   "source": [
    "It is recommended to always calculate the five-number summary, and only moving on to distribution specific summaries, such as mean and standard deviation for the Gaussian, in the case that you can identify the distribution to which the data belongs."
   ]
  },
  {
   "cell_type": "markdown",
   "metadata": {},
   "source": [
    "##### Boxplot and Violin plots - visual representation of five point summary statistics of this array\n",
    "\n",
    "A Box Plot is a visual representation of five point summary statistics of a given data set. A five number summary includes:\n",
    "\n",
    "    Minimum\n",
    "    First Quartile\n",
    "    Median (Second Quartile)\n",
    "    Third Quartile\n",
    "    Maximum\n",
    "\n",
    "Also, a point worth noticing is that a boxplot is created for Categorical — Continuous Variables which means that if the x -axis is categorical and y axis is continuous then a boxplot or a violin plot should be created.\n",
    "\n",
    "The violin plots are similar to the boxplots. The same can be seen in the image below.\n",
    "\n",
    "![difference_boxplot_violinplot](difference_boxplot_violinplot.png)"
   ]
  },
  {
   "cell_type": "code",
   "execution_count": 9,
   "metadata": {
    "scrolled": true
   },
   "outputs": [
    {
     "data": {
      "image/png": "[encoded data removed]",
      "text/plain": [
       "<Figure size 432x288 with 1 Axes>"
      ]
     },
     "metadata": {
      "needs_background": "light"
     },
     "output_type": "display_data"
    }
   ],
   "source": [
    "# Create the boxplot\n",
    "# Add patch_artist=True option to boxplot() to get fill color\n",
    "# Labels will be used to label x-ticks\n",
    "labels = ['Age']\n",
    "plt.boxplot(teenagers_age, vert=True, notch=True, showmeans=True, patch_artist=True, labels=labels)\n",
    "plt.show()"
   ]
  },
  {
   "cell_type": "markdown",
   "metadata": {},
   "source": [
    "#### Hours per week on the mobile"
   ]
  },
  {
   "cell_type": "code",
   "execution_count": 10,
   "metadata": {
    "scrolled": true
   },
   "outputs": [
    {
     "data": {
      "text/plain": [
       "array([19.79, 24.68, 16.94, 14.13, 18.24, 24.06, 19.35, 16.79, 14.65,\n",
       "       15.93, 19.01,  8.06, 15.39, 10.9 , 18.94, 22.96, 15.4 , 16.94,\n",
       "       15.85, 19.68, 17.62, 14.92, 17.27, 18.71, 20.95, 20.78, 14.74,\n",
       "       19.55, 18.43, 16.74, 15.2 , 18.21, 21.74, 23.84, 11.68, 21.81,\n",
       "       15.59, 19.85, 17.98, 21.11, 16.03, 20.43, 19.26, 15.15, 22.02,\n",
       "       18.85, 14.51, 21.94, 17.72, 25.11, 17.83, 18.19, 22.  , 23.28,\n",
       "       22.68, 14.86, 20.01,  9.16, 18.89,  9.18, 20.67, 16.19, 12.05,\n",
       "       21.75, 19.26, 18.87, 20.63, 19.76, 19.03, 18.9 , 23.83, 11.83,\n",
       "       12.06, 16.05, 18.94, 17.77, 24.06, 12.5 , 16.31, 17.8 , 20.94,\n",
       "       15.19, 16.76, 13.21, 21.22, 18.74,  6.49, 19.2 , 15.75, 15.22,\n",
       "       18.34, 23.52, 15.49,  9.24, 22.59, 26.4 , 17.64, 16.33, 17.86,\n",
       "       14.59, 18.35, 18.36, 23.66, 14.63, 20.45, 19.68, 20.59, 17.75,\n",
       "       17.84, 27.09, 20.35, 15.18, 13.08, 15.82, 13.8 , 15.46, 13.84,\n",
       "       16.97, 19.95, 22.46, 21.46, 21.08, 19.51, 23.33, 17.53, 16.63,\n",
       "       21.42, 16.83, 17.01, 16.77, 18.09, 20.37, 11.6 , 17.89, 16.43,\n",
       "       15.91, 21.61, 18.8 , 24.1 , 17.94, 19.15, 14.16, 18.08, 21.55,\n",
       "       25.06, 16.75, 17.67, 10.58, 17.14, 19.03, 16.92, 26.79, 19.21,\n",
       "       23.72, 14.56, 15.68, 26.72, 18.49, 14.7 , 24.  , 14.28, 14.17,\n",
       "       18.54, 15.52, 12.73, 18.31, 12.56, 17.37, 14.21, 20.02, 33.99,\n",
       "       15.94, 15.74,  6.77, 17.12, 11.9 , 21.62, 20.  , 13.16, 21.11,\n",
       "       16.25, 25.74, 16.67, 23.77,  9.05, 11.09, 12.53, 17.78, 27.92,\n",
       "       25.87, 13.76, 13.92, 16.11, 14.27, 19.29, 15.44, 11.8 , 19.08,\n",
       "       18.75, 19.65, 23.2 , 16.69, 16.85, 13.71, 17.33, 15.53, 15.28,\n",
       "       16.8 , 11.67, 22.84, 21.25, 18.32, 18.73, 16.99, 17.76, 15.03,\n",
       "       15.31, 17.35, 22.53, 14.19, 22.64, 16.67, 16.88, 21.21, 21.51,\n",
       "       16.22, 13.67,  7.97, 16.73, 19.67, 16.76, 20.59, 30.16, 18.92,\n",
       "       18.29, 20.23, 16.45, 17.64, 11.48, 22.6 , 19.69, 18.53, 15.55,\n",
       "       17.22, 14.09, 22.55, 18.05, 20.69, 16.5 , 15.7 , 22.57, 22.68,\n",
       "       12.68, 12.44, 18.98, 19.83, 20.48, 14.71, 14.91, 17.66, 25.07,\n",
       "       16.7 , 23.35, 18.63, 11.47, 20.61, 18.19, 20.75, 11.31, 18.17,\n",
       "       16.5 , 18.66, 14.78, 22.79, 16.86, 16.88, 17.17, 17.24, 16.71,\n",
       "       19.54, 24.21, 18.49, 21.37, 17.86, 20.81, 16.05, 19.14, 22.43,\n",
       "       26.96, 17.59, 14.7 , 18.51,  8.95, 19.77, 14.46, 12.38, 19.08,\n",
       "       17.45, 22.7 , 14.84, 20.15, 16.85, 13.49, 22.94, 17.88, 15.15,\n",
       "       22.72, 14.95, 23.05, 16.11, 12.68, 23.57, 22.11, 24.24, 18.07,\n",
       "       11.77, 14.73, 17.94, 17.43, 13.97, 18.35, 12.85, 18.52, 19.38,\n",
       "       16.54, 15.71, 20.36, 15.42, 16.16, 16.7 , 17.98, 20.39, 18.01,\n",
       "       17.84, 22.46, 14.02, 18.97, 17.39, 19.03, 10.36, 18.61, 15.86,\n",
       "       13.31, 18.25, 21.96, 14.08, 12.29, 18.58, 16.63, 15.26, 12.8 ,\n",
       "       19.69, 24.62, 17.73, 23.39, 12.41, 21.91, 25.86, 16.83, 12.47,\n",
       "       15.75, 10.49, 17.05, 13.23, 18.07, 17.33, 23.88, 22.83, 13.37,\n",
       "       16.95, 11.59, 18.  , 18.03, 14.87, 15.34, 14.53, 16.65, 26.47,\n",
       "       19.82, 16.39, 19.15, 20.44, 20.96, 19.74, 16.01, 16.99, 12.62,\n",
       "       13.13, 15.64, 14.24, 13.82, 19.38, 21.75, 14.97, 19.79, 16.39,\n",
       "       20.65, 12.88, 21.53, 19.04, 21.33, 15.73, 21.08, 18.92, 13.67,\n",
       "       13.35, 26.3 , 17.22, 19.02, 19.29, 22.77, 19.72,  8.55, 18.89,\n",
       "       11.93, 23.29, 25.62, 16.07, 10.28, 16.47, 19.24, 20.32, 12.23,\n",
       "       13.31, 13.1 , 19.55, 23.95, 14.86, 20.9 , 17.78, 17.06, 21.49,\n",
       "       18.01, 13.72,  9.54, 21.67, 15.94, 17.48, 12.99, 16.02, 14.42,\n",
       "       20.65, 17.18, 18.09, 20.9 , 15.05, 19.82, 12.37, 15.39, 15.64,\n",
       "       25.51, 17.14, 18.31, 14.16, 21.75, 18.7 , 23.86, 14.7 , 19.65,\n",
       "       10.29, 22.03, 17.87, 16.94, 16.22, 24.02, 20.47, 20.71, 21.2 ,\n",
       "       23.01, 14.39, 24.27, 20.07, 13.48, 18.18, 20.6 , 17.67, 24.75,\n",
       "       21.45, 20.82, 24.19, 16.74, 16.42, 14.85, 17.94, 10.01, 10.21,\n",
       "       23.17, 13.21, 22.  , 17.15, 16.25, 22.2 , 17.49, 17.96, 17.75,\n",
       "       20.92, 18.84, 18.5 , 29.93, 21.08, 21.05,  8.7 , 20.51, 20.4 ,\n",
       "        8.1 , 19.24, 21.08, 14.95, 15.52, 17.74, 19.57, 16.14, 20.09,\n",
       "       21.36, 20.19, 16.74, 19.39, 18.88, 18.12, 15.02, 22.46, 12.4 ,\n",
       "       19.99, 16.78, 15.93, 17.11, 20.67, 24.05, 19.78, 12.12, 21.59,\n",
       "       17.28, 21.83, 10.25, 16.19, 15.83, 21.43, 15.61, 19.81, 18.95,\n",
       "        5.61, 19.01, 21.74, 19.94, 16.48, 22.79, 14.08, 17.4 , 16.83,\n",
       "       19.23, 14.85, 22.97, 21.32, 17.98,  9.84, 18.82, 20.9 , 14.32,\n",
       "       16.49, 18.66, 13.76, 16.96, 17.26, 22.7 , 10.61, 17.23, 11.9 ,\n",
       "       20.4 , 10.39, 19.16, 15.9 , 16.38, 16.65, 16.82, 18.78, 15.96,\n",
       "       14.89, 26.04, 19.97, 18.95, 20.78, 10.34, 21.02, 18.88, 13.26,\n",
       "       20.06, 17.63, 16.38, 20.7 , 22.25, 19.09, 17.57, 14.78, 25.57,\n",
       "       15.68, 14.2 , 22.29, 13.42, 18.71, 18.86, 17.92, 24.65, 13.08,\n",
       "       15.67, 19.31, 22.62, 21.31, 15.15, 12.51, 15.99, 14.  , 26.56,\n",
       "       18.56, 23.65, 19.77, 20.54, 15.16, 16.21, 16.4 , 22.02,  9.26,\n",
       "       24.17, 18.05, 20.  , 19.48, 24.06, 24.5 , 17.65, 18.14, 18.89,\n",
       "       16.17, 20.38, 21.36, 14.91, 13.25, 16.  , 19.1 , 16.01, 18.23,\n",
       "       17.5 , 17.88, 10.47, 16.89, 18.14, 12.74, 22.1 , 21.98, 18.35,\n",
       "       22.72, 23.36, 10.15, 17.2 , 17.73, 19.07, 23.35, 15.02, 21.43,\n",
       "       16.6 ,  8.89, 15.01, 16.01, 14.97, 12.69, 17.29, 20.45, 17.55,\n",
       "       14.12, 18.89, 20.02, 15.09, 22.37, 17.71, 14.11, 17.39, 21.21,\n",
       "       17.03, 13.84, 18.45, 16.99, 18.58, 18.65, 13.4 , 21.36, 12.63,\n",
       "       13.32, 18.56, 22.12, 21.66, 15.76, 12.39, 14.76, 15.46, 21.48,\n",
       "        9.1 , 18.16, 21.91, 19.49, 21.12, 12.51, 18.86, 20.87, 13.26,\n",
       "       13.95,  9.57, 16.57, 20.28, 12.01, 17.46, 17.61, 19.2 , 24.33,\n",
       "       14.5 , 20.03, 16.68, 20.28, 14.77, 18.29, 20.81, 18.36, 17.45,\n",
       "       16.28, 14.42, 20.95, 21.1 , 20.12, 18.54, 16.46, 21.73, 16.76,\n",
       "       21.88, 13.17, 18.98, 19.45, 12.95, 18.38, 12.62, 11.73, 12.51,\n",
       "       19.79, 24.74, 19.93, 18.45, 26.15, 15.92, 19.18, 13.59,  9.63,\n",
       "       19.7 , 15.46,  9.6 , 19.96, 12.35, 17.49, 15.26, 13.61, 22.91,\n",
       "       17.84, 18.71, 16.19, 16.77, 12.6 , 23.45, 21.63, 25.96, 24.82,\n",
       "       13.22, 16.23, 20.4 , 20.38, 23.68, 21.87, 18.43, 13.17, 18.54,\n",
       "       19.48, 23.78, 24.01, 22.14, 20.28, 19.89, 13.79, 15.08, 11.82,\n",
       "       19.7 , 24.88, 18.87, 20.19, 22.25,  6.5 , 19.69,  9.32, 24.1 ,\n",
       "       18.75, 17.53, 19.41, 15.5 , 15.59, 22.27, 16.71, 16.34, 10.96,\n",
       "       21.5 , 21.32, 19.51, 11.28, 11.04, 13.27, 14.06, 18.29, 19.64,\n",
       "       17.99, 16.94, 16.1 , 20.59, 22.94, 13.58, 17.35, 21.09, 16.65,\n",
       "       17.9 , 19.53, 16.78, 14.96, 13.65, 22.07, 19.6 , 16.77, 18.87,\n",
       "       24.35, 23.58, 17.67, 26.18, 29.12, 12.66, 18.96, 15.31, 15.27,\n",
       "       21.52, 15.47, 15.88, 20.63,  8.33, 13.98, 15.57, 19.98, 18.07,\n",
       "       26.62, 20.19, 16.82, 22.65, 24.03, 27.51, 15.14, 22.64, 21.18,\n",
       "       25.51, 20.64, 13.54, 20.3 , 19.18, 17.71, 16.1 , 22.36, 23.63,\n",
       "       11.75, 23.49, 20.83, 17.87, 13.95, 14.15, 14.56, 17.82, 16.84,\n",
       "       11.36, 17.6 , 16.17, 19.66, 22.4 , 15.6 , 12.87, 15.04, 17.43,\n",
       "       16.79, 10.69, 25.19, 23.24, 19.24, 14.22, 20.19, 16.82, 12.88,\n",
       "       16.26, 15.98, 14.78, 17.38, 12.92, 16.94, 23.01, 13.79, 13.66,\n",
       "       18.03, 14.15, 17.81, 17.86, 16.28, 17.47, 14.54, 12.41, 19.13,\n",
       "       19.22, 29.88, 18.46, 15.88, 16.78, 20.45, 13.94, 13.41, 21.04,\n",
       "       21.38, 14.91, 26.68, 14.62, 17.77, 25.81, 18.47, 21.15, 21.06,\n",
       "       19.48, 19.71, 16.61, 15.39, 19.08, 17.17, 15.22, 14.4 , 19.25,\n",
       "       15.3 , 19.52, 13.63, 18.99, 26.6 , 23.9 , 15.55, 16.94, 10.97,\n",
       "       15.74, 17.11, 21.98, 17.99, 22.28, 17.2 , 18.5 , 23.34, 22.24,\n",
       "       21.23, 15.62, 18.57, 21.38, 16.65, 18.21, 16.01, 14.7 , 21.19,\n",
       "       22.05, 21.1 , 16.05, 17.66, 23.85, 19.71, 21.74, 19.01, 14.12,\n",
       "       19.02, 16.77, 14.44, 16.3 , 19.5 , 20.39, 15.49, 16.17, 30.28,\n",
       "       14.28, 23.53, 18.54, 21.78, 25.29, 17.96, 22.81, 16.7 , 22.34,\n",
       "       17.15, 18.3 , 17.82, 18.47, 18.98, 17.85,  9.5 , 24.19, 16.29,\n",
       "       24.65])"
      ]
     },
     "execution_count": 10,
     "metadata": {},
     "output_type": "execute_result"
    }
   ],
   "source": [
    "np.random.seed(28)\n",
    "\n",
    "# Generating numbers of hours per week on the mobile with mean of 18 using the normal distribution\n",
    "# Standard deviation of 4 hours\n",
    "hours_mobile = np.random.normal(18, 4, 1000).round(2)\n",
    "hours_mobile"
   ]
  },
  {
   "cell_type": "code",
   "execution_count": 11,
   "metadata": {
    "scrolled": true
   },
   "outputs": [
    {
     "name": "stdout",
     "output_type": "stream",
     "text": [
      "\n",
      "Mean of hours per week on the mobile :  17.94\n"
     ]
    }
   ],
   "source": [
    "# Mean of the flattened array  \n",
    "print(\"\\nMean of hours per week on the mobile : \", np.mean(hours_mobile).round(2))"
   ]
  },
  {
   "cell_type": "markdown",
   "metadata": {},
   "source": [
    "With a normal distribution plot, the plot will be centered on the mean value. In a normal distribution, 68% of the data set will lie within ±1 standard deviation of the mean. 95% of the data set will lie within ±2 standard deviations of the mean. And 99.7% of the data set will lie within ±3 standard deviations of the mean."
   ]
  },
  {
   "cell_type": "code",
   "execution_count": 12,
   "metadata": {},
   "outputs": [
    {
     "data": {
      "text/plain": [
       "5.61"
      ]
     },
     "execution_count": 12,
     "metadata": {},
     "output_type": "execute_result"
    }
   ],
   "source": [
    "# Minimum amount of phone hours per week\n",
    "min(hours_mobile) "
   ]
  },
  {
   "cell_type": "code",
   "execution_count": 13,
   "metadata": {},
   "outputs": [
    {
     "data": {
      "text/plain": [
       "33.99"
      ]
     },
     "execution_count": 13,
     "metadata": {},
     "output_type": "execute_result"
    }
   ],
   "source": [
    "# Maximum amount of phone hours per week\n",
    "max(hours_mobile) "
   ]
  },
  {
   "cell_type": "code",
   "execution_count": 14,
   "metadata": {},
   "outputs": [
    {
     "data": {
      "image/png": "[encoded data removed]",
      "text/plain": [
       "<Figure size 864x720 with 1 Axes>"
      ]
     },
     "metadata": {},
     "output_type": "display_data"
    }
   ],
   "source": [
    "# Histogram - average hours on mobile phone for teenagers\n",
    "plt.figure(figsize=(12,10), edgecolor='black', facecolor='white', clear='True')\n",
    "plt.hist(hours_mobile, bins=20)\n",
    "plt.xlabel('Average Hours', fontweight = 'bold')\n",
    "plt.title('Average Hours on Mobile for Teenagers', fontweight = 'bold')\n",
    "plt.grid(True)\n",
    "plt.show()"
   ]
  },
  {
   "cell_type": "code",
   "execution_count": 15,
   "metadata": {},
   "outputs": [
    {
     "data": {
      "image/png": "[encoded data removed]",
      "text/plain": [
       "<Figure size 1008x720 with 1 Axes>"
      ]
     },
     "metadata": {
      "needs_background": "light"
     },
     "output_type": "display_data"
    }
   ],
   "source": [
    "# Plot the distribution of numpy data - hours_mobile\n",
    "plt.figure(figsize=(14,10))\n",
    "plt.hist(hours_mobile, bins=20, align='left', color='b', edgecolor='red', linewidth=1)\n",
    "\n",
    "# Add axis labels\n",
    "plt.xlabel('Average Hours', fontweight = 'bold')\n",
    "plt.title(\"Average Hours on Mobile for Teenagers\", fontweight = 'bold')\n",
    "\n",
    "plt.grid(True)\n",
    "\n",
    "plt.show()"
   ]
  },
  {
   "cell_type": "markdown",
   "metadata": {},
   "source": [
    "#### Gender Teenager, boy or girl"
   ]
  },
  {
   "cell_type": "code",
   "execution_count": 16,
   "metadata": {
    "scrolled": true
   },
   "outputs": [
    {
     "data": {
      "text/plain": [
       "array([1, 1, 0, 0, 1, 1, 0, 1, 1, 1, 0, 1, 0, 0, 1, 1, 0, 0, 0, 1, 0, 0,\n",
       "       1, 1, 1, 1, 0, 0, 1, 0, 1, 1, 0, 0, 1, 0, 1, 1, 1, 0, 0, 1, 0, 1,\n",
       "       1, 0, 1, 1, 1, 0, 1, 0, 1, 0, 1, 0, 1, 0, 0, 1, 1, 1, 1, 0, 1, 0,\n",
       "       1, 0, 1, 0, 1, 0, 1, 1, 0, 0, 0, 1, 0, 1, 0, 1, 0, 1, 1, 0, 1, 1,\n",
       "       1, 1, 1, 1, 0, 1, 0, 0, 0, 1, 0, 1, 0, 1, 0, 0, 0, 1, 0, 0, 1, 1,\n",
       "       1, 0, 0, 0, 0, 0, 1, 1, 0, 0, 1, 1, 0, 0, 0, 0, 1, 1, 0, 1, 0, 1,\n",
       "       1, 1, 0, 1, 1, 0, 0, 1, 0, 0, 0, 0, 0, 0, 1, 1, 1, 0, 1, 1, 0, 1,\n",
       "       1, 1, 0, 0, 0, 1, 0, 0, 1, 1, 0, 0, 1, 0, 0, 0, 0, 1, 1, 1, 0, 1,\n",
       "       0, 1, 1, 1, 0, 1, 0, 1, 0, 0, 1, 0, 1, 0, 1, 1, 0, 0, 1, 1, 1, 0,\n",
       "       0, 0, 1, 1, 0, 1, 1, 0, 0, 0, 1, 0, 0, 1, 0, 0, 1, 1, 0, 0, 1, 1,\n",
       "       1, 0, 1, 0, 1, 1, 1, 0, 1, 0, 0, 0, 1, 1, 0, 1, 0, 0, 0, 0, 1, 1,\n",
       "       1, 1, 0, 0, 0, 0, 0, 1, 1, 0, 1, 1, 0, 1, 0, 0, 0, 0, 0, 1, 1, 0,\n",
       "       0, 0, 0, 0, 1, 0, 0, 1, 1, 1, 0, 1, 0, 0, 1, 1, 0, 0, 0, 1, 0, 1,\n",
       "       1, 0, 0, 1, 0, 0, 1, 0, 1, 0, 1, 1, 1, 1, 0, 0, 0, 1, 1, 0, 1, 1,\n",
       "       0, 0, 1, 0, 1, 1, 0, 0, 1, 1, 0, 0, 1, 1, 1, 1, 0, 0, 0, 1, 1, 0,\n",
       "       0, 0, 0, 1, 0, 1, 1, 0, 0, 0, 1, 1, 1, 1, 1, 0, 1, 1, 0, 0, 1, 0,\n",
       "       1, 1, 1, 0, 1, 0, 0, 0, 1, 1, 0, 0, 1, 1, 1, 0, 1, 1, 1, 1, 0, 1,\n",
       "       0, 0, 0, 1, 0, 0, 1, 0, 1, 1, 0, 1, 1, 0, 1, 0, 0, 0, 0, 1, 0, 1,\n",
       "       0, 1, 1, 0, 0, 0, 1, 0, 0, 1, 0, 1, 1, 1, 1, 0, 1, 1, 0, 1, 0, 0,\n",
       "       0, 0, 0, 1, 0, 1, 1, 1, 0, 0, 0, 1, 0, 0, 1, 1, 1, 0, 0, 1, 0, 1,\n",
       "       0, 1, 1, 1, 0, 1, 0, 1, 0, 1, 1, 0, 0, 1, 1, 0, 0, 0, 1, 1, 1, 0,\n",
       "       0, 1, 0, 1, 1, 1, 1, 1, 0, 0, 0, 0, 1, 1, 0, 0, 0, 1, 1, 1, 0, 1,\n",
       "       1, 0, 0, 0, 1, 0, 0, 1, 0, 0, 1, 0, 0, 1, 1, 0, 1, 1, 1, 1, 0, 0,\n",
       "       1, 0, 0, 0, 0, 0, 1, 0, 1, 0, 0, 1, 0, 1, 0, 1, 0, 1, 1, 1, 0, 1,\n",
       "       0, 0, 0, 1, 1, 1, 0, 0, 0, 1, 1, 1, 1, 1, 1, 0, 1, 0, 0, 1, 0, 0,\n",
       "       1, 1, 1, 1, 0, 0, 1, 0, 1, 0, 0, 1, 0, 0, 0, 1, 1, 0, 1, 0, 0, 1,\n",
       "       1, 0, 0, 1, 0, 1, 0, 0, 0, 0, 0, 0, 1, 1, 1, 0, 1, 0, 0, 1, 0, 1,\n",
       "       0, 0, 0, 1, 0, 1, 0, 0, 0, 1, 1, 1, 0, 1, 0, 0, 0, 1, 1, 1, 0, 1,\n",
       "       0, 0, 0, 0, 1, 1, 1, 1, 0, 1, 1, 1, 1, 1, 1, 0, 0, 1, 1, 1, 1, 1,\n",
       "       1, 1, 0, 0, 0, 0, 0, 0, 0, 1, 0, 1, 1, 0, 0, 0, 0, 1, 1, 1, 1, 0,\n",
       "       1, 1, 1, 1, 1, 1, 0, 1, 1, 1, 1, 0, 0, 1, 0, 0, 0, 1, 1, 1, 0, 1,\n",
       "       0, 0, 1, 1, 0, 1, 0, 1, 0, 1, 0, 0, 1, 1, 0, 1, 0, 1, 0, 1, 0, 0,\n",
       "       0, 0, 0, 1, 1, 1, 1, 1, 1, 0, 1, 1, 0, 0, 1, 0, 0, 0, 1, 0, 1, 0,\n",
       "       0, 1, 1, 0, 0, 1, 0, 1, 1, 0, 0, 0, 1, 0, 0, 0, 1, 0, 0, 0, 1, 0,\n",
       "       0, 0, 1, 1, 0, 0, 0, 0, 0, 1, 0, 1, 0, 0, 1, 0, 1, 0, 1, 1, 0, 1,\n",
       "       1, 1, 1, 0, 0, 0, 1, 1, 0, 1, 1, 0, 0, 0, 0, 1, 1, 0, 1, 1, 1, 0,\n",
       "       0, 0, 1, 1, 0, 1, 0, 0, 0, 0, 1, 0, 1, 1, 1, 1, 0, 0, 0, 0, 1, 0,\n",
       "       1, 0, 1, 1, 1, 1, 0, 1, 1, 1, 1, 0, 0, 1, 0, 0, 0, 1, 1, 1, 0, 1,\n",
       "       0, 0, 1, 0, 1, 0, 1, 1, 1, 0, 1, 1, 0, 0, 1, 0, 0, 1, 1, 1, 0, 1,\n",
       "       0, 1, 0, 0, 0, 0, 0, 0, 1, 0, 0, 1, 1, 0, 0, 1, 0, 1, 0, 0, 0, 1,\n",
       "       1, 0, 1, 0, 0, 1, 0, 1, 1, 0, 1, 0, 1, 1, 0, 0, 0, 0, 0, 1, 1, 1,\n",
       "       0, 0, 1, 1, 1, 0, 0, 0, 0, 1, 0, 0, 1, 0, 0, 0, 1, 0, 0, 1, 0, 0,\n",
       "       0, 1, 1, 0, 0, 1, 0, 0, 1, 0, 0, 1, 1, 1, 1, 0, 0, 1, 1, 0, 0, 0,\n",
       "       1, 1, 1, 1, 1, 0, 1, 0, 1, 0, 0, 1, 0, 1, 0, 0, 1, 1, 0, 1, 1, 1,\n",
       "       0, 1, 0, 1, 0, 1, 1, 0, 1, 0, 0, 0, 0, 1, 1, 0, 1, 1, 0, 0, 1, 0,\n",
       "       1, 0, 0, 0, 1, 0, 1, 1, 0, 0])"
      ]
     },
     "execution_count": 16,
     "metadata": {},
     "output_type": "execute_result"
    }
   ],
   "source": [
    "np.random.seed(28)\n",
    "\n",
    "# Generate an array of the gender of the teenager using the Binomial distribution\n",
    "# Boys = 0 \n",
    "# Girls = 1\n",
    "# Gender = len(np.random.binomial(1, .5, 1000)) -> 1000\n",
    "\n",
    "Gender = np.random.binomial(1, .5, 1000)\n",
    "Gender"
   ]
  },
  {
   "cell_type": "markdown",
   "metadata": {},
   "source": [
    "The binomial distribution is the probability distribution of a sequence of experiments where each experiment produces a binary outcome and where each of the outcomes is independent of all the others. [39]\n",
    "\n",
    "* numpy.random.binomial(n, p, size=None)\n",
    "\n",
    "Parameters:\n",
    "\n",
    "n : int or array_like of ints\n",
    "\n",
    "    Parameter of the distribution, >= 0. \n",
    "    Floats are also accepted, but they will be truncated to integers.\n",
    "\n",
    "p : float or array_like of floats\n",
    "\n",
    "    Parameter of the distribution, >= 0 and <=1.\n",
    "\n",
    "size : int or tuple of ints, optional\n",
    "\n",
    "    Output shape. If the given shape is, e.g., (m, n, k), then m * n * k samples are drawn. \n",
    "    If size is None (default), a single value is returned if n and p are both scalars. \n",
    "    Otherwise, np.broadcast(n, p).size samples are drawn."
   ]
  },
  {
   "cell_type": "code",
   "execution_count": 17,
   "metadata": {
    "scrolled": true
   },
   "outputs": [
    {
     "name": "stdout",
     "output_type": "stream",
     "text": [
      "Frequency of unique values of the Gender array:\n",
      "[[  0   1]\n",
      " [509 491]]\n"
     ]
    }
   ],
   "source": [
    "# Frequency counts for unique values in the Gender array\n",
    "unique_elements, counts_elements = np.unique(Gender, return_counts=True)\n",
    "print(\"Frequency of unique values of the Gender array:\")\n",
    "print(np.asarray((unique_elements, counts_elements)))"
   ]
  },
  {
   "cell_type": "markdown",
   "metadata": {},
   "source": [
    "So we have randonly generated an array with 509 boys and 491 girls."
   ]
  },
  {
   "cell_type": "code",
   "execution_count": 18,
   "metadata": {},
   "outputs": [
    {
     "data": {
      "image/png": "[encoded data removed]",
      "text/plain": [
       "<Figure size 432x288 with 1 Axes>"
      ]
     },
     "metadata": {
      "needs_background": "light"
     },
     "output_type": "display_data"
    }
   ],
   "source": [
    "# Different meanings of brackets in python (51):\n",
    "# []: Used to define mutable data types - lists, list comprehensions and for indexing/lookup/slicing.\n",
    "# (): Define tuples, order of operations, generator expressions, function calls and other syntax.\n",
    "# {}: The two hash table types - dictionaries and sets.\n",
    "\n",
    "# Create list - 509 boys and 491 girls\n",
    "number_genders = [509, 491]\n",
    "\n",
    "# Order of operations\n",
    "barchart_names = ('Boy', 'Girl')\n",
    "\n",
    "# Create bar names\n",
    "y_pos = np.arange(len(barchart_names))\n",
    "plt.bar(y_pos, number_genders)\n",
    "\n",
    "# Create names on the x-axis\n",
    "plt.xticks(y_pos, barchart_names)\n",
    "plt.xlabel('Boy vs Girl', fontweight='normal', color = 'black')\n",
    "\n",
    "# Create names on the y-axis\n",
    "plt.ylabel(\"Total Numbers\")\n",
    "plt.title(\"Gender - Boy vs Girl\")\n",
    "plt.show()"
   ]
  },
  {
   "cell_type": "markdown",
   "metadata": {},
   "source": [
    "#### Apps\n",
    "\n",
    "In both primary and secondary schools, YouTube, Snapchat and Instagram are the most cited.\n",
    "\n",
    "A higher percentage of secondary school students expressed a preference for Snapchat (69%), followed by Instagram (46%), and YouTube (41%). Facebook, Netflix, and Spotify are also of interest to secondary students, while primary school pupils preferred gaming apps like Minecraft (16%) and FIFA (12%). \n",
    "\n",
    "Generate random categorical data in python according to a probability distribution - 6 categories [47]:\n",
    "\n",
    "* Snapchat - weight 0.3\n",
    "\n",
    "Snapchat is an instant messaging application used to share photos, videos, text, and drawings. There is one feature that makes Snapchat different from other forms of texting and photo sharing: the messages disappear from the recipient’s phone after a few seconds.\n",
    "\n",
    "Why do teens like Snapchat? \n",
    "\n",
    "Young people are using Snapchat for various reasons, the largest common factor is probably down to cost, once you’re on Wi-Fi, sending a message with Snapchat is free.\n",
    "\n",
    "* Instagram - weight 0.2\n",
    "\n",
    "Instagram is a social networking app which allows its users to share pictures and videos with their friends. Users can follow friends, celebrities, like/comment on other Instagram posts and post their photos/videos. More recently the app added a direct messing function. \n",
    "\n",
    "Why do teens like Instagram?\n",
    "\n",
    "Teens love to share photos and videos, Instagram was one of the first networks to focus on image and video sharing. Unlike Facebook and other networks, the demographic of users is younger. Instagram hasn’t been taken over by an older generation or users parents, making it a more appealing online space for teens to spend their time. \n",
    "\n",
    "* YouTube - weight 0.2 \n",
    "\n",
    "YouTube is a video sharing service where users can create their own account, watch videos, share videos, like videos, comment on other videos and even upload their own videos.\n",
    "\n",
    "Why do teens like YouTube?\n",
    "\n",
    "YouTube is a free to use service and a can be a great space for teens to discover things they like. For many young YouTube is used to watch  music videos, comedy shows, how to guides, recipes, hacks and more. Teens also use the video sharing service to follow their favourite vloggers, subscribe to other YouTubers and celebrities they are interested in.\n",
    "\n",
    "* Facebook and Messenger - weight 0.1\n",
    "\n",
    "Facebook is a social network which allows users, who sign-up for free profiles, to connect with friends, work colleagues or people they don’t know, online. It allows users to share pictures, music, videos and articles, as well as their own thoughts and opinions with how ever many people they like. \n",
    "\n",
    "Why do teens like Facebook?\n",
    "\n",
    "Facebook is still one of the most popular services in the world making it a great place for teens to spend time as many of their friends also use the social network.\n",
    "\n",
    "Teenagers love Facebook because they can personalise their profile. In much the same way that other generations may have plastered their bedroom walls with posters of their favourite bands or soccer teams, young people now take part in personalising their own space online with pictures, music, videos and comments.\n",
    "\n",
    "* Netflix - weight 0.1\n",
    "\n",
    "Netflix is a streaming service that allows our members to watch a wide variety of award-winning TV shows, movies, documentaries, and more on thousands of internet-connected devices.\n",
    "\n",
    "Most teens still prefer to watch videos on YouTube, narrowly edging out Netflix.\n",
    "\n",
    "* Spotify - weight 0.1\n",
    "\n",
    "Spotify is a digital music, podcast, and video streaming service that gives you access to millions of songs and other content from artists all over the world. Basic functions such as playing music are totally free, but you can also choose to upgrade to Spotify Premium. \n",
    "\n",
    "Spotify has now overtaken YouTube as the main music source for young millennials. While YouTube has a weekly penetration of 47% for 16-19-year-old consumers (compared to 26% for all ages), Spotify has a weekly penetration of 53% (18% for all ages). [48]"
   ]
  },
  {
   "cell_type": "code",
   "execution_count": 19,
   "metadata": {
    "scrolled": true
   },
   "outputs": [
    {
     "data": {
      "text/plain": [
       "array([3, 2, 0, 1, 3, 2, 0, 4, 5, 5, 0, 5, 0, 0, 5, 5, 0, 0, 1, 2, 1, 1,\n",
       "       4, 2, 4, 5, 1, 0, 3, 0, 3, 5, 0, 1, 4, 0, 3, 3, 2, 0, 0, 2, 0, 5,\n",
       "       2, 0, 2, 2, 4, 0, 2, 1, 3, 0, 5, 1, 4, 0, 0, 2, 2, 4, 5, 0, 3, 0,\n",
       "       3, 1, 4, 0, 5, 0, 3, 2, 0, 0, 1, 3, 1, 2, 1, 2, 0, 4, 2, 1, 3, 4,\n",
       "       3, 4, 4, 4, 1, 2, 1, 0, 0, 4, 1, 5, 1, 2, 1, 0, 0, 3, 0, 1, 2, 5,\n",
       "       2, 1, 0, 0, 0, 0, 4, 2, 1, 1, 2, 2, 0, 1, 0, 1, 4, 4, 1, 3, 0, 3,\n",
       "       3, 4, 1, 5, 2, 1, 0, 3, 1, 0, 1, 0, 1, 0, 4, 2, 2, 0, 3, 3, 0, 5,\n",
       "       3, 2, 0, 1, 1, 4, 0, 0, 5, 2, 1, 0, 5, 0, 0, 0, 0, 4, 2, 4, 1, 3,\n",
       "       0, 2, 5, 2, 1, 3, 0, 3, 0, 1, 4, 0, 2, 1, 3, 2, 0, 0, 2, 2, 3, 1,\n",
       "       0, 0, 4, 4, 0, 2, 2, 0, 1, 0, 2, 0, 1, 2, 1, 1, 5, 5, 0, 1, 2, 4,\n",
       "       5, 0, 2, 0, 5, 5, 2, 1, 3, 1, 0, 0, 3, 5, 0, 5, 1, 1, 1, 0, 2, 2,\n",
       "       5, 4, 0, 0, 0, 1, 0, 2, 2, 0, 5, 2, 1, 4, 0, 1, 0, 0, 0, 3, 5, 0,\n",
       "       0, 1, 1, 0, 2, 1, 0, 5, 2, 5, 0, 3, 0, 1, 5, 3, 1, 0, 1, 3, 1, 4,\n",
       "       4, 1, 1, 4, 1, 1, 4, 0, 4, 1, 2, 2, 5, 2, 1, 0, 0, 3, 2, 1, 2, 5,\n",
       "       1, 0, 3, 1, 5, 2, 0, 0, 2, 2, 1, 1, 4, 5, 5, 3, 0, 0, 0, 3, 4, 0,\n",
       "       1, 0, 0, 5, 1, 3, 5, 0, 0, 0, 2, 4, 4, 4, 2, 0, 5, 2, 0, 0, 2, 0,\n",
       "       2, 5, 2, 0, 3, 1, 0, 0, 4, 5, 0, 0, 5, 3, 4, 0, 4, 4, 2, 3, 1, 5,\n",
       "       0, 0, 0, 4, 0, 0, 3, 0, 4, 2, 1, 2, 2, 0, 2, 1, 0, 1, 0, 5, 1, 3,\n",
       "       0, 5, 2, 1, 0, 1, 4, 0, 1, 3, 1, 3, 4, 5, 2, 1, 2, 2, 0, 2, 1, 0,\n",
       "       0, 1, 0, 2, 0, 4, 5, 2, 0, 0, 0, 3, 0, 0, 4, 5, 5, 1, 0, 2, 1, 3,\n",
       "       0, 5, 4, 5, 1, 2, 0, 2, 0, 5, 2, 0, 0, 3, 2, 0, 0, 1, 5, 3, 2, 0,\n",
       "       1, 3, 1, 2, 2, 2, 4, 5, 0, 1, 1, 1, 5, 3, 0, 1, 0, 2, 2, 2, 0, 5,\n",
       "       4, 0, 1, 0, 2, 0, 0, 2, 0, 0, 2, 1, 0, 4, 4, 0, 5, 2, 3, 4, 0, 0,\n",
       "       3, 0, 1, 1, 0, 1, 5, 0, 2, 0, 0, 5, 0, 3, 0, 4, 0, 2, 2, 4, 0, 4,\n",
       "       1, 0, 0, 5, 2, 5, 1, 1, 1, 2, 4, 3, 2, 4, 2, 1, 2, 1, 1, 2, 1, 1,\n",
       "       4, 3, 3, 5, 1, 1, 5, 0, 2, 0, 1, 3, 0, 0, 1, 5, 5, 0, 4, 1, 0, 2,\n",
       "       2, 1, 0, 5, 0, 5, 1, 0, 0, 0, 1, 0, 3, 5, 3, 0, 2, 0, 0, 3, 0, 2,\n",
       "       0, 0, 0, 4, 1, 3, 0, 0, 0, 2, 2, 4, 1, 3, 0, 0, 1, 2, 5, 4, 1, 4,\n",
       "       0, 0, 0, 0, 2, 3, 3, 3, 1, 3, 4, 5, 2, 3, 2, 0, 1, 5, 2, 2, 4, 5,\n",
       "       3, 2, 0, 0, 1, 0, 1, 1, 1, 2, 1, 4, 4, 1, 1, 0, 0, 5, 5, 2, 5, 1,\n",
       "       3, 5, 5, 2, 2, 2, 1, 2, 3, 3, 2, 1, 0, 3, 1, 0, 0, 3, 4, 3, 0, 4,\n",
       "       0, 0, 3, 5, 0, 2, 1, 2, 0, 4, 1, 0, 3, 2, 0, 2, 1, 4, 1, 2, 0, 0,\n",
       "       0, 0, 0, 4, 4, 5, 3, 5, 2, 1, 2, 4, 0, 0, 4, 1, 1, 0, 4, 0, 3, 1,\n",
       "       1, 5, 2, 1, 0, 5, 0, 3, 2, 0, 1, 0, 4, 1, 1, 0, 2, 0, 0, 0, 2, 1,\n",
       "       0, 0, 5, 5, 0, 0, 0, 0, 0, 4, 0, 2, 0, 0, 2, 1, 3, 0, 3, 5, 1, 2,\n",
       "       2, 5, 2, 0, 0, 1, 3, 2, 1, 5, 2, 1, 0, 1, 1, 2, 5, 0, 4, 4, 3, 1,\n",
       "       1, 0, 4, 2, 0, 3, 0, 0, 1, 0, 2, 1, 4, 2, 4, 3, 0, 0, 0, 0, 4, 1,\n",
       "       2, 1, 5, 2, 3, 2, 1, 3, 5, 2, 4, 0, 0, 3, 1, 0, 0, 3, 5, 5, 0, 3,\n",
       "       0, 1, 2, 0, 2, 1, 2, 4, 4, 0, 2, 2, 1, 1, 5, 1, 0, 4, 3, 5, 1, 3,\n",
       "       1, 4, 1, 1, 0, 0, 1, 0, 5, 0, 1, 5, 2, 0, 0, 3, 1, 4, 1, 0, 1, 5,\n",
       "       2, 0, 3, 0, 0, 2, 0, 2, 5, 0, 2, 0, 3, 3, 0, 1, 0, 0, 1, 2, 4, 2,\n",
       "       1, 0, 4, 2, 2, 0, 0, 0, 0, 2, 1, 1, 4, 0, 1, 0, 5, 1, 1, 2, 0, 0,\n",
       "       0, 4, 3, 0, 0, 5, 0, 0, 4, 0, 0, 3, 5, 2, 4, 0, 0, 3, 4, 0, 0, 1,\n",
       "       3, 3, 2, 5, 4, 1, 4, 1, 2, 0, 0, 2, 0, 2, 1, 1, 3, 2, 0, 4, 2, 5,\n",
       "       1, 5, 1, 2, 0, 2, 5, 0, 2, 1, 1, 1, 0, 2, 4, 0, 5, 4, 0, 1, 2, 1,\n",
       "       5, 1, 0, 0, 2, 1, 2, 2, 0, 1])"
      ]
     },
     "execution_count": 19,
     "metadata": {},
     "output_type": "execute_result"
    }
   ],
   "source": [
    "np.random.seed(28)\n",
    "\n",
    "# Apps - 6 options\n",
    "Apps = np.random.choice([0, 1, 2, 3, 4, 5], size=1000, p=[0.3, 0.2, 0.2, 0.1, 0.1, 0.1])\n",
    "Apps"
   ]
  },
  {
   "cell_type": "code",
   "execution_count": 20,
   "metadata": {},
   "outputs": [
    {
     "name": "stdout",
     "output_type": "stream",
     "text": [
      "Frequency of unique values of Apps array:\n",
      "[[  0   1   2   3   4   5]\n",
      " [310 199 178 102 104 107]]\n"
     ]
    }
   ],
   "source": [
    "# Frequency counts for unique values in the Apps array\n",
    "unique_elements, counts_elements = np.unique(Apps, return_counts=True)\n",
    "print(\"Frequency of unique values of Apps array:\")\n",
    "print(np.asarray((unique_elements, counts_elements)))"
   ]
  },
  {
   "cell_type": "code",
   "execution_count": 28,
   "metadata": {},
   "outputs": [
    {
     "data": {
      "image/png": "[encoded data removed]",
      "text/plain": [
       "<Figure size 432x288 with 1 Axes>"
      ]
     },
     "metadata": {
      "needs_background": "light"
     },
     "output_type": "display_data"
    }
   ],
   "source": [
    "# Create Apps list - 6 Apps\n",
    "number_apps = [310, 199, 178, 102, 104,  107]\n",
    "\n",
    "# Order of operations\n",
    "barchart_names = ('Snapchat', 'Instagram', 'YouTube', 'FF & Mes', 'Netflix', 'Spotify')\n",
    "\n",
    "# Create bar names\n",
    "y_pos = np.arange(len(barchart_names))\n",
    "plt.bar(y_pos, number_apps)\n",
    "\n",
    "# Create names on the x-axis\n",
    "plt.xticks(y_pos, barchart_names)\n",
    "plt.xlabel('Apps', fontweight='normal', color = 'black')\n",
    "\n",
    "# Create names on the y-axis\n",
    "plt.ylabel(\"Total Numbers\")\n",
    "plt.title(\"Number of Apps\")\n",
    "plt.show()"
   ]
  },
  {
   "cell_type": "markdown",
   "metadata": {},
   "source": [
    "#### Household Income\n",
    "\n",
    "I will now add generate some data for variable Household Income (Income), so the difference in phone\n",
    "ownership by socio-economic status.\n",
    "\n",
    "Nearly two thirds (62.6%) of Irish households had a gross income of less than €60,000 in 2016. In contrast, only 14.1% had an income above €100,000.\n",
    "\n",
    "[Geographical Profiles of Income in Ireland 2016](https://www.cso.ie/en/releasesandpublications/ep/p-gpii/geographicalprofilesofincomeinireland2016/incomeinireland/)\n",
    "\n",
    "* less than €40.000 (45%) -> weight 0.45\n",
    "\n",
    "* €40.000 - €60.000 (19.1 %) -> weight 0.2\n",
    "\n",
    "* €60.000 - €80.000 (13.3%) -> weight 0.13\n",
    "\n",
    "* €80.000 - €100.000 (8.5%)-> weight 0.08\n",
    "\n",
    "* more than €100.000 (14.1%) -> weight 0.14"
   ]
  },
  {
   "cell_type": "code",
   "execution_count": 22,
   "metadata": {
    "scrolled": true
   },
   "outputs": [
    {
     "data": {
      "text/plain": [
       "array([2, 1, 0, 0, 3, 1, 0, 3, 4, 4, 0, 4, 0, 0, 4, 4, 0, 0, 0, 1, 0, 0,\n",
       "       3, 1, 3, 4, 0, 0, 2, 0, 2, 4, 0, 0, 3, 0, 2, 3, 2, 0, 0, 2, 0, 4,\n",
       "       1, 0, 2, 1, 4, 0, 1, 0, 2, 0, 4, 1, 3, 0, 0, 2, 1, 4, 4, 0, 2, 0,\n",
       "       2, 1, 4, 0, 4, 0, 2, 2, 0, 0, 0, 2, 0, 1, 0, 1, 0, 3, 1, 0, 2, 4,\n",
       "       2, 3, 3, 4, 0, 1, 0, 0, 0, 3, 0, 4, 0, 1, 0, 0, 0, 2, 0, 0, 1, 4,\n",
       "       1, 0, 0, 0, 0, 0, 3, 1, 0, 1, 1, 1, 0, 0, 0, 1, 3, 3, 0, 2, 0, 2,\n",
       "       2, 3, 1, 4, 1, 1, 0, 2, 0, 0, 0, 0, 0, 0, 3, 1, 2, 0, 2, 2, 0, 4,\n",
       "       3, 1, 0, 0, 0, 4, 0, 0, 4, 1, 1, 0, 4, 0, 0, 0, 0, 4, 1, 4, 1, 2,\n",
       "       0, 1, 4, 1, 1, 2, 0, 2, 0, 1, 4, 0, 1, 1, 3, 1, 0, 0, 1, 2, 2, 0,\n",
       "       0, 0, 4, 4, 0, 1, 1, 0, 1, 0, 2, 0, 1, 1, 0, 1, 4, 4, 0, 1, 2, 3,\n",
       "       4, 0, 2, 0, 4, 4, 2, 1, 3, 0, 0, 0, 2, 4, 0, 4, 1, 0, 1, 0, 1, 1,\n",
       "       4, 4, 0, 0, 0, 0, 0, 2, 1, 0, 4, 2, 0, 3, 0, 0, 0, 0, 0, 2, 4, 0,\n",
       "       0, 0, 0, 0, 1, 0, 0, 4, 1, 4, 0, 3, 0, 1, 4, 2, 0, 0, 0, 2, 0, 3,\n",
       "       4, 0, 0, 3, 0, 1, 4, 0, 4, 0, 1, 1, 4, 1, 0, 0, 0, 2, 1, 0, 1, 4,\n",
       "       0, 0, 2, 0, 4, 1, 0, 0, 2, 2, 0, 0, 4, 4, 4, 2, 0, 0, 0, 2, 3, 0,\n",
       "       1, 0, 0, 4, 1, 2, 4, 0, 0, 0, 1, 3, 3, 4, 1, 0, 4, 1, 0, 0, 1, 0,\n",
       "       2, 4, 2, 0, 2, 0, 0, 0, 3, 4, 0, 0, 4, 2, 3, 0, 4, 4, 1, 2, 1, 4,\n",
       "       0, 0, 0, 3, 0, 0, 3, 0, 3, 1, 1, 1, 1, 0, 1, 0, 0, 0, 0, 4, 0, 2,\n",
       "       0, 4, 2, 0, 0, 1, 3, 0, 0, 2, 0, 3, 3, 4, 1, 0, 2, 1, 0, 1, 1, 0,\n",
       "       0, 0, 0, 1, 0, 3, 4, 2, 0, 0, 0, 2, 0, 0, 4, 4, 4, 1, 0, 1, 0, 2,\n",
       "       0, 4, 3, 4, 0, 1, 0, 1, 0, 4, 1, 0, 0, 2, 1, 0, 0, 0, 4, 3, 1, 0,\n",
       "       1, 2, 0, 1, 1, 1, 4, 4, 0, 0, 0, 0, 4, 2, 0, 0, 0, 1, 1, 2, 0, 4,\n",
       "       4, 0, 0, 0, 1, 0, 0, 1, 0, 0, 2, 1, 0, 3, 3, 0, 4, 2, 2, 3, 0, 0,\n",
       "       2, 0, 0, 0, 0, 0, 4, 0, 1, 0, 0, 4, 0, 2, 0, 3, 0, 1, 1, 4, 0, 3,\n",
       "       0, 0, 0, 4, 1, 4, 0, 0, 1, 2, 4, 3, 1, 3, 1, 0, 1, 0, 1, 2, 1, 0,\n",
       "       4, 2, 2, 4, 0, 0, 4, 0, 1, 0, 0, 2, 0, 0, 1, 4, 4, 0, 4, 0, 0, 1,\n",
       "       1, 0, 0, 4, 0, 4, 0, 0, 0, 0, 0, 0, 2, 4, 2, 0, 1, 0, 0, 2, 0, 1,\n",
       "       0, 0, 0, 3, 1, 2, 0, 0, 0, 1, 1, 4, 0, 2, 0, 0, 0, 1, 4, 3, 1, 4,\n",
       "       0, 0, 0, 0, 1, 2, 3, 2, 0, 2, 4, 4, 1, 2, 1, 0, 0, 4, 1, 2, 4, 4,\n",
       "       2, 1, 0, 0, 1, 0, 1, 0, 0, 2, 0, 4, 3, 0, 1, 0, 0, 4, 4, 2, 4, 1,\n",
       "       2, 4, 4, 1, 1, 1, 0, 1, 3, 3, 1, 0, 0, 2, 1, 0, 0, 3, 3, 2, 0, 4,\n",
       "       0, 0, 2, 4, 0, 1, 0, 1, 0, 4, 0, 0, 2, 1, 0, 1, 0, 4, 0, 1, 0, 0,\n",
       "       0, 0, 0, 3, 4, 4, 2, 4, 1, 1, 2, 3, 0, 0, 3, 0, 0, 0, 3, 0, 2, 0,\n",
       "       1, 4, 1, 0, 0, 4, 0, 2, 2, 0, 0, 0, 3, 0, 1, 0, 1, 0, 0, 0, 1, 0,\n",
       "       0, 0, 4, 4, 0, 0, 0, 0, 0, 3, 0, 2, 0, 0, 1, 0, 2, 0, 2, 4, 0, 1,\n",
       "       1, 4, 1, 0, 0, 0, 3, 2, 0, 4, 2, 0, 0, 0, 0, 2, 4, 0, 4, 3, 2, 1,\n",
       "       0, 0, 3, 1, 0, 3, 0, 0, 0, 0, 1, 0, 3, 1, 3, 2, 0, 0, 0, 0, 3, 0,\n",
       "       1, 0, 4, 1, 2, 1, 1, 2, 4, 1, 3, 0, 0, 2, 0, 0, 0, 2, 4, 4, 0, 2,\n",
       "       0, 1, 1, 0, 2, 0, 1, 4, 4, 0, 2, 1, 1, 0, 4, 0, 0, 3, 2, 4, 0, 2,\n",
       "       0, 4, 1, 0, 0, 0, 1, 0, 4, 0, 0, 4, 1, 0, 0, 2, 1, 4, 0, 0, 0, 4,\n",
       "       1, 0, 2, 0, 0, 1, 0, 1, 4, 0, 1, 0, 2, 2, 0, 0, 0, 0, 0, 1, 4, 1,\n",
       "       0, 0, 4, 2, 1, 0, 0, 0, 0, 2, 0, 0, 4, 0, 1, 0, 4, 0, 0, 2, 0, 0,\n",
       "       0, 4, 2, 0, 0, 4, 0, 0, 4, 0, 0, 2, 4, 1, 3, 0, 0, 2, 4, 0, 0, 0,\n",
       "       2, 2, 1, 4, 3, 0, 4, 0, 1, 0, 0, 1, 0, 1, 0, 0, 2, 1, 0, 4, 1, 4,\n",
       "       0, 4, 1, 2, 0, 1, 4, 0, 1, 0, 0, 1, 0, 1, 3, 0, 4, 3, 0, 0, 2, 0,\n",
       "       4, 0, 0, 0, 1, 0, 1, 1, 0, 0])"
      ]
     },
     "execution_count": 22,
     "metadata": {},
     "output_type": "execute_result"
    }
   ],
   "source": [
    "np.random.seed(28)\n",
    "\n",
    "# Household Income - 5 options\n",
    "Income = np.random.choice([0, 1, 2, 3, 4], size=1000, p=[0.45, 0.2, 0.13, 0.08, 0.14])\n",
    "Income"
   ]
  },
  {
   "cell_type": "code",
   "execution_count": 23,
   "metadata": {},
   "outputs": [
    {
     "name": "stdout",
     "output_type": "stream",
     "text": [
      "Frequency of unique values of Income array:\n",
      "[[  0   1   2   3   4]\n",
      " [456 190 127  72 155]]\n"
     ]
    }
   ],
   "source": [
    "# Frequency counts for unique values in the Income array\n",
    "unique_elements, counts_elements = np.unique(Income, return_counts=True)\n",
    "print(\"Frequency of unique values of Income array:\")\n",
    "print(np.asarray((unique_elements, counts_elements)))"
   ]
  },
  {
   "cell_type": "code",
   "execution_count": 30,
   "metadata": {},
   "outputs": [
    {
     "data": {
      "image/png": "[encoded data removed]",
      "text/plain": [
       "<Figure size 432x288 with 1 Axes>"
      ]
     },
     "metadata": {
      "needs_background": "light"
     },
     "output_type": "display_data"
    }
   ],
   "source": [
    "# Create Household Income list - 5 salary levels\n",
    "number_income = [456, 190, 127, 72, 155]\n",
    "\n",
    "# Order of operations\n",
    "barchart_salary = ('<40k', '40-60k', '60-80k', '80-100k', '>100k')\n",
    "\n",
    "# Create bar names\n",
    "y_pos = np.arange(len(barchart_salary))\n",
    "plt.bar(y_pos, number_income)\n",
    "\n",
    "# Create names on the x-axis\n",
    "plt.xticks(y_pos, barchart_salary)\n",
    "plt.xlabel('Salary', fontweight='normal', color = 'black')\n",
    "\n",
    "# Create names on the y-axis\n",
    "plt.ylabel(\"Total Numbers\")\n",
    "plt.title(\"Irish households - gross income\")\n",
    "plt.show()"
   ]
  },
  {
   "cell_type": "markdown",
   "metadata": {},
   "source": [
    "#### Family\n",
    "\n",
    "##### One parent families less likely to be at work.\n",
    "\n",
    "Only 47.8 per cent of single parents were at work, compared with 70.2 per cent for heads of two-parent families. 13.1 per cent of one parent families were unemployed. For couples, this figure stood at 6.9 per cent.\n",
    "\n",
    "Those looking after the home or family were also prevalent among one parent families, accounting for 17.7 per cent, although this was unevenly spread between men and women. Only 4 per cent of one parent fathers were homemakers, compared with 19.8 per cent of one parent mothers.\n",
    "\n",
    "[The distribution of one parent families by principal economic status alongside the equivalent breakdown for heads of two-parent families](https://www.cso.ie/en/releasesandpublications/ep/p-cp4hf/cp4hf/fmls/)\n",
    "\n",
    "##### The distribution for heads of two-parent families, by principal economic status\n",
    "\n",
    "    Couples with children -> at work (70%)\n",
    "    Unemployed (6.9%)\n",
    "    Homemaker (14%)\n",
    "    Retired (5.1%)\n",
    "    Other (4%)\n",
    "\n",
    "##### The distribution of one parent families by principal economic status \n",
    "\n",
    "    Single parents with children -> at work (47.8%)\n",
    "    Unemployed (13.1%)\n",
    "    Homemaker (15%)\n",
    "    Retired (15%)\n",
    "    Other (9.1%)\n",
    "\n",
    "* Couple with children, working -> weigth 0.41\n",
    "* Single with children, working -> weight 0.22\n",
    "\n",
    "* Couple_unemployed -> weight 0.01\n",
    "* Single_unemployed -> weight 0.08\n",
    "\n",
    "* Couple_homemaker -> weight 0.08\n",
    "* Single_homemaker -> weight 0.08\n",
    "\n",
    "* Couple_retired -> weight 0.01\n",
    "* Single_retired -> weight 0.08\n",
    "\n",
    "* Couple_other -> weight 0.01\n",
    "* Single_other -> weight 0.02"
   ]
  },
  {
   "cell_type": "code",
   "execution_count": 32,
   "metadata": {},
   "outputs": [
    {
     "data": {
      "text/plain": [
       "array([4, 1, 0, 0, 4, 1, 0, 5, 7, 9, 0, 8, 0, 0, 7, 7, 0, 0, 0, 1, 0, 1,\n",
       "       5, 1, 5, 9, 0, 0, 4, 0, 4, 7, 0, 1, 5, 0, 4, 4, 3, 0, 0, 3, 0, 9,\n",
       "       1, 0, 3, 1, 7, 0, 1, 0, 4, 0, 7, 1, 5, 0, 0, 3, 1, 5, 9, 0, 4, 0,\n",
       "       4, 1, 5, 0, 8, 0, 3, 3, 0, 0, 0, 4, 0, 1, 0, 1, 0, 5, 1, 0, 4, 7,\n",
       "       4, 5, 5, 5, 0, 1, 1, 0, 0, 5, 0, 8, 0, 2, 1, 0, 0, 4, 0, 1, 1, 7,\n",
       "       1, 1, 0, 0, 0, 0, 5, 1, 0, 1, 1, 1, 0, 0, 0, 1, 5, 5, 0, 3, 0, 4,\n",
       "       4, 5, 1, 7, 2, 1, 0, 4, 0, 0, 0, 0, 0, 0, 5, 2, 3, 0, 4, 4, 0, 7,\n",
       "       4, 1, 0, 0, 0, 6, 0, 0, 7, 1, 1, 0, 7, 0, 0, 0, 0, 5, 1, 7, 1, 4,\n",
       "       0, 1, 7, 1, 1, 4, 0, 4, 0, 1, 5, 0, 3, 1, 4, 1, 0, 0, 1, 3, 3, 0,\n",
       "       0, 0, 7, 6, 0, 1, 1, 0, 1, 0, 3, 0, 1, 1, 1, 1, 7, 7, 0, 1, 3, 5,\n",
       "       7, 0, 3, 0, 9, 7, 3, 1, 4, 1, 0, 0, 4, 8, 0, 7, 1, 1, 1, 0, 1, 1,\n",
       "       7, 7, 0, 0, 0, 0, 0, 3, 1, 0, 7, 3, 1, 5, 0, 0, 0, 0, 0, 4, 7, 0,\n",
       "       0, 0, 0, 0, 1, 0, 0, 9, 1, 7, 0, 4, 0, 1, 7, 4, 0, 0, 0, 4, 0, 5,\n",
       "       7, 0, 0, 5, 1, 1, 5, 0, 7, 0, 1, 1, 7, 1, 0, 0, 0, 4, 1, 0, 3, 7,\n",
       "       0, 0, 3, 0, 7, 1, 0, 0, 3, 3, 0, 0, 5, 9, 7, 4, 0, 0, 0, 4, 5, 0,\n",
       "       1, 0, 0, 7, 1, 3, 7, 0, 0, 0, 1, 5, 5, 6, 1, 0, 7, 1, 0, 0, 1, 0,\n",
       "       3, 7, 3, 0, 4, 0, 0, 0, 5, 8, 0, 0, 9, 4, 5, 0, 5, 5, 1, 4, 1, 7,\n",
       "       0, 0, 0, 5, 0, 0, 4, 0, 5, 1, 1, 3, 1, 0, 1, 0, 0, 0, 0, 7, 0, 4,\n",
       "       0, 7, 3, 0, 0, 1, 5, 0, 0, 4, 0, 4, 5, 7, 3, 0, 3, 1, 0, 1, 1, 0,\n",
       "       0, 1, 0, 1, 0, 5, 7, 3, 0, 0, 0, 4, 0, 0, 7, 7, 7, 1, 0, 1, 0, 3,\n",
       "       0, 7, 5, 9, 0, 1, 0, 1, 0, 7, 1, 0, 0, 3, 1, 0, 0, 0, 9, 4, 1, 0,\n",
       "       1, 4, 0, 2, 2, 1, 6, 7, 0, 1, 0, 1, 7, 4, 0, 1, 0, 1, 1, 3, 0, 7,\n",
       "       6, 0, 1, 0, 1, 0, 0, 1, 0, 0, 3, 1, 0, 5, 5, 0, 7, 3, 3, 5, 0, 0,\n",
       "       3, 0, 0, 0, 0, 0, 7, 0, 1, 0, 0, 7, 0, 4, 0, 5, 0, 2, 1, 6, 0, 5,\n",
       "       0, 0, 0, 7, 1, 7, 0, 0, 1, 3, 5, 4, 1, 5, 1, 0, 1, 0, 1, 3, 1, 0,\n",
       "       7, 3, 4, 7, 0, 0, 8, 0, 1, 0, 0, 3, 0, 0, 1, 7, 7, 0, 7, 0, 0, 1,\n",
       "       1, 0, 0, 7, 0, 7, 0, 0, 0, 0, 0, 0, 4, 9, 3, 0, 1, 0, 0, 4, 0, 1,\n",
       "       0, 0, 0, 5, 1, 3, 0, 0, 0, 1, 1, 7, 0, 3, 0, 0, 0, 1, 7, 5, 1, 6,\n",
       "       0, 0, 0, 0, 1, 4, 4, 4, 0, 4, 7, 8, 1, 4, 1, 0, 1, 7, 1, 3, 6, 9,\n",
       "       4, 1, 0, 0, 1, 0, 1, 1, 0, 3, 1, 5, 5, 0, 1, 0, 0, 7, 9, 3, 7, 1,\n",
       "       4, 7, 9, 1, 1, 1, 0, 1, 4, 4, 1, 0, 0, 4, 1, 0, 0, 4, 5, 3, 0, 7,\n",
       "       0, 0, 4, 7, 0, 1, 0, 2, 0, 7, 0, 0, 4, 1, 0, 1, 1, 7, 0, 1, 0, 0,\n",
       "       0, 0, 0, 5, 7, 7, 3, 7, 1, 1, 3, 5, 0, 0, 5, 0, 1, 0, 5, 0, 4, 0,\n",
       "       1, 7, 1, 0, 0, 8, 0, 3, 3, 0, 1, 0, 5, 1, 1, 0, 1, 0, 0, 0, 1, 0,\n",
       "       0, 0, 7, 9, 0, 0, 0, 0, 0, 5, 0, 3, 0, 0, 3, 1, 4, 0, 3, 7, 0, 1,\n",
       "       1, 7, 2, 0, 0, 0, 4, 3, 0, 7, 3, 1, 0, 0, 0, 3, 9, 0, 5, 5, 4, 1,\n",
       "       0, 0, 5, 1, 0, 4, 0, 0, 0, 0, 1, 1, 5, 1, 5, 4, 0, 0, 0, 0, 5, 0,\n",
       "       1, 1, 7, 1, 4, 1, 1, 4, 9, 1, 5, 0, 0, 4, 0, 0, 0, 4, 8, 9, 0, 3,\n",
       "       0, 1, 1, 0, 3, 0, 1, 6, 5, 0, 3, 3, 1, 0, 8, 0, 0, 5, 4, 9, 0, 4,\n",
       "       0, 5, 1, 0, 0, 0, 1, 0, 9, 0, 1, 7, 1, 0, 0, 4, 1, 5, 1, 0, 0, 7,\n",
       "       1, 0, 4, 0, 0, 1, 0, 3, 9, 0, 1, 0, 3, 4, 0, 0, 0, 0, 0, 1, 7, 1,\n",
       "       0, 0, 5, 3, 1, 0, 0, 0, 0, 3, 0, 1, 5, 0, 1, 0, 7, 0, 0, 3, 0, 0,\n",
       "       0, 6, 3, 0, 0, 9, 0, 0, 7, 0, 0, 4, 7, 1, 5, 0, 0, 4, 6, 0, 0, 0,\n",
       "       4, 4, 1, 7, 5, 0, 5, 0, 1, 0, 0, 1, 0, 1, 0, 0, 4, 1, 0, 6, 1, 7,\n",
       "       0, 8, 1, 3, 0, 1, 7, 0, 1, 0, 0, 1, 0, 1, 5, 0, 9, 5, 0, 1, 3, 0,\n",
       "       9, 0, 0, 0, 3, 0, 2, 1, 0, 0])"
      ]
     },
     "execution_count": 32,
     "metadata": {},
     "output_type": "execute_result"
    }
   ],
   "source": [
    "np.random.seed(28)\n",
    "\n",
    "# Family - 10 options\n",
    "Family = np.random.choice([0, 1, 2, 3, 4, 5, 6, 7, 8, 9], size=1000, p=[0.41, 0.22, 0.01, 0.08, 0.08, 0.08, 0.01, 0.08, 0.01, 0.02])\n",
    "Family"
   ]
  },
  {
   "cell_type": "code",
   "execution_count": 33,
   "metadata": {},
   "outputs": [
    {
     "name": "stdout",
     "output_type": "stream",
     "text": [
      "Frequency of unique values of Family array:\n",
      "[[  0   1   2   3   4   5   6   7   8   9]\n",
      " [425 204   9  70  81  74  12  90  11  24]]\n"
     ]
    }
   ],
   "source": [
    "# Frequency counts for unique values in the Family array\n",
    "unique_elements, counts_elements = np.unique(Family, return_counts=True)\n",
    "print(\"Frequency of unique values of Family array:\")\n",
    "print(np.asarray((unique_elements, counts_elements)))"
   ]
  },
  {
   "cell_type": "code",
   "execution_count": 46,
   "metadata": {},
   "outputs": [
    {
     "data": {
      "image/png": "[encoded data removed]",
      "text/plain": [
       "<Figure size 432x288 with 1 Axes>"
      ]
     },
     "metadata": {
      "needs_background": "light"
     },
     "output_type": "display_data"
    }
   ],
   "source": [
    "# Create Family list - 10 groups\n",
    "# Barchart with vertical labels in python/matplotlib [52]\n",
    "number_family = [425, 204, 9, 70, 81, 74, 12, 90, 11, 24]\n",
    "\n",
    "# Order of operations\n",
    "barchart_family = ('Couple with Children_Working', 'Single with Children_Working', 'Couple_Unemployed', 'Single_Unemployed', 'Couple_Homeworker', 'Single_Homeworker', 'Couple_Retired', 'Single_Retired', 'Couple_Other', 'Single_Other')\n",
    "\n",
    "# Create bar names\n",
    "y_pos = np.arange(len(barchart_family))\n",
    "plt.bar(y_pos, number_family)\n",
    "\n",
    "# Create names on the x-axis\n",
    "plt.xticks(y_pos, barchart_family, rotation='vertical')\n",
    "plt.xlabel('Economic Status', fontweight='normal', color = 'black')\n",
    "\n",
    "# Create names on the y-axis\n",
    "plt.ylabel(\"Total Numbers\")\n",
    "plt.title(\"Parent families by principal economic status\")\n",
    "\n",
    "plt.show()"
   ]
  },
  {
   "cell_type": "markdown",
   "metadata": {},
   "source": [
    "#### Ethnic or Cultural background\n",
    "\n",
    "The population of the State grew at 0.8 per cent per annum while those with Irish ethnicity increased by just 0.2 per cent. The fastest growing ethnic group since 2011 was “Other incl. mixed background”, with an annualised growth of 14.7 per cent.  “Any other White background” rose by 1.6 per cent annually while Africans decreased 0.3 per cent per annum.\n",
    "\n",
    "The largest group in 2016 was “White Irish” with 3,854,226 (82.2%) usual residents. This was followed by “Any other White background” (9.5%), non-Chinese Asian (1.7%) and “Other incl. mixed background” (1.5%).\n",
    "\n",
    "Irish Travellers (30,987) made up 0.7 per cent of the usually resident population while Chinese (19,447) made up just 0.4 per cent. \n",
    "\n",
    "[Census of Population 2016](https://www.cso.ie/en/releasesandpublications/ep/p-cp8iter/p8iter/p8e/)\n",
    "\n",
    "* White Irish (82.2%) -> weight 0.83\n",
    "\n",
    "* Any other White background (9.5%) -> weight 0.11\n",
    "\n",
    "* Non-Chinese Asian (1.7%) -> -> weight 0.02\n",
    "\n",
    "* Other incl. mixed background (1.5%) -> weight 0.02\n",
    "\n",
    "* Irish Travellers (0.7%) -> weight 0.01\n",
    "\n",
    "* Chinese (0.4%) -> -> weight 0.01"
   ]
  },
  {
   "cell_type": "code",
   "execution_count": 26,
   "metadata": {
    "scrolled": true
   },
   "outputs": [
    {
     "data": {
      "text/plain": [
       "array([0, 0, 0, 0, 0, 0, 0, 1, 2, 4, 0, 3, 0, 0, 2, 1, 0, 0, 0, 0, 0, 0,\n",
       "       1, 0, 1, 5, 0, 0, 0, 0, 0, 2, 0, 0, 1, 0, 0, 0, 0, 0, 0, 0, 0, 4,\n",
       "       0, 0, 0, 0, 1, 0, 0, 0, 0, 0, 1, 0, 1, 0, 0, 0, 0, 1, 5, 0, 0, 0,\n",
       "       0, 0, 1, 0, 3, 0, 0, 0, 0, 0, 0, 0, 0, 0, 0, 0, 0, 1, 0, 0, 0, 1,\n",
       "       0, 1, 0, 1, 0, 0, 0, 0, 0, 0, 0, 3, 0, 0, 0, 0, 0, 0, 0, 0, 0, 1,\n",
       "       0, 0, 0, 0, 0, 0, 0, 0, 0, 0, 0, 0, 0, 0, 0, 0, 1, 1, 0, 0, 0, 0,\n",
       "       0, 1, 0, 2, 0, 0, 0, 0, 0, 0, 0, 0, 0, 0, 0, 0, 0, 0, 0, 0, 0, 3,\n",
       "       0, 0, 0, 0, 0, 1, 0, 0, 2, 0, 0, 0, 1, 0, 0, 0, 0, 1, 0, 1, 0, 0,\n",
       "       0, 0, 1, 0, 0, 0, 0, 0, 0, 0, 1, 0, 0, 0, 0, 0, 0, 0, 0, 0, 0, 0,\n",
       "       0, 0, 1, 1, 0, 0, 0, 0, 0, 0, 0, 0, 0, 0, 0, 0, 1, 1, 0, 0, 0, 1,\n",
       "       1, 0, 0, 0, 4, 2, 0, 0, 0, 0, 0, 0, 0, 3, 0, 3, 0, 0, 0, 0, 0, 0,\n",
       "       1, 1, 0, 0, 0, 0, 0, 0, 0, 0, 1, 0, 0, 0, 0, 0, 0, 0, 0, 0, 3, 0,\n",
       "       0, 0, 0, 0, 0, 0, 0, 5, 0, 1, 0, 0, 0, 0, 1, 0, 0, 0, 0, 0, 0, 1,\n",
       "       1, 0, 0, 1, 0, 0, 1, 0, 1, 0, 0, 0, 2, 0, 0, 0, 0, 0, 0, 0, 0, 2,\n",
       "       0, 0, 0, 0, 2, 0, 0, 0, 0, 0, 0, 0, 1, 4, 1, 0, 0, 0, 0, 0, 1, 0,\n",
       "       0, 0, 0, 1, 0, 0, 1, 0, 0, 0, 0, 0, 1, 1, 0, 0, 2, 0, 0, 0, 0, 0,\n",
       "       0, 3, 0, 0, 0, 0, 0, 0, 1, 3, 0, 0, 4, 0, 1, 0, 1, 1, 0, 0, 0, 1,\n",
       "       0, 0, 0, 1, 0, 0, 0, 0, 1, 0, 0, 0, 0, 0, 0, 0, 0, 0, 0, 1, 0, 0,\n",
       "       0, 1, 0, 0, 0, 0, 1, 0, 0, 0, 0, 0, 0, 1, 0, 0, 0, 0, 0, 0, 0, 0,\n",
       "       0, 0, 0, 0, 0, 0, 2, 0, 0, 0, 0, 0, 0, 0, 1, 2, 2, 0, 0, 0, 0, 0,\n",
       "       0, 1, 0, 4, 0, 0, 0, 0, 0, 1, 0, 0, 0, 0, 0, 0, 0, 0, 5, 0, 0, 0,\n",
       "       0, 0, 0, 0, 0, 0, 1, 1, 0, 0, 0, 0, 3, 0, 0, 0, 0, 0, 0, 0, 0, 3,\n",
       "       1, 0, 0, 0, 0, 0, 0, 0, 0, 0, 0, 0, 0, 1, 1, 0, 1, 0, 0, 1, 0, 0,\n",
       "       0, 0, 0, 0, 0, 0, 1, 0, 0, 0, 0, 3, 0, 0, 0, 1, 0, 0, 0, 1, 0, 0,\n",
       "       0, 0, 0, 3, 0, 1, 0, 0, 0, 0, 1, 0, 0, 0, 0, 0, 0, 0, 0, 0, 0, 0,\n",
       "       1, 0, 0, 3, 0, 0, 3, 0, 0, 0, 0, 0, 0, 0, 0, 1, 2, 0, 1, 0, 0, 0,\n",
       "       0, 0, 0, 2, 0, 1, 0, 0, 0, 0, 0, 0, 0, 5, 0, 0, 0, 0, 0, 0, 0, 0,\n",
       "       0, 0, 0, 1, 0, 0, 0, 0, 0, 0, 0, 1, 0, 0, 0, 0, 0, 0, 2, 1, 0, 1,\n",
       "       0, 0, 0, 0, 0, 0, 0, 0, 0, 0, 1, 3, 0, 0, 0, 0, 0, 2, 0, 0, 1, 4,\n",
       "       0, 0, 0, 0, 0, 0, 0, 0, 0, 0, 0, 1, 1, 0, 0, 0, 0, 1, 5, 0, 1, 0,\n",
       "       0, 1, 5, 0, 0, 0, 0, 0, 0, 0, 0, 0, 0, 0, 0, 0, 0, 0, 1, 0, 0, 1,\n",
       "       0, 0, 0, 1, 0, 0, 0, 0, 0, 1, 0, 0, 0, 0, 0, 0, 0, 1, 0, 0, 0, 0,\n",
       "       0, 0, 0, 0, 1, 1, 0, 1, 0, 0, 0, 1, 0, 0, 0, 0, 0, 0, 1, 0, 0, 0,\n",
       "       0, 1, 0, 0, 0, 3, 0, 0, 0, 0, 0, 0, 1, 0, 0, 0, 0, 0, 0, 0, 0, 0,\n",
       "       0, 0, 1, 4, 0, 0, 0, 0, 0, 1, 0, 0, 0, 0, 0, 0, 0, 0, 0, 1, 0, 0,\n",
       "       0, 1, 0, 0, 0, 0, 0, 0, 0, 2, 0, 0, 0, 0, 0, 0, 4, 0, 1, 0, 0, 0,\n",
       "       0, 0, 1, 0, 0, 0, 0, 0, 0, 0, 0, 0, 0, 0, 1, 0, 0, 0, 0, 0, 1, 0,\n",
       "       0, 0, 3, 0, 0, 0, 0, 0, 4, 0, 1, 0, 0, 0, 0, 0, 0, 0, 3, 5, 0, 0,\n",
       "       0, 0, 0, 0, 0, 0, 0, 1, 1, 0, 0, 0, 0, 0, 3, 0, 0, 1, 0, 4, 0, 0,\n",
       "       0, 1, 0, 0, 0, 0, 0, 0, 5, 0, 0, 2, 0, 0, 0, 0, 0, 1, 0, 0, 0, 1,\n",
       "       0, 0, 0, 0, 0, 0, 0, 0, 4, 0, 0, 0, 0, 0, 0, 0, 0, 0, 0, 0, 1, 0,\n",
       "       0, 0, 1, 0, 0, 0, 0, 0, 0, 0, 0, 0, 1, 0, 0, 0, 3, 0, 0, 0, 0, 0,\n",
       "       0, 1, 0, 0, 0, 5, 0, 0, 1, 0, 0, 0, 1, 0, 1, 0, 0, 0, 1, 0, 0, 0,\n",
       "       0, 0, 0, 2, 1, 0, 1, 0, 0, 0, 0, 0, 0, 0, 0, 0, 0, 0, 0, 1, 0, 2,\n",
       "       0, 3, 0, 0, 0, 0, 2, 0, 0, 0, 0, 0, 0, 0, 1, 0, 5, 1, 0, 0, 0, 0,\n",
       "       4, 0, 0, 0, 0, 0, 0, 0, 0, 0])"
      ]
     },
     "execution_count": 26,
     "metadata": {},
     "output_type": "execute_result"
    }
   ],
   "source": [
    "np.random.seed(28)\n",
    "\n",
    "# Race/Ethnicity - 6 options\n",
    "Race_Ethnicity = np.random.choice([0, 1, 2, 3, 4, 5], size=1000, p=[0.83, 0.11, 0.02, 0.02, 0.01, 0.01])\n",
    "Race_Ethnicity"
   ]
  },
  {
   "cell_type": "code",
   "execution_count": 27,
   "metadata": {},
   "outputs": [
    {
     "name": "stdout",
     "output_type": "stream",
     "text": [
      "Frequency of unique values of Race_Ethnicity array:\n",
      "[[  0   1   2   3   4   5]\n",
      " [804 128  22  22  13  11]]\n"
     ]
    }
   ],
   "source": [
    "# Frequency counts for unique values in the Race_Ethnicity array\n",
    "unique_elements, counts_elements = np.unique(Race_Ethnicity, return_counts=True)\n",
    "print(\"Frequency of unique values of Race_Ethnicity array:\")\n",
    "print(np.asarray((unique_elements, counts_elements)))"
   ]
  },
  {
   "cell_type": "markdown",
   "metadata": {},
   "source": [
    "## References\n",
    "\n",
    "[1] Software Freedom Conservancy. Git.\n",
    "\n",
    "https://git-scm.com/.\n",
    "\n",
    "[2] Inc. GitHub. Github.\n",
    "\n",
    "https://github.com/.\n",
    "\n",
    "[3] GMIT. Quality assurance framework.\n",
    "\n",
    "https://www.gmit.ie/general/quality-assurance-framework.\n",
    "\n",
    "[4] NumPy developers. Numpy.\n",
    "\n",
    "http://www.numpy.org/.\n",
    "\n",
    "[5] Project Jupyter. Project jupyter home.\n",
    "\n",
    "http://jupyter.org/.\n",
    "\n",
    "[6] Anaconda\n",
    "\n",
    "https://docs.anaconda.com/anaconda/\n",
    "\n",
    "[7] Python\n",
    "\n",
    "https://www.python.org/downloads/\n",
    "\n",
    "[8] Cmder software\n",
    "\n",
    "https://cmder.net/\n",
    "\n",
    "[9] https://pandas.pydata.org/\n",
    "\n",
    "[10] https://matplotlib.org/\n",
    "\n",
    "[11] Seaborn\n",
    "\n",
    "https://anaconda.org/anaconda/seaborn\n",
    "\n",
    "[12] https://www.scipy.org/\n",
    "\n",
    "[13] https://code.visualstudio.com/docs\n",
    "\n",
    "[14] Is there a way to edit a commit message on GitHub?\n",
    "\n",
    "https://superuser.com/questions/751699/is-there-a-way-to-edit-a-commit-message-on-github\n",
    "\n",
    "[15] Phone and internet use making teenagers unhappier than previous generations\n",
    "\n",
    "https://www.irishtimes.com/business/technology/phone-and-internet-use-making-teenagers-unhappier-than-previous-generations-1.3833840\n",
    "\n",
    "[16] Teens and Mobile Phones Over the Past Five Years: Pew Internet Looks Back\n",
    "\n",
    "https://www.pewresearch.org/internet/2009/08/19/teens-and-mobile-phones-over-the-past-five-years-pew-internet-looks-back/\n",
    "\n",
    "[17] https://docs.scipy.org/doc/numpy-1.14.0/reference/routines.random.html\n",
    "\n",
    "[18] Practical Tutorial on Data Manipulation with Numpy and Pandas in Python\n",
    "\n",
    "https://www.hackerearth.com/practice/machine-learning/data-manipulation-visualisation-r-python/tutorial-data-manipulation-numpy-pandas-python/tutorial/\n",
    "\n",
    "[19] https://www.dataquest.io/blog/numpy-tutorial-python/\n",
    "\n",
    "[20] How to generate random categorical data in python according to a probability distribution?\n",
    "\n",
    "https://stackoverflow.com/questions/57435469/how-to-generate-random-categorical-data-in-python-according-to-a-probability-dis\n",
    "\n",
    "[21] Synthetic data generation — a must-have skill for new data scientists\n",
    "\n",
    "https://towardsdatascience.com/synthetic-data-generation-a-must-have-skill-for-new-data-scientists-915896c0c1ae\n",
    "\n",
    "[22] https://realpython.com/python-random/#the-random-module\n",
    "\n",
    "[23] https://www.sharpsightlabs.com/blog/numpy-random-choice/#numpy-random-choice-examples\n",
    "\n",
    "[24] https://www.techbeamers.com/using-python-random/\n",
    "\n",
    "[25] https://docs.python.org/3/library/random.html\n",
    "\n",
    "[26] https://www.geeksforgeeks.org/numpy-mean-in-python/\n",
    "\n",
    "[27] https://stackoverflow.com/questions/44119653/creating-a-boxplot-with-matplotlib\n",
    "\n",
    "[28] https://matplotlib.org/3.1.1/gallery/statistics/boxplot.html\n",
    "\n",
    "[29] https://towardsdatascience.com/understanding-boxplots-5e2df7bcbd51\n",
    "\n",
    "[30] http://blog.bharatbhole.com/creating-boxplots-with-matplotlib/\n",
    "\n",
    "[31] https://realpython.com/python-histograms/#visualizing-histograms-with-matplotlib-and-pandas\n",
    "\n",
    "[32] https://datatofish.com/plot-histogram-python/\n",
    "\n",
    "[33] https://www.pythonprogramming.in/plot-histogram-with-specific-color-edge-color-and-line-width.html\n",
    "\n",
    "[34] What does numpy.random.seed(0) do?\n",
    "\n",
    "https://stackoverflow.com/questions/21494489/what-does-numpy-random-seed0-do\n",
    "\n",
    "[35] https://machinelearningmastery.com/how-to-calculate-the-5-number-summary-for-your-data-in-python/\n",
    "\n",
    "[36] https://stackoverflow.com/questions/50213733/how-to-create-np-array-random-data-on-age-vs-time\n",
    "\n",
    "[37] https://statisticsbyjim.com/basics/normal-distribution/\n",
    "\n",
    "[38] https://appliedmachinelearning.blog/2018/08/31/lets-talk-about-numeric-distributions-python/\n",
    "\n",
    "[39] https://towardsdatascience.com/fun-with-the-binomial-distribution-96a5ecabf65b\n",
    "\n",
    "[40] numpy: most efficient frequency counts for unique values in an array\n",
    "\n",
    "https://stackoverflow.com/questions/10741346/numpy-most-efficient-frequency-counts-for-unique-values-in-an-array\n",
    "\n",
    "[41] https://www.geekwire.com/2018/new-research-finds-95-teens-access-smartphone-45-online-almost-constantly/\n",
    "\n",
    "[42] https://edsource.org/2019/almost-a-third-of-teenagers-sleep-with-their-phones-survey-finds/612995\n",
    "\n",
    "[43] https://www.theguardian.com/commentisfree/2019/nov/01/smartphones-children-technology-mobile-phones\n",
    "\n",
    "[44] https://zeeko.ie/wp-content/uploads/2018/06/ZEEKO-TREND-REPORT-.pdf\n",
    "\n",
    "[45] https://www.ofcom.org.uk/__data/assets/pdf_file/0020/108182/children-parents-media-use-attitudes-2017.pdf\n",
    "\n",
    "[46] Triangular vs Normal distribution\n",
    "\n",
    "https://math.stackexchange.com/questions/1374785/triangular-vs-normal-distribution\n",
    "\n",
    "[47] https://www.webwise.ie/parents/5-apps-and-websites-teens-love/\n",
    "\n",
    "[48] https://musically.com/2017/06/28/spotify-overtaking-youtube-music-teenagers/\n",
    "\n",
    "[49] https://www.cso.ie/en/releasesandpublications/ep/p-gpii/geographicalprofilesofincomeinireland2016/incomeinireland/\n",
    "\n",
    "[50] https://www.cso.ie/en/releasesandpublications/ep/p-cp8iter/p8iter/p8e/\n",
    "\n",
    "[51] https://stackoverflow.com/questions/30700603/different-meanings-of-brackets-in-python\n",
    "\n",
    "[52] https://stackoverflow.com/questions/1221108/barchart-with-vertical-labels-in-python-matplotlib"
   ]
  },
  {
   "cell_type": "code",
   "execution_count": null,
   "metadata": {
    "scrolled": true
   },
   "outputs": [],
   "source": []
  }
 ],
 "metadata": {
  "kernelspec": {
   "display_name": "Python 3",
   "language": "python",
   "name": "python3"
  },
  "language_info": {
   "codemirror_mode": {
    "name": "ipython",
    "version": 3
   },
   "file_extension": ".py",
   "mimetype": "text/x-python",
   "name": "python",
   "nbconvert_exporter": "python",
   "pygments_lexer": "ipython3",
   "version": "3.7.4"
  }
 },
 "nbformat": 4,
 "nbformat_minor": 2
}
